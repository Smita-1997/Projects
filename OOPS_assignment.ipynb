{
 "cells": [
  {
   "cell_type": "raw",
   "id": "09b60a99-ec12-4804-8e9e-7b311dc671ab",
   "metadata": {},
   "source": [
    "1. What are the five key concepts of Object-Oriented Programming (OOP)?"
   ]
  },
  {
   "cell_type": "raw",
   "id": "49fff517-20a9-4929-a66e-70dc5744c30c",
   "metadata": {},
   "source": [
    "#Answer:-\n",
    "The 5 key components of OOPs are:-\n",
    "1.Encapsulation: This concept refers to bundling the data (attributes) and the methods (functions) that operate on the data into a single unit or class.\n",
    "2.Abstraction: Abstraction involves simplifying complex systems by modeling classes based on the essential properties and behaviors an object should have, without getting into the details of how these properties and behaviors are implemented.\n",
    "3.Inheritance: Inheritance is a mechanism by which one class (the subclass or derived class) inherits attributes and methods from another class (the superclass or base class). \n",
    "4.Polymorphism: Polymorphism allows objects of different classes to be treated as objects of a common superclass.\n",
    "5.Composition: Composition involves creating complex objects by combining simpler objects."
   ]
  },
  {
   "cell_type": "raw",
   "id": "ac70cecc-b93e-472c-a311-28982357664e",
   "metadata": {},
   "source": [
    "Q2. Write a Python class for a `Car` with attributes for `make`, `model`, and `year`. Include a method to display the car's information."
   ]
  },
  {
   "cell_type": "code",
   "execution_count": 1,
   "id": "8129c2a3-0d6a-43a7-a278-87cf55b60e96",
   "metadata": {},
   "outputs": [
    {
     "name": "stdout",
     "output_type": "stream",
     "text": [
      "Make: Hyundai\n",
      "Model: i20\n",
      "Year: 2024\n"
     ]
    }
   ],
   "source": [
    "class Car:\n",
    "    def __init__(self, make, model, year):\n",
    "        self.make = make\n",
    "        self.model = model\n",
    "        self.year = year\n",
    "\n",
    "    def display_info(self):\n",
    "        print(f\"Make: {self.make}\")\n",
    "        print(f\"Model: {self.model}\")\n",
    "        print(f\"Year: {self.year}\")\n",
    "\n",
    "\n",
    "my_car = Car(\"Hyundai\", \"i20\", 2024)\n",
    "my_car.display_info()"
   ]
  },
  {
   "cell_type": "raw",
   "id": "5a5ba5e6-07c6-4662-871e-51bd470a6370",
   "metadata": {},
   "source": [
    "Q3. Explain the difference between instance methods and class methods. Provide an example of each."
   ]
  },
  {
   "cell_type": "raw",
   "id": "a87106c1-1d8c-4c70-9631-89abdeec1c83",
   "metadata": {},
   "source": [
    "Answer:-\n",
    "Instance methods:- operate on an instance of a class and can access or modify instance attributes. \n",
    "Class methods:- operate on the class itself rather than on instances and use the @classmethod decorator."
   ]
  },
  {
   "cell_type": "code",
   "execution_count": 21,
   "id": "4d8d0fe5-e837-4a78-8b4c-e23873c67b89",
   "metadata": {},
   "outputs": [
    {
     "name": "stdout",
     "output_type": "stream",
     "text": [
      "Instance value: 5\n"
     ]
    }
   ],
   "source": [
    "#instance method\n",
    "class MyClass:\n",
    "    def __init__(self, value):\n",
    "        self.value = value\n",
    "\n",
    "    def instance_method(self):\n",
    "        return f\"Instance value: {self.value}\"\n",
    "\n",
    "obj = MyClass(5)\n",
    "print(obj.instance_method())"
   ]
  },
  {
   "cell_type": "code",
   "execution_count": 25,
   "id": "5c8d1290-b145-43d0-b439-e06f22b2e1f2",
   "metadata": {},
   "outputs": [
    {
     "data": {
      "text/plain": [
       "'smita'"
      ]
     },
     "execution_count": 25,
     "metadata": {},
     "output_type": "execute_result"
    }
   ],
   "source": [
    "#class method\n",
    "class Student:\n",
    "    def __init__(self, name):\n",
    "        self.name = name\n",
    "    @classmethod\n",
    "    def student_details(cls, name):\n",
    "        return cls(name)\n",
    "\n",
    "obj = Student.student_details(\"smita\")\n",
    "obj.name"
   ]
  },
  {
   "cell_type": "raw",
   "id": "58ddee2e-d331-4146-92d6-800f7b872f22",
   "metadata": {},
   "source": [
    "Q4.4. How does Python implement method overloading? Give an example."
   ]
  },
  {
   "cell_type": "code",
   "execution_count": 27,
   "id": "7ba2385c-1cd1-49ac-baa8-b4b5a48509ea",
   "metadata": {},
   "outputs": [
    {
     "name": "stdout",
     "output_type": "stream",
     "text": [
      "Make: Hyundai, Model: i20, Year: 2024\n"
     ]
    }
   ],
   "source": [
    "#Python handles method overloading by using default arguments, variable-length arguments\n",
    "\n",
    "class Car:\n",
    "    def __init__(self, make, model, year):\n",
    "        self.make = make\n",
    "        self.model = model\n",
    "        self.year = year\n",
    "\n",
    "    def display_info(self, year=None, model=None):\n",
    "        if year is not None and model is not None:\n",
    "            print(f\"Make: {self.make}, Model: {model}, Year: {year}\")\n",
    "        elif year is not None:\n",
    "            print(f\"Make: {self.make}, Year: {year}\")\n",
    "        elif model is not None:\n",
    "            print(f\"Make: {self.make}, Model: {model}\")\n",
    "        else:\n",
    "            print(f\"Make: {self.make}, Model: {self.model}, Year: {self.year}\")\n",
    "\n",
    "\n",
    "my_car = Car(\"Hyundai\", \"i20\", 2024)\n",
    "\n",
    "my_car.display_info()                     \n",
    " "
   ]
  },
  {
   "cell_type": "code",
   "execution_count": 29,
   "id": "d9c5061b-3c98-4c4f-b2a7-6e7f4cda5253",
   "metadata": {},
   "outputs": [
    {
     "name": "stdout",
     "output_type": "stream",
     "text": [
      "Make: Hyundai, Year: 2023\n"
     ]
    }
   ],
   "source": [
    "my_car.display_info(year=2023)"
   ]
  },
  {
   "cell_type": "code",
   "execution_count": 31,
   "id": "54f29181-9f58-4c53-89d9-0f103c16aba2",
   "metadata": {},
   "outputs": [
    {
     "name": "stdout",
     "output_type": "stream",
     "text": [
      "Make: Hyundai, Model: Volkswagon\n"
     ]
    }
   ],
   "source": [
    "my_car.display_info(model=\"Volkswagon\")"
   ]
  },
  {
   "cell_type": "code",
   "execution_count": 33,
   "id": "e9c46f54-48b6-422f-b6ce-121ca0a73918",
   "metadata": {},
   "outputs": [
    {
     "name": "stdout",
     "output_type": "stream",
     "text": [
      "Make: Hyundai, Model: Polo, Year: 2023\n"
     ]
    }
   ],
   "source": [
    "my_car.display_info(year=2023, model=\"Polo\")  "
   ]
  },
  {
   "cell_type": "raw",
   "id": "27d07401-46ee-4a0f-a6d0-bcaef3ada83c",
   "metadata": {},
   "source": [
    "Q.5. What are the three types of access modifiers in Python? How are they denoted?\n",
    "\n",
    "1.Public:-\n",
    "Public members (attributes and methods) are accessible from outside the class. They can be freely accessed and modified.\n",
    "No special prefix is used(abc)\n",
    "2.Protected:-\n",
    "Protected members are intended to be accessible within the class and its subclasses\n",
    "denoted with a single underscore prefix (_) is used.(_abc)\n",
    "3.Private:-\n",
    "Private members are intended to be accessible only within the class they are defined in. \n",
    "A double underscore prefix (__) is used.(__abc)\n"
   ]
  },
  {
   "cell_type": "raw",
   "id": "b439cebd-ef3b-4e53-92f5-bbd09da814c5",
   "metadata": {},
   "source": [
    "Q6. Describe the five types of inheritance in Python. Provide a simple example of multiple inheritance.\n",
    "\n",
    "\n"
   ]
  },
  {
   "cell_type": "raw",
   "id": "12a07cd4-6cb1-4b65-95dc-772578f44148",
   "metadata": {},
   "source": [
    "1.Single Inheritance:-\n",
    " A class inherits from a single parent class.\n",
    "2.Mulitiple Inheritance:-\n",
    "A class inherits from more than one parent class. It allows a class to combine attributes and methods from multiple classes.\n",
    "3.Multilevel Inheritance:-\n",
    "A class inherits from a parent class, and then another class inherits from that class, forming a chain of inheritance.\n",
    "4.Hierarchical Inheritance:-\n",
    "Multiple classes inherit from a single parent class. \n",
    "5.Hybrid Inheritance:-\n",
    "A combination of two or more types of inheritance.\n"
   ]
  },
  {
   "cell_type": "code",
   "execution_count": 35,
   "id": "cfdf2084-a893-468d-9ac4-762b53332008",
   "metadata": {},
   "outputs": [
    {
     "name": "stdout",
     "output_type": "stream",
     "text": [
      "Hello, I'm Ivaav\n"
     ]
    }
   ],
   "source": [
    "class Parent1:\n",
    "    def __init__(self, name):\n",
    "        self.name = name\n",
    "\n",
    "    def speak(self):\n",
    "        print(f\"Hello, I'm {self.name}\")\n",
    "\n",
    "class Parent2:\n",
    "    def __init__(self, age):\n",
    "        self.age = age\n",
    "\n",
    "    def info(self):\n",
    "        print(f\"I am {self.age} years old\")\n",
    "\n",
    "class Child(Parent1, Parent2):\n",
    "    def __init__(self, name, age):\n",
    "        Parent1.__init__(self, name)\n",
    "        Parent2.__init__(self, age)\n",
    "\n",
    "child = Child(\"Ivaav\", 2)\n",
    "child.speak()"
   ]
  },
  {
   "cell_type": "code",
   "execution_count": 37,
   "id": "69874075-653e-44a2-8c7b-24f90b450314",
   "metadata": {},
   "outputs": [
    {
     "name": "stdout",
     "output_type": "stream",
     "text": [
      "I am 2 years old\n"
     ]
    }
   ],
   "source": [
    "child.info()"
   ]
  },
  {
   "cell_type": "raw",
   "id": "1f67fbdd-49a2-4ab6-8259-1a8d9424cc4b",
   "metadata": {},
   "source": [
    "Q7.7. What is the Method Resolution Order (MRO) in Python? How can you retrieve it programmatically?"
   ]
  },
  {
   "cell_type": "raw",
   "id": "21620924-769b-4c94-8ac3-a3266cd6b8bf",
   "metadata": {},
   "source": [
    "answer:-\n",
    "Method Resolution Order (MRO) in Python refers to the order in which base classes are searched when calling a method on an instance. This order is particularly important in multiple inheritance scenarios to ensure that methods from the correct base class are invoked in the right sequence.\n",
    "\n",
    "we can retrieve the MRO of a class using the __mro__ attribute or the mro() method of the class. Both methods return a tuple or list of class objects in the order they are resolved.\n",
    "\n"
   ]
  },
  {
   "cell_type": "raw",
   "id": "637ec5e2-156c-41c8-a0c5-77c48035d96c",
   "metadata": {},
   "source": [
    "Q8. Create an abstract base class `Shape` with an abstract method `area()`. Then create two subclasses`Circle` and `Rectangle` that implement the `area()` method."
   ]
  },
  {
   "cell_type": "code",
   "execution_count": 51,
   "id": "89136013-7015-4d67-a838-8404efdadf98",
   "metadata": {},
   "outputs": [],
   "source": [
    "from abc import ABC, abstractmethod\n",
    "import math\n",
    "\n",
    "class Shape(ABC):\n",
    "    @abstractmethod\n",
    "    def area(self):\n",
    "        \"\"\"Method to compute the area of the shape\"\"\"\n",
    "        pass\n",
    "\n",
    "class Circle(Shape):\n",
    "    def __init__(self, radius):\n",
    "        self.radius = radius\n",
    "\n",
    "    def area(self):\n",
    "        return math.pi * (self.radius ** 2)\n",
    "\n",
    "class Rectangle(Shape):\n",
    "    def __init__(self, width, height):\n",
    "        self.width = width\n",
    "        self.height = height\n",
    "\n",
    "    def area(self):\n",
    "        return self.width * self.height\n",
    "\n",
    "obj = Circle(2)\n",
    "obj1 = Rectangle(6, 8)\n",
    "\n",
    "\n"
   ]
  },
  {
   "cell_type": "code",
   "execution_count": 47,
   "id": "ea9c5e2c-5b9c-495e-be9b-23edc13b150a",
   "metadata": {},
   "outputs": [
    {
     "data": {
      "text/plain": [
       "12.566370614359172"
      ]
     },
     "execution_count": 47,
     "metadata": {},
     "output_type": "execute_result"
    }
   ],
   "source": [
    "obj.area()"
   ]
  },
  {
   "cell_type": "code",
   "execution_count": 49,
   "id": "296efbe2-b2db-480f-a09a-9b260ee48a8f",
   "metadata": {},
   "outputs": [
    {
     "data": {
      "text/plain": [
       "48"
      ]
     },
     "execution_count": 49,
     "metadata": {},
     "output_type": "execute_result"
    }
   ],
   "source": [
    "obj1.area()"
   ]
  },
  {
   "cell_type": "raw",
   "id": "3183ae35-095d-4af1-a6d6-f5b01529afcc",
   "metadata": {},
   "source": [
    "Q9. Demonstrate polymorphism by creating a function that can work with different shape objects to calculate and print their areas."
   ]
  },
  {
   "cell_type": "code",
   "execution_count": 57,
   "id": "d587bbf3-1e00-4fe1-8c09-2214ab827254",
   "metadata": {},
   "outputs": [
    {
     "name": "stdout",
     "output_type": "stream",
     "text": [
      "The area is: 12.566370614359172\n"
     ]
    }
   ],
   "source": [
    "class Shape(ABC):\n",
    "    @abstractmethod\n",
    "    def area(self):\n",
    "        \"\"\"Method to compute the area of the shape\"\"\"\n",
    "        pass\n",
    "\n",
    "\n",
    "class Circle(Shape):\n",
    "    def __init__(self, radius):\n",
    "        self.radius = radius\n",
    "\n",
    "    def area(self):\n",
    "        return math.pi * (self.radius ** 2)\n",
    "\n",
    "class Rectangle(Shape):\n",
    "    def __init__(self, width, height):\n",
    "        self.width = width\n",
    "        self.height = height\n",
    "\n",
    "    def area(self):\n",
    "        return self.width * self.height\n",
    "\n",
    "def print_area(shape: Shape):\n",
    "    if isinstance(shape, Shape):\n",
    "        print(f\"The area is: {shape.area()}\")\n",
    "    else:\n",
    "        print(\"Provided object is not a Shape\")\n",
    "\n",
    "circle = Circle(2)\n",
    "rectangle = Rectangle(6, 8)\n",
    "\n",
    "print_area(circle)        \n"
   ]
  },
  {
   "cell_type": "code",
   "execution_count": 59,
   "id": "e925504a-8252-41ee-b8fc-4a4e0077b358",
   "metadata": {},
   "outputs": [
    {
     "name": "stdout",
     "output_type": "stream",
     "text": [
      "The area is: 48\n"
     ]
    }
   ],
   "source": [
    "print_area(rectangle)"
   ]
  },
  {
   "cell_type": "raw",
   "id": "754840a1-dd14-46cd-932d-a5860bb8c614",
   "metadata": {},
   "source": [
    "Q10. Implement encapsulation in a `BankAccount` class with private attributes for `balance` and`account_number`. Include methods for deposit, withdrawal, and balance inquiry"
   ]
  },
  {
   "cell_type": "code",
   "execution_count": 63,
   "id": "957c8919-2f57-41ab-9d2e-7188a3e60b89",
   "metadata": {},
   "outputs": [
    {
     "data": {
      "text/plain": [
       "'Account number: 123456789'"
      ]
     },
     "execution_count": 63,
     "metadata": {},
     "output_type": "execute_result"
    }
   ],
   "source": [
    "class BankAccount:\n",
    "    def __init__(self, account_number, initial_balance=0.0):\n",
    "        self.__account_number = account_number  \n",
    "        self.__balance = initial_balance       \n",
    "\n",
    "    def deposit(self, amount):\n",
    "        \"\"\"Method to deposit money into the account.\"\"\"\n",
    "        if amount > 0:\n",
    "            self.__balance += amount\n",
    "            print(f\"Deposited ${amount:.2f}. New balance is ${self.__balance:.2f}.\")\n",
    "        else:\n",
    "            print(\"Deposit amount must be positive.\")\n",
    "\n",
    "    def withdraw(self, amount):\n",
    "        \"\"\"Method to withdraw money from the account.\"\"\"\n",
    "        if 0 < amount <= self.__balance:\n",
    "            self.__balance -= amount\n",
    "            print(f\"Withdrew ${amount:.2f}. New balance is ${self.__balance:.2f}.\")\n",
    "        else:\n",
    "            print(\"Insufficient funds or invalid amount.\")\n",
    "\n",
    "    def get_balance(self):\n",
    "        \"\"\"Method to get the current balance.\"\"\"\n",
    "        return f\"Current balance: ${self.__balance:.2f}\"\n",
    "\n",
    "    def get_account_number(self):\n",
    "        \"\"\"Method to get the account number.\"\"\"\n",
    "        return f\"Account number: {self.__account_number}\"\n",
    "\n",
    "\n",
    "account = BankAccount(\"123456789\", 1000.0)\n",
    "account.get_account_number()  \n"
   ]
  },
  {
   "cell_type": "code",
   "execution_count": 65,
   "id": "80671ffd-8867-449e-a8c2-f307ad5b6850",
   "metadata": {},
   "outputs": [
    {
     "data": {
      "text/plain": [
       "'Current balance: $1000.00'"
      ]
     },
     "execution_count": 65,
     "metadata": {},
     "output_type": "execute_result"
    }
   ],
   "source": [
    "account.get_balance()"
   ]
  },
  {
   "cell_type": "code",
   "execution_count": 67,
   "id": "0fb0ea58-0354-4f10-85a2-5172188eefc0",
   "metadata": {},
   "outputs": [
    {
     "name": "stdout",
     "output_type": "stream",
     "text": [
      "Deposited $500.00. New balance is $1500.00.\n"
     ]
    }
   ],
   "source": [
    "account.deposit(500.0)  "
   ]
  },
  {
   "cell_type": "code",
   "execution_count": 69,
   "id": "7463bb05-59db-402d-bc91-99e777630622",
   "metadata": {},
   "outputs": [
    {
     "name": "stdout",
     "output_type": "stream",
     "text": [
      "Withdrew $200.00. New balance is $1300.00.\n"
     ]
    }
   ],
   "source": [
    "account.withdraw(200.0)"
   ]
  },
  {
   "cell_type": "code",
   "execution_count": 71,
   "id": "6006f4db-a271-4a38-8b02-2591dbcc7764",
   "metadata": {},
   "outputs": [
    {
     "name": "stdout",
     "output_type": "stream",
     "text": [
      "Insufficient funds or invalid amount.\n"
     ]
    }
   ],
   "source": [
    "account.withdraw(1500.0)"
   ]
  },
  {
   "cell_type": "code",
   "execution_count": 73,
   "id": "6ea72216-264d-4116-9048-a622bc3d4c4a",
   "metadata": {},
   "outputs": [
    {
     "data": {
      "text/plain": [
       "'Current balance: $1300.00'"
      ]
     },
     "execution_count": 73,
     "metadata": {},
     "output_type": "execute_result"
    }
   ],
   "source": [
    "account.get_balance()\n"
   ]
  },
  {
   "cell_type": "raw",
   "id": "b1dcf199-b292-474d-9b78-ad8466e2a2c6",
   "metadata": {},
   "source": [
    "Q11. Write a class that overrides the `__str__` and `__add__` magic methods. What will these methods allow you to do?"
   ]
  },
  {
   "cell_type": "code",
   "execution_count": 75,
   "id": "c4ede23e-186a-41ed-bdd3-c018df57a09c",
   "metadata": {},
   "outputs": [],
   "source": [
    "class Point:\n",
    "    def __init__(self, x, y):\n",
    "        self.x = x\n",
    "        self.y = y\n",
    "\n",
    "    def __str__(self):\n",
    "        \"\"\"Return a string representation of the point.\"\"\"\n",
    "        return f\"Point({self.x}, {self.y})\"\n",
    "\n",
    "    def __add__(self, other):\n",
    "        \"\"\"Add two points by adding their corresponding coordinates.\"\"\"\n",
    "        if isinstance(other, Point):\n",
    "            return Point(self.x + other.x, self.y + other.y)\n",
    "        return NotImplemented\n",
    "\n",
    "p1 = Point(3, 4)\n",
    "p2 = Point(1, 2)"
   ]
  },
  {
   "cell_type": "code",
   "execution_count": 81,
   "id": "b32e9575-a97c-485e-80a8-d7388b290553",
   "metadata": {},
   "outputs": [
    {
     "name": "stdout",
     "output_type": "stream",
     "text": [
      "Point(3, 4)\n"
     ]
    }
   ],
   "source": [
    "print(p1)"
   ]
  },
  {
   "cell_type": "code",
   "execution_count": 83,
   "id": "5b1ee224-fdf3-4143-bc00-1eaa6b735fb2",
   "metadata": {},
   "outputs": [
    {
     "name": "stdout",
     "output_type": "stream",
     "text": [
      "Point(1, 2)\n"
     ]
    }
   ],
   "source": [
    "print(p2)"
   ]
  },
  {
   "cell_type": "raw",
   "id": "bbf58123-6d9d-49fb-863c-b9cb8bdcf94a",
   "metadata": {},
   "source": [
    "Q12. Create a decorator that measures and prints the execution time of a function.\n",
    "\n",
    "\n"
   ]
  },
  {
   "cell_type": "code",
   "execution_count": 87,
   "id": "14a7c5ef-080e-41b5-85b6-3485c3dd38cd",
   "metadata": {},
   "outputs": [
    {
     "name": "stdout",
     "output_type": "stream",
     "text": [
      "Execution time for example_function: 1.0408 seconds\n",
      "Result: 4950\n"
     ]
    }
   ],
   "source": [
    "import time\n",
    "\n",
    "def timing_decorator(func):\n",
    "    \"\"\"Decorator that prints the execution time of a function.\"\"\"\n",
    "    def wrapper(*args, **kwargs):\n",
    "        start_time = time.time() \n",
    "        result = func(*args, **kwargs)  \n",
    "        end_time = time.time()  \n",
    "        execution_time = end_time - start_time \n",
    "        print(f\"Execution time for {func.__name__}: {execution_time:.4f} seconds\")\n",
    "        return result  \n",
    "    return wrapper\n",
    "\n",
    "\n",
    "@timing_decorator\n",
    "def example_function(x):\n",
    "    \"\"\"A simple function that takes some time to execute.\"\"\"\n",
    "    total = 0\n",
    "    for i in range(x):\n",
    "        total += i\n",
    "        time.sleep(0.01)  \n",
    "    return total\n",
    "\n",
    "\n",
    "result = example_function(100)\n",
    "print(f\"Result: {result}\")"
   ]
  },
  {
   "cell_type": "raw",
   "id": "b1675f59-1baf-47f1-8dd6-a4a43f7f945a",
   "metadata": {},
   "source": [
    "Q13. Explain the concept of the Diamond Problem in multiple inheritance. How does Python resolve it?\n",
    "Diamond problem occur when a class inherits from 2 or more tha two class which will lead to ambiguity of method.\n",
    "To remove diamond problem python uses method resolution order(MRO) called C3 linearisation. means the class that is inherited first in the derived class that method will be called\n"
   ]
  },
  {
   "cell_type": "raw",
   "id": "167ea095-5d8a-42ca-81c7-e6e7650ee5ba",
   "metadata": {},
   "source": [
    "14. Write a class method that keeps track of the number of instances created from a class."
   ]
  },
  {
   "cell_type": "code",
   "execution_count": 103,
   "id": "293e475f-d67e-4d1c-9b1a-b4c252605862",
   "metadata": {},
   "outputs": [
    {
     "data": {
      "text/plain": [
       "3"
      ]
     },
     "execution_count": 103,
     "metadata": {},
     "output_type": "execute_result"
    }
   ],
   "source": [
    "class InstanceTracker:\n",
    "    _instance_count = 0\n",
    "\n",
    "    def __init__(self):\n",
    "        InstanceTracker._instance_count += 1\n",
    "\n",
    "    @classmethod\n",
    "    def get_instance_count(cls):\n",
    "        \"\"\"Class method to return the number of instances created.\"\"\"\n",
    "        return cls._instance_count\n",
    "\n",
    "    @classmethod\n",
    "    def reset_instance_count(cls):\n",
    "        \"\"\"Class method to reset the instance count to zero.\"\"\"\n",
    "        cls._instance_count = 0\n",
    "\n",
    "\n",
    "obj1 = InstanceTracker()\n",
    "obj2 = InstanceTracker()\n",
    "obj3 = InstanceTracker()\n",
    "\n",
    "InstanceTracker.get_instance_count()"
   ]
  },
  {
   "cell_type": "code",
   "execution_count": 107,
   "id": "fd7e781e-2818-4b76-af09-799a642b66cd",
   "metadata": {},
   "outputs": [],
   "source": [
    "InstanceTracker.reset_instance_count()\n"
   ]
  },
  {
   "cell_type": "code",
   "execution_count": 109,
   "id": "83f70c0e-c4a0-4e06-90ca-c4c99faeb078",
   "metadata": {},
   "outputs": [
    {
     "data": {
      "text/plain": [
       "0"
      ]
     },
     "execution_count": 109,
     "metadata": {},
     "output_type": "execute_result"
    }
   ],
   "source": [
    "InstanceTracker.get_instance_count()"
   ]
  },
  {
   "cell_type": "raw",
   "id": "ba248c0a-853b-46c9-ae52-713441be002d",
   "metadata": {},
   "source": [
    "15. Implement a static method in a class that checks if a given year is a leap year."
   ]
  },
  {
   "cell_type": "code",
   "execution_count": 89,
   "id": "9597189e-16ad-4b35-be86-b0373873f7dd",
   "metadata": {},
   "outputs": [
    {
     "data": {
      "text/plain": [
       "True"
      ]
     },
     "execution_count": 89,
     "metadata": {},
     "output_type": "execute_result"
    }
   ],
   "source": [
    "class YearUtils:\n",
    "    @staticmethod\n",
    "    def is_leap_year(year):\n",
    "        \"\"\"Static method to check if a given year is a leap year.\"\"\"\n",
    "        if (year % 4 == 0):\n",
    "            if (year % 100 == 0):\n",
    "                if (year % 400 == 0):\n",
    "                    return True\n",
    "                else:\n",
    "                    return False\n",
    "            else:\n",
    "                return True\n",
    "        else:\n",
    "            return False\n",
    "\n",
    "YearUtils.is_leap_year(2024)"
   ]
  },
  {
   "cell_type": "code",
   "execution_count": 91,
   "id": "1841063b-58d2-4800-8e28-2637225243a3",
   "metadata": {},
   "outputs": [
    {
     "data": {
      "text/plain": [
       "False"
      ]
     },
     "execution_count": 91,
     "metadata": {},
     "output_type": "execute_result"
    }
   ],
   "source": [
    "YearUtils.is_leap_year(1900)"
   ]
  },
  {
   "cell_type": "code",
   "execution_count": null,
   "id": "13b1e61c-4a92-4b73-b92d-e7145285b237",
   "metadata": {},
   "outputs": [],
   "source": []
  }
 ],
 "metadata": {
  "kernelspec": {
   "display_name": "Python 3 (ipykernel)",
   "language": "python",
   "name": "python3"
  },
  "language_info": {
   "codemirror_mode": {
    "name": "ipython",
    "version": 3
   },
   "file_extension": ".py",
   "mimetype": "text/x-python",
   "name": "python",
   "nbconvert_exporter": "python",
   "pygments_lexer": "ipython3",
   "version": "3.12.4"
  }
 },
 "nbformat": 4,
 "nbformat_minor": 5
}
