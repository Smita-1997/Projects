{
 "cells": [
  {
   "cell_type": "code",
   "execution_count": null,
   "id": "eea0866c-fbb6-4f2b-bb3f-da9644e80dba",
   "metadata": {},
   "outputs": [],
   "source": [
    "#Theoritical\n",
    "#Question1.What is Logistic Regression, and how does it differ from Linear Regression"
   ]
  },
  {
   "cell_type": "markdown",
   "id": "6afb4947-60ee-49a4-8ee5-4843908c6191",
   "metadata": {},
   "source": [
    "Answer\n",
    "Logistic Regression:\n",
    "Purpose: Used for binary classification problems, where the outcome is categorical with two classes (e.g., Yes/No, 0/1, True/False). It's used to predict the probability of a certain class or event occurring.\n",
    "\n",
    "Output: The output of logistic regression is a probability score between 0 and 1. This score can be interpreted as the probability of a data point belonging to a particular class (typically, class 1).\n",
    "\n",
    "Model Form: The model uses the logistic function (also called the sigmoid function), which maps any real-valued number into the range (0, 1).\n",
    "\n",
    "Linear Regression:\n",
    "Purpose: Used for regression problems, where the goal is to predict a continuous value (e.g., predicting house prices, stock prices, temperature).\n",
    "\n",
    "Output: The output of linear regression is a continuous value, which can range from negative infinity to positive infinity.\n",
    "\n",
    "Model Form: The model is based on the linear relationship between the independent variables and the dependent variable.\n",
    "\n",
    "Key Differences:\n",
    "\n",
    "Type of Problem:\n",
    "Logistic Regression: Used for classification (binary output).\n",
    "Linear Regression: Used for regression (continuous output).\n",
    "\n",
    "Output:\n",
    "Logistic Regression: Outputs a probability (between 0 and 1).\n",
    "Linear Regression: Outputs a continuous value (which can be any real number).\n",
    "\n",
    "Equation:\n",
    "Logistic Regression: Uses the logistic/sigmoid function to ensure the output is between 0 and 1.\n",
    "Linear Regression: Uses a linear equation to model the relationship between input features and the output.\n",
    "\n",
    "Error Metrics:\n",
    "Logistic Regression: Typically uses metrics like log-loss or cross-entropy.\n",
    "Linear Regression: Uses metrics like mean squared error (MSE) or R-squared."
   ]
  },
  {
   "cell_type": "code",
   "execution_count": null,
   "id": "c14adcb2-66cb-4326-abce-800f8f7df7eb",
   "metadata": {},
   "outputs": [],
   "source": [
    "#Question2. What is the mathematical equation of Logistic Regression.\n"
   ]
  },
  {
   "cell_type": "markdown",
   "id": "1ae8cecc-8d30-4651-b458-0d21bf4d0a63",
   "metadata": {},
   "source": [
    "Answer\n",
    "The mathematical equation for Logistic Regression involves the use of the logistic (sigmoid) function to map a linear combination of input features to a probability between 0 and 1.\n",
    "\n",
    "Logistic Regression Equation\n",
    "The general form of the logistic regression equation is:\n",
    "\n",
    "𝑃(𝑦=1∣𝑋) = 1/1+𝑒−(𝑏0+𝑏1𝑋1+𝑏2𝑋2+⋯+𝑏𝑛𝑋𝑛)\n",
    "Where:\n",
    "\n",
    "P(y=1∣X) is the probability that the output y is 1 (positive class) given the input features X.\n",
    "b0 is the intercept (bias term).\n",
    "𝑏1,𝑏2,…,𝑏𝑛are the coefficients (weights) associated with the input features X1 ,X2 ,…,Xn\n",
    "X1 ,X2 ,…,Xn  are the input features (predictor variables).\n",
    "e is the base of the natural logarithm (approximately 2.718)."
   ]
  },
  {
   "cell_type": "code",
   "execution_count": null,
   "id": "814a949f-6467-4e0f-b46f-4d157aa53d40",
   "metadata": {},
   "outputs": [],
   "source": [
    "#Question3. C Why do we use the Sigmoid function in Logistic Regression."
   ]
  },
  {
   "cell_type": "markdown",
   "id": "09943dae-1462-4b70-b391-122ba81557bf",
   "metadata": {},
   "source": [
    "Answer\n",
    "the sigmoid function is used in logistic regression because:\n",
    "\n",
    "It transforms the linear output into a valid probability between 0 and 1.\n",
    "It introduces non-linearity, allowing the model to capture complex patterns.\n",
    "It enables interpretation in terms of odds, making it suitable for classification problems.\n",
    "It is smooth and differentiable, making it suitable for optimization.\n",
    "Its saturating behavior helps avoid extreme and unrealistic predictions."
   ]
  },
  {
   "cell_type": "code",
   "execution_count": null,
   "id": "92f516c7-e973-4c69-9c93-1057e1da2bf4",
   "metadata": {},
   "outputs": [],
   "source": [
    "#Question4.What is the cost function of Logistic Regression."
   ]
  },
  {
   "cell_type": "raw",
   "id": "3e8cc59e-0550-430e-97d6-82d976708b8d",
   "metadata": {},
   "source": [
    "Answer\n",
    "The cost function for logistic regression is the binary cross-entropy (log-loss) function, which is designed to measure the difference between the true labels and the predicted probabilities. The goal is to minimize this cost function during training by adjusting the model's parameters (weights) through optimization techniques like gradient descent. The cost function ensures that the model produces accurate probability predictions for the binary classification task."
   ]
  },
  {
   "cell_type": "code",
   "execution_count": null,
   "id": "6f3b9eb6-639b-4ffb-8504-d96880ce2d7b",
   "metadata": {},
   "outputs": [],
   "source": [
    "#Question5.C What is Regularization in Logistic Regression? Why is it needed."
   ]
  },
  {
   "cell_type": "markdown",
   "id": "631260c0-fd3e-41c1-8650-95fadc13e7ef",
   "metadata": {},
   "source": [
    "Answer\n",
    "Regularization is a technique used in logistic regression to prevent overfitting by adding a penalty term to the cost function. It works by discouraging overly large model parameters (coefficients), leading to simpler and more generalizable models. The two most common types of regularization are L2 regularization (Ridge) and L1 regularization (Lasso), each with its benefits. Regularization is needed to ensure that the model generalizes well to new, unseen data and doesn't simply memorize the training data."
   ]
  },
  {
   "cell_type": "code",
   "execution_count": null,
   "id": "f3f152bf-3c4a-4089-a378-473e46793b4f",
   "metadata": {},
   "outputs": [],
   "source": [
    "#Question6.C Explain the difference between Lasso, Ridge, and Elastic Net regression"
   ]
  },
  {
   "cell_type": "markdown",
   "id": "2c482459-fb0f-4363-a84e-6548f670a183",
   "metadata": {},
   "source": [
    "Answer\n",
    "Ridge (L2) is used when you want to shrink coefficients to prevent large weights but don’t necessarily want to eliminate any features. It works well when you believe all features are somewhat important.\n",
    "Lasso (L1) is used when you want to perform feature selection by eliminating irrelevant features. It works well when you suspect many features are irrelevant and want to keep the model simple.\n",
    "Elastic Net is a combination of both Lasso and Ridge regularization, making it ideal when you have correlated features and want to balance between feature selection and shrinkage. It provides the flexibility of both L1 and L2 regularization."
   ]
  },
  {
   "cell_type": "code",
   "execution_count": null,
   "id": "ee46c432-96b4-431c-9034-becbf542934d",
   "metadata": {},
   "outputs": [],
   "source": [
    "#Question7.When should we use Elastic Net instead of Lasso or Ridge."
   ]
  },
  {
   "cell_type": "markdown",
   "id": "eb15384f-352e-43b6-ae2b-6c208b37cf15",
   "metadata": {},
   "source": [
    "Answer\n",
    " Use Elastic Net Instead of Lasso or Ridge\n",
    " \n",
    "1.When You Have Highly Correlated Features:\n",
    "Problem with Lasso: Lasso tends to select only one feature from a group of highly correlated features and set the others to zero. This is because Lasso applies an L1 penalty, which encourages sparsity and often leads to a situation where only one feature from a correlated group is selected, while others are discarded.\n",
    "\n",
    "Elastic Net Solution: Elastic Net can handle highly correlated features better because it combines both L1 and L2 penalties. The L2 part of Elastic Net allows the model to shrink the coefficients of correlated features together, rather than selecting just one and discarding the others. This helps maintain a balance between feature selection and regularization.\n",
    "\n",
    "When to choose Elastic Net: If your dataset contains many correlated features and you want to retain some of them while also performing regularization, Elastic Net is a better choice.\n",
    "\n",
    "2.When You Have More Features Than Samples (High-Dimensional Data):\n",
    "Problem with Ridge: Ridge tends to work well when the number of features is smaller than the number of observations. However, when you have more features than samples (i.e., a high-dimensional dataset), Ridge may not perform well at feature selection because it shrinks all coefficients but doesn't eliminate them.\n",
    "\n",
    "Problem with Lasso: Lasso can perform feature selection, but when there are more features than samples, it may struggle to provide stable solutions because it can overfit the data.\n",
    "\n",
    "Elastic Net Solution: Elastic Net combines the benefits of L1 regularization (feature selection) and L2 regularization (shrinkage) and is more robust when dealing with high-dimensional data. It can handle situations where the number of features exceeds the number of observations by performing both regularization and feature selection more effectively.\n",
    "\n",
    "When to choose Elastic Net: If you have a high-dimensional dataset (more features than samples), Elastic Net can provide a better balance between feature selection and regularization, ensuring the model doesn't overfit.\n",
    "\n",
    "3.When You Need to Balance Feature Selection and Regularization:\n",
    "Lasso performs aggressive feature selection, potentially setting coefficients to zero for many features. This is useful when you believe that only a few features are important.\n",
    "\n",
    "Ridge performs shrinkage of coefficients but does not set them to zero, which is useful when you believe all features have some predictive power, but you want to shrink their magnitudes to prevent overfitting.\n",
    "\n",
    "Elastic Net Solution: Elastic Net provides a balance between Lasso and Ridge. It performs both feature selection (like Lasso) and shrinkage (like Ridge), making it more flexible when you’re not sure whether to keep all features or just a few important ones.\n",
    "\n",
    "When to choose Elastic Net: If you want a mix of feature selection (removing irrelevant features) and shrinkage (to avoid overfitting), and you're unsure whether Lasso or Ridge would be better, Elastic Net is a good option.\n",
    "\n"
   ]
  },
  {
   "cell_type": "code",
   "execution_count": null,
   "id": "3f172799-e6fd-4ab5-a26d-629af2350fae",
   "metadata": {},
   "outputs": [],
   "source": [
    "#Question8.What is the impact of the regularization parameter (λ) in Logistic Regression."
   ]
  },
  {
   "cell_type": "markdown",
   "id": "c55bd66d-2260-435b-b975-d650879c8a9a",
   "metadata": {},
   "source": [
    "Answer\n",
    "λ=0: No regularization. The model may overfit.\n",
    "Small λ: Mild regularization. The model is more likely to fit the data well without overfitting, but still may be prone to it.\n",
    "Large λ: Strong regularization. The model becomes simpler, reducing the risk of overfitting, but can lead to underfitting if λ is too large.\n",
    "The optimal λ is typically selected using cross-validation, which minimizes generalization error and avoids both overfitting and underfitting."
   ]
  },
  {
   "cell_type": "code",
   "execution_count": null,
   "id": "c4c3f7a7-fd75-4868-af44-661064a2b5ef",
   "metadata": {},
   "outputs": [],
   "source": [
    "#Question9.What are the key assumptions of Logistic Regression."
   ]
  },
  {
   "cell_type": "markdown",
   "id": "e7fa9d22-1dbf-4a48-83e8-4c566e18c70b",
   "metadata": {},
   "source": [
    "Answer\n",
    "Key Assumptions of logistics regression\n",
    "1.Binary Outcome: The dependent variable should be binary (two categories).\n",
    "2.Independence of Observations: Observations should be independent of each other.\n",
    "3.Linearity of Log-Odds: The relationship between the predictors and the log-odds of the outcome should be linear.\n",
    "4.No Multicollinearity: Independent variables should not be highly correlated.\n",
    "5.Sufficient Sample Size: A sufficient number of data points are required to estimate model parameters reliably.\n",
    "6.No Strong Outliers: The data should not have extreme outliers that disproportionately affect the model.\n",
    "7.Homoscedasticity: While not a strict assumption in logistic regression, it is still good practice to check for constant variance of errors.\n",
    "8.Correct Model Specification: The model should be correctly specified, with relevant predictors included and proper transformations if necessary."
   ]
  },
  {
   "cell_type": "code",
   "execution_count": null,
   "id": "4d51c912-77bb-4990-8c21-4bdbad1fa405",
   "metadata": {},
   "outputs": [],
   "source": [
    "#Question10.What are some alternatives to Logistic Regression for classification tasks."
   ]
  },
  {
   "cell_type": "markdown",
   "id": "7a792613-1994-4981-a078-80a2c1b427f6",
   "metadata": {},
   "source": [
    "Answer\n",
    "1.Decision Trees\n",
    "Description: Decision Trees are a non-linear classification model that splits the data into distinct regions based on feature values. The tree is built by recursively partitioning the data into subsets based on the feature that results in the best split (e.g., using Gini impurity or Information Gain).\n",
    "Advantages:\n",
    "Easy to understand and interpret.\n",
    "Can handle both numerical and categorical features.\n",
    "Can model non-linear relationships.\n",
    "Disadvantages:\n",
    "Prone to overfitting, especially with deep trees.\n",
    "Sensitive to small changes in the data.\n",
    "Unstable unless pruned.\n",
    "When to use: When you need an interpretable model, and there is a non-linear relationship between features and the target variable.\n",
    "\n",
    "2. Random Forest\n",
    "Description: Random Forest is an ensemble learning method that combines multiple Decision Trees to improve classification accuracy. Each tree is trained on a random subset of the data, and the final classification is determined by a majority vote from all the trees.\n",
    "Advantages:\n",
    "Reduces overfitting compared to individual Decision Trees.\n",
    "Handles large datasets well.\n",
    "Works well with both categorical and continuous variables.\n",
    "Disadvantages:\n",
    "Less interpretable than a single Decision Tree.\n",
    "Can be computationally expensive and slower to train.\n",
    "When to use: When you need an accurate model and can sacrifice interpretability, and when you have a large dataset.\n",
    "\n",
    "3. Support Vector Machines (SVM)\n",
    "Description: Support Vector Machines are powerful classifiers that work by finding the hyperplane that best separates the data points of different classes in a high-dimensional space. It uses kernel functions to handle non-linear boundaries.\n",
    "Advantages:\n",
    "Can handle high-dimensional data well.\n",
    "Effective in cases of non-linear decision boundaries (with kernel trick).\n",
    "Robust to overfitting, especially in high-dimensional spaces.\n",
    "Disadvantages:\n",
    "Computationally expensive, especially for large datasets.\n",
    "Sensitive to the choice of kernel and hyperparameters.\n",
    "Less interpretable than Decision Trees.\n",
    "When to use: When the data is high-dimensional or when you need a model that can handle non-linear decision boundaries.\n",
    "\n",
    "4. k-Nearest Neighbors (k-NN)\n",
    "Description: k-NN is a simple, instance-based learning algorithm that classifies a new point based on the majority class of its k nearest neighbors in the feature space.\n",
    "Advantages:\n",
    "Simple to understand and implement.\n",
    "No training phase (instance-based).\n",
    "Can handle multi-class problems easily.\n",
    "Disadvantages:\n",
    "Computationally expensive during prediction (slow for large datasets).\n",
    "Sensitive to the choice of distance metric (e.g., Euclidean).\n",
    "Struggles with high-dimensional data (curse of dimensionality).\n",
    "When to use: When you need a simple model and your dataset is small to medium-sized.\n",
    "\n",
    "5. Naive Bayes\n",
    "Description: Naive Bayes is a family of probabilistic classifiers based on Bayes' Theorem. It assumes that features are conditionally independent given the class label (this assumption is often violated in practice but still works well in many cases).\n",
    "Advantages:\n",
    "Very fast, even for large datasets.\n",
    "Works well with high-dimensional data (e.g., text classification).\n",
    "Can handle both binary and multi-class classification problems.\n",
    "Disadvantages:\n",
    "Assumes independence between features, which is often unrealistic.\n",
    "Performance may suffer when the assumption of independence is violated.\n",
    "When to use: When you have high-dimensional data, like text data, and need a fast and efficient model.\n",
    "\n",
    "6. Gradient Boosting Machines (GBM)\n",
    "Description: Gradient Boosting is an ensemble technique that builds models sequentially by training new models to correct the errors made by previous ones. It can be applied to Decision Trees or other base learners.\n",
    "Advantages:\n",
    "Often produces very accurate models.\n",
    "Can handle complex relationships and interactions between features.\n",
    "Robust to overfitting with proper regularization.\n",
    "Disadvantages:\n",
    "Computationally expensive and slow to train.\n",
    "Requires careful tuning of hyperparameters.\n",
    "When to use: When you need a high-accuracy model and are willing to invest in hyperparameter tuning and computational resources.\n",
    "\n",
    "7. XGBoost (Extreme Gradient Boosting)\n",
    "Description: XGBoost is an optimized and efficient implementation of Gradient Boosting that is widely used in data science competitions. It includes regularization techniques to reduce overfitting and improve generalization.\n",
    "Advantages:\n",
    "Very fast and efficient, especially with large datasets.\n",
    "Includes regularization, making it less prone to overfitting.\n",
    "Highly scalable and widely used in industry.\n",
    "Disadvantages:\n",
    "Requires tuning and careful cross-validation.\n",
    "Complex and less interpretable.\n",
    "When to use: When you need high performance and efficiency, especially on large datasets or in competitions.\n",
    "\n",
    "8. LightGBM (Light Gradient Boosting Machine)\n",
    "Description: LightGBM is another gradient boosting framework that is optimized for efficiency and speed. It is designed to handle large datasets and works well with categorical features.\n",
    "Advantages:\n",
    "Very fast and scalable.\n",
    "Handles categorical features natively.\n",
    "Often more efficient than XGBoost on large datasets.\n",
    "Disadvantages:\n",
    "Requires careful tuning.\n",
    "Like other boosting methods, it is less interpretable than simpler models like Decision Trees.\n",
    "When to use: When you have large datasets and need high-performance, scalable models.\n",
    "\n",
    "9. Neural Networks (Deep Learning)\n",
    "Description: Neural Networks (or Deep Learning models) consist of multiple layers of interconnected neurons that can learn complex relationships in the data. They are highly flexible and can be applied to a variety of data types, including images, text, and time series.\n",
    "Advantages:\n",
    "Can model highly complex non-linear relationships.\n",
    "Works well with large datasets, especially for unstructured data (images, text).\n",
    "Highly flexible, can be adapted for many different types of problems.\n",
    "Disadvantages:\n",
    "Requires large amounts of data and computational power.\n",
    "Difficult to interpret.\n",
    "Prone to overfitting if not properly regularized.\n",
    "When to use: When you have large datasets and need to capture highly complex relationships, especially in unstructured data like images or text.\n",
    "\n",
    "10. Linear Discriminant Analysis (LDA)\n",
    "Description: LDA is a classification technique that finds the linear combination of features that best separates multiple classes. It assumes that the features for each class are normally distributed and share the same covariance matrix.\n",
    "Advantages:\n",
    "Works well when classes are linearly separable.\n",
    "Computationally less expensive compared to non-linear methods like SVM.\n",
    "Disadvantages:\n",
    "Assumes normality and equal covariance across classes, which may not hold in many cases.\n",
    "Less effective when the data is non-linearly separable.\n",
    "When to use: When the data is approximately linearly separable, and you want a fast, interpretable model."
   ]
  },
  {
   "cell_type": "code",
   "execution_count": null,
   "id": "d0b1923a-8076-4f83-9c50-409b761bff98",
   "metadata": {},
   "outputs": [],
   "source": [
    "#Question11. What are Classification Evaluation Metrics."
   ]
  },
  {
   "cell_type": "markdown",
   "id": "57210210-82df-4c87-9799-2dc71394bd21",
   "metadata": {},
   "source": [
    "Answer\n",
    "Classification Evaluation Metrics are essential tools used to assess the performance of classification models. These metrics help determine how well a model is performing in terms of predicting the correct class labels. Below is a comprehensive overview of the key evaluation metrics commonly used in classification tasks:\n",
    "1.Accuracy is the proportion of correct predictions (both true positives and true negatives) out of all predictions.\n",
    "2.Precision is the proportion of true positive predictions (correctly predicted positives) out of all positive predictions made by the model.\n",
    "3.Recall is the proportion of true positive predictions out of all the actual positives in the data (including both correct and incorrect predictions).\n",
    "4.The F1-score is the harmonic mean of precision and recall, which balances the trade-off between the two metrics. It is particularly useful when the data is imbalanced and neither precision nor recall alone is a good indicator of performance.\n",
    "5.Specificity is the proportion of true negative predictions out of all the actual negatives.\n",
    "6.The MCC is a metric that measures the quality of binary classification, considering all four elements of the confusion matrix (TP, TN, FP, FN). It is a balanced metric that works well even for imbalanced datasets."
   ]
  },
  {
   "cell_type": "code",
   "execution_count": null,
   "id": "7c11c729-df7e-412b-8359-ccc96f47c407",
   "metadata": {},
   "outputs": [],
   "source": [
    "#Question12. How does class imbalance affect Logistic Regression."
   ]
  },
  {
   "cell_type": "markdown",
   "id": "7262b163-40f5-4cfa-a51a-05a6a5f60f44",
   "metadata": {},
   "source": [
    "Answer\n",
    "Class imbalance can significantly affect the performance of Logistic Regression, leading to poor performance on the minority class. The model may become biased toward the majority class, resulting in high accuracy but low recall and precision for the minority class. To address this, several techniques can be used:\n",
    "\n",
    "1.Resampling (over-sampling the minority class or under-sampling the majority class).\n",
    "2.Class weighting to make the model more sensitive to the minority class.\n",
    "3.Using appropriate evaluation metrics (precision, recall, F1-score, AUC-ROC) to assessperformance more accurately.\n",
    "4.Adjusting the decision threshold to better balance the prediction of both classes.\n",
    "5.Using ensemble methods like Random Forests or Gradient Boosting for improved performance."
   ]
  },
  {
   "cell_type": "code",
   "execution_count": null,
   "id": "5ab4d3ce-faf3-41e7-ab49-c3a969cb18ee",
   "metadata": {},
   "outputs": [],
   "source": [
    "#Question13. What is Hyperparameter Tuning in Logistic Regression.\n"
   ]
  },
  {
   "cell_type": "markdown",
   "id": "25be70e6-464c-4c59-81e0-44e6d6483a2c",
   "metadata": {},
   "source": [
    "Answer\n",
    "Hyperparameter tuning in Logistic Regression refers to the process of optimizing the parameters that are set before training the model. These hyperparameters affect the performance of the logistic regression model and are not learned from the data during training. Instead, they are manually set by the user or determined through tuning techniques."
   ]
  },
  {
   "cell_type": "code",
   "execution_count": null,
   "id": "03398005-57e1-43b9-8e75-e56192aaa599",
   "metadata": {},
   "outputs": [],
   "source": [
    "#Question14.What are different solvers in Logistic Regression? Which one should be used."
   ]
  },
  {
   "cell_type": "markdown",
   "id": "1658f85d-84e5-43c2-9e67-4eaf4fa08c2a",
   "metadata": {},
   "source": [
    "Answer\n",
    "Use liblinear if the dataset is small and you need L1 regularization.\n",
    "Use lbfgs for large datasets with L2 regularization.\n",
    "Use saga for large datasets when you need flexibility with L1 or L2 regularization, or if you're working with elastic net regularization.\n",
    "Use sgd when you are working with very large datasets and can afford to fine-tune hyperparameters."
   ]
  },
  {
   "cell_type": "code",
   "execution_count": null,
   "id": "dbe7cdef-0715-4b46-8a6f-9391766ef4b6",
   "metadata": {},
   "outputs": [],
   "source": [
    "#Question15.C How is Logistic Regression extended for multiclass classification."
   ]
  },
  {
   "cell_type": "markdown",
   "id": "79201645-e53d-4830-805c-c6131624c75e",
   "metadata": {},
   "source": [
    "Answer\n",
    "In Logistic Regression, the algorithm is initially designed for binary classification (predicting two possible outcomes). However, for multiclass classification (when there are more than two classes), Logistic Regression can be extended using two main approaches: One-vs-Rest (OvR) and Multinomial Logistic Regression (Softmax Regression).\n",
    " 1.One-vs-Rest approach, logistic regression is trained separately for each class, treating it as the \"positive\" class, while all other classes are treated as \"negative.\"\n",
    " \n",
    "2. Multinomial Logistic Regression, also known as Softmax Regression, the model is directly extended to handle multiple classes in a single model. Instead of having multiple binary classifiers, multinomial logistic regression uses the softmax function to compute the probabilities for each class based on the input features.\n",
    "\n",
    "The model computes a probability distribution over all the classes by calculating a score (logits) for each class. The softmax function then normalizes these scores to produce a probability value for each class, ensuring the sum of all class probabilities is 1."
   ]
  },
  {
   "cell_type": "code",
   "execution_count": null,
   "id": "e8e0cfdc-c96e-4fc5-bf72-9564c4a0776d",
   "metadata": {},
   "outputs": [],
   "source": [
    "#Question16. What are the advantages and disadvantages of Logistic Regression."
   ]
  },
  {
   "cell_type": "markdown",
   "id": "5d22150d-3c4d-4ae0-a5fb-25c7e9cc5f51",
   "metadata": {},
   "source": [
    "Answer\n",
    "Advantages of Logistic Regression:\n",
    "\n",
    "Simplicity and Interpretability:\n",
    "Simple to understand and implement: Logistic Regression is easy to understand conceptually and straightforward to implement in code.\n",
    "Interpretability: It provides clear and interpretable coefficients, which can tell you how each feature influences the outcome. This is particularly useful in applications where model transparency is required, such as in healthcare, finance, and other regulated industries.\n",
    "\n",
    "Efficient for Binary Classification:\n",
    "Logistic Regression works very well for binary classification problems (i.e., predicting two classes). Its probabilistic nature provides an advantage in cases where you need predicted probabilities (for example, for risk assessment).\n",
    "\n",
    "Probabilistic Output:\n",
    "The output of Logistic Regression is a probability, which gives an understanding of the model's certainty about the prediction. This is useful for decision-making (e.g., thresholding the probability for different risk levels).\n",
    "The probabilities produced can be useful for tasks that need confidence levels for classification, rather than just hard class predictions.\n",
    "\n",
    "Scalability:\n",
    "Computationally efficient: Logistic Regression works well for large datasets and is relatively fast to train compared to more complex models like neural networks.\n",
    "It doesn’t require a lot of memory or computational power, making it scalable for both small and large datasets.\n",
    "\n",
    "Works well with Linearly Separable Data:\n",
    "Logistic Regression performs very well when the data is linearly separable, meaning the classes can be separated by a straight line or hyperplane in higher dimensions.\n",
    "\n",
    "Regularization:\n",
    "Logistic Regression supports regularization techniques (such as L1 and L2) that can help in reducing overfitting, especially in high-dimensional feature spaces.\n",
    "\n",
    "Less Prone to Overfitting (with Regularization):\n",
    "Regularized Logistic Regression (using L1 or L2 regularization) can prevent overfitting, making it effective even in cases with high-dimensional data or when the number of features exceeds the number of samples.\n",
    "\n",
    "Disadvantages of Logistic Regression:\n",
    "Assumption of Linearity:\n",
    "Linear decision boundary: Logistic Regression assumes a linear relationship between the input features and the output class. This means it may not perform well on complex, non-linear decision boundaries. For more complex datasets, other algorithms like Decision Trees, SVM, or Neural Networks may perform better.\n",
    "\n",
    "Limited to Binary or Multiclass with Extensions:\n",
    "While Logistic Regression can handle multiclass classification (using techniques like One-vs-Rest or Multinomial Logistic Regression), it is originally designed for binary classification. It requires extensions to handle multiclass classification efficiently, making the setup and tuning more involved.\n",
    "\n",
    "Sensitivity to Feature Scaling:\n",
    "Logistic Regression is sensitive to the scale of the input features. Features with large differences in scale (e.g., one feature in the range 0–1 and another in the range 1000–10000) can negatively affect the model’s performance. Feature scaling (such as normalization or standardization) is often required before applying logistic regression.\n",
    "\n",
    "Assumes Independence of Features:\n",
    "Logistic Regression assumes that the features are independent of each other. In cases where features are highly correlated (multicollinearity), the model may produce biased estimates of the coefficients, leading to less reliable predictions. Techniques like Principal Component Analysis (PCA) or Regularization can mitigate this issue.\n",
    "\n",
    "Not Well-Suited for High-Complexity Data:\n",
    "Logistic Regression may struggle when the dataset has high dimensionality (many features) or if there are complex interactions between features that cannot be captured by linear decision boundaries. In such cases, more flexible algorithms like Random Forests, SVM, or Neural Networks might perform better.\n",
    "\n",
    "Overfitting on Small Datasets:\n",
    "While regularization helps prevent overfitting, Logistic Regression can still overfit when trained on small datasets, especially if there are many features. Overfitting can lead to poor generalization performance on unseen data.\n",
    "\n",
    "Requires Large Datasets for Robust Performance:\n",
    "Logistic Regression can require a large amount of data to train effectively, especially when the problem involves many features. For small datasets, it may not perform well and could exhibit high variance.\n",
    "\n",
    "No Support for Non-Linear Relationships (without Transformations):\n",
    "By default, Logistic Regression is linear in nature, meaning that it won’t capture non-linear relationships between features and the target variable. Although you can use feature transformations (such as polynomial features) to introduce non-linearities, the model itself doesn’t inherently model complex relationships.\n",
    "\n",
    "Assumes No Outliers:\n",
    "Logistic Regression is sensitive to outliers. Outliers in the dataset can affect the model’s coefficients and predictions, leading to reduced performance. Preprocessing steps to handle outliers are important when using Logistic Regression."
   ]
  },
  {
   "cell_type": "code",
   "execution_count": null,
   "id": "2ba3ca36-ae30-424e-a20c-084ea27167aa",
   "metadata": {},
   "outputs": [],
   "source": [
    "#Question17. What are some use cases of Logistic Regression."
   ]
  },
  {
   "cell_type": "markdown",
   "id": "9a9060b2-d096-425a-9d4f-2d5e6fa5f85c",
   "metadata": {},
   "source": [
    "Answer:\n",
    "Logistic Regression is widely used in domains where the goal is to predict a binary or probabilistic outcome. Some of its most common applications include:\n",
    "\n",
    "Healthcare (diagnosis, risk prediction)\n",
    "Marketing (customer churn, CTR)\n",
    "Finance (credit scoring, fraud detection)\n",
    "Social Sciences (survey analysis, voting behavior)\n",
    "Retail & E-commerce (purchase prediction)\n",
    "NLP & Text Analysis (sentiment analysis)\n",
    "Manufacturing & Quality Control (defect detection)"
   ]
  },
  {
   "cell_type": "code",
   "execution_count": null,
   "id": "136c0b75-ab12-44b8-a677-0b43b10f38a3",
   "metadata": {},
   "outputs": [],
   "source": [
    "#Question18. What is the difference between Softmax Regression and Logistic Regression."
   ]
  },
  {
   "cell_type": "markdown",
   "id": "2cb327bb-d170-4384-b4c3-b740208d8a37",
   "metadata": {},
   "source": [
    "Answer\n",
    "1.Nature of Classification Problem:\n",
    "Logistic Regression:\n",
    "Primarily used for binary classification (i.e., problems where the target variable has two classes).\n",
    "The output is the probability of belonging to one of the two classes (e.g., 0 or 1), and the model uses the sigmoid function to map predictions to a probability between 0 and 1.\n",
    "Softmax Regression (Multinomial Logistic Regression):\n",
    "Used for multiclass classification (i.e., problems where the target variable has more than two classes).\n",
    "\n",
    "2.Activation Function Used:\n",
    "Logistic Regression:\n",
    "Uses the sigmoid function for binary classification. The sigmoid function squashes the output to a value between 0 and 1\n",
    "It outputs a probability for just one class (usually class 1), and the complement (1 - probability) gives the probability for class 0.\n",
    "Softmax Regression:\n",
    "Uses the softmax function for multiclass classification. The softmax function calculates the probabilities of each class in the output vector by comparing the relative scores (logits) for each class\n",
    "This ensures that the output is a probability distribution across all classes, with the sum of probabilities equal to 1.\n",
    "\n",
    "3.Model Output:\n",
    "Logistic Regression:\n",
    "Outputs a single probability value between 0 and 1, which is interpreted as the probability of class 1 (the positive class) in a binary classification task.\n",
    "The class with the highest probability is chosen as the predicted class (usually 0 or 1).\n",
    "Softmax Regression:\n",
    "Outputs a probability distribution across multiple classes (e.g., for three classes, it gives three probabilities that sum to 1).\n",
    "The class with the highest probability is selected as the predicted class (i.e., the class with the highest softmax score).\n",
    "\n",
    "4.Usage in Multiclass Classification:\n",
    "Logistic Regression:\n",
    "Not directly suited for multiclass classification. However, it can be adapted for multiclass problems using techniques like One-vs-Rest (OvR), where multiple binary classifiers are trained, each one responsible for predicting whether an instance belongs to a particular class or not.\n",
    "Softmax Regression:\n",
    "Naturally suited for multiclass classification. It directly handles multiclass problems by modeling the probabilities of each class simultaneously in a single model.\n",
    "\n",
    "5.Complexity and Computational Cost:\n",
    "Logistic Regression:\n",
    "Logistic regression is relatively simpler and computationally cheaper because it only deals with binary classification and uses a sigmoid function, which is computationally less expensive than the softmax function.\n",
    "Softmax Regression:\n",
    "Softmax regression involves computing the softmax function for multiple classes and is generally more computationally expensive than logistic regression, especially when the number of classes is large.\n"
   ]
  },
  {
   "cell_type": "code",
   "execution_count": null,
   "id": "815e2026-fb14-44e4-aff6-0dfff5cd5402",
   "metadata": {},
   "outputs": [],
   "source": [
    "#Question19. How do we choose between One-vs-Rest (OvR) and Softmax for multiclass classification.\n"
   ]
  },
  {
   "cell_type": "markdown",
   "id": "73847df6-2512-4b7f-94ea-341c39986a4b",
   "metadata": {},
   "source": [
    "Answer\n",
    "Softmax Regression is the more efficient, natural, and robust choice for multiclass classification when classes are mutually exclusive and you want a single model that can output a probability distribution across all classes.\n",
    "One-vs-Rest (OvR) is a flexible approach, especially when you need to use different classifiers for each class, or when you're working with multi-label problems or non-mutually exclusive classes. However, it can be computationally more expensive and prone to errors due to the independent nature of the classifiers."
   ]
  },
  {
   "cell_type": "code",
   "execution_count": null,
   "id": "c848b880-1d64-44eb-9688-a0eb421c4d4f",
   "metadata": {},
   "outputs": [],
   "source": [
    "#Question20. How do we interpret coefficients in Logistic Regression?"
   ]
  },
  {
   "cell_type": "markdown",
   "id": "0ae65507-1d5c-4878-99a2-52c0d5d4f8f9",
   "metadata": {},
   "source": [
    "Answer\n",
    " Interpretation:\n",
    "Coefficient (βi): Represents the change in log-odds of the positive class for a one-unit increase in the feature, with all other features held constant.\n",
    "Odds Ratio (eβi): Represents the multiplicative change in the odds of the positive class for a one-unit increase in the feature, with all other features held constant.\n",
    "OR > 1: Feature increases the odds of the positive class.\n",
    "OR < 1: Feature decreases the odds of the positive class.\n",
    "OR = 1: Feature has no effect on the odds.\n",
    "Interpretability: Logistic regression’s coefficients are interpretable in terms of log-odds or odds ratios, making it easy to understand the effect of each feature on the probability of the target class."
   ]
  },
  {
   "cell_type": "markdown",
   "id": "1a7196c0-42b1-41e1-ba68-f86e250dcda9",
   "metadata": {},
   "source": [
    "#PRACTICAL\n",
    "#Question1.Write a Python program that loads a dataset, splits it into training and testing sets, applies LogisticRegression, and prints the model accuracy"
   ]
  },
  {
   "cell_type": "code",
   "execution_count": null,
   "id": "dd9d3a49-4627-4a03-b3d0-b40c2ae83d42",
   "metadata": {},
   "outputs": [],
   "source": [
    "Answer\n",
    "\r\n",
    "from sklearn.model_selection import train_test_split\r\n",
    "from sklearn.linear_model import LogisticRegression\r\n",
    "from sklearn.datasets import load_iris\r\n",
    "from sklearn.metrics import accuracy_scotaset\r\n",
    "data = load_iris()\r\n",
    "X = datFeatures\r\n",
    "y = data #0% testing)\r\n",
    "X_train, X_test, y_train, y_test = train_test_split(X, y, test_size=0.2, randomgression model\r\n",
    "model = LogisticRegression(the training data\r\n",
    "model.fit(Xdict on the test set\r\n",
    "y_pred = morint the model accuracy\r\n",
    "accuracy = accuracy_score(y_test, y_pred)\r\n",
    "print(f\"Model accuracy: {accuracy * 100:.2f}%\")\r\n"
   ]
  },
  {
   "cell_type": "markdown",
   "id": "30c83ccb-9f25-460e-add2-39197015d9e5",
   "metadata": {},
   "source": [
    "#Question2. Write a Python program to apply L1 regularization (Lasso) on a dataset using LogisticRegression(penalty='l1') and print the model accuracy?"
   ]
  },
  {
   "cell_type": "code",
   "execution_count": 5,
   "id": "198bd5a5-09ff-445c-b974-93f219bcfdea",
   "metadata": {},
   "outputs": [
    {
     "name": "stdout",
     "output_type": "stream",
     "text": [
      "Model accuracy with L1 regularization: 100.00%\n"
     ]
    }
   ],
   "source": [
    "#Answer\n",
    "\n",
    "from sklearn.model_selection import train_test_split\n",
    "from sklearn.linear_model import LogisticRegression\n",
    "from sklearn.datasets import load_iris\n",
    "from sklearn.metrics import accuracy_score\n",
    "\n",
    "\n",
    "data = load_iris()\n",
    "X = data.data  \n",
    "y = data.target  \n",
    "\n",
    "\n",
    "X_train, X_test, y_train, y_test = train_test_split(X, y, test_size=0.2, random_state=42)\n",
    "\n",
    "model = LogisticRegression(penalty='l1', solver='liblinear', max_iter=200)\n",
    "\n",
    "\n",
    "model.fit(X_train, y_train)\n",
    "\n",
    "\n",
    "y_pred = model.predict(X_test)\n",
    "\n",
    "\n",
    "accuracy = accuracy_score(y_test, y_pred)\n",
    "print(f\"Model accuracy with L1 regularization: {accuracy * 100:.2f}%\")\n"
   ]
  },
  {
   "cell_type": "markdown",
   "id": "a1111b2b-2105-4ed8-a127-3ddd7a0fde6f",
   "metadata": {},
   "source": [
    "Question3. Write a Python program to train Logistic Regression with L2 regularization (Ridge) using\r\n",
    "LogisticRegression(penalty='l2'). Print model accuracy and coefficient?\n",
    "C"
   ]
  },
  {
   "cell_type": "code",
   "execution_count": 7,
   "id": "0d7e664a-a53c-403e-96cc-8e98fcd7782b",
   "metadata": {},
   "outputs": [
    {
     "name": "stdout",
     "output_type": "stream",
     "text": [
      "Model accuracy with L2 regularization (Ridge): 100.00%\n",
      "Model coefficients:\n",
      "[[ 0.3711229   1.409712   -2.15210117 -0.95474179]\n",
      " [ 0.49400451 -1.58897112  0.43717015 -1.11187838]\n",
      " [-1.55895271 -1.58893375  2.39874554  2.15556209]]\n"
     ]
    }
   ],
   "source": [
    "\n",
    "from sklearn.model_selection import train_test_split\n",
    "from sklearn.linear_model import LogisticRegression\n",
    "from sklearn.datasets import load_iris\n",
    "from sklearn.metrics import accuracy_score\n",
    "\n",
    "\n",
    "data = load_iris()\n",
    "X = data.data  \n",
    "y = data.target  \n",
    "\n",
    "\n",
    "X_train, X_test, y_train, y_test = train_test_split(X, y, test_size=0.2, random_state=42)\n",
    "\n",
    "\n",
    "model = LogisticRegression(penalty='l2', solver='liblinear', max_iter=200)\n",
    "\n",
    "\n",
    "model.fit(X_train, y_train)\n",
    "\n",
    "\n",
    "y_pred = model.predict(X_test)\n",
    "\n",
    "\n",
    "accuracy = accuracy_score(y_test, y_pred)\n",
    "print(f\"Model accuracy with L2 regularization (Ridge): {accuracy * 100:.2f}%\")\n",
    "\n",
    "\n",
    "print(\"Model coefficients:\")\n",
    "print(model.coef_)\n"
   ]
  },
  {
   "cell_type": "markdown",
   "id": "f877ed53-35b5-4300-96e3-bf21660e1b41",
   "metadata": {},
   "source": [
    "Question4.C Write a Python program to train Logistic Regression with Elastic Net Regularization (penalty='elasticnet')C"
   ]
  },
  {
   "cell_type": "code",
   "execution_count": 9,
   "id": "b4d0377b-5a09-4ed4-8d16-1363d9624828",
   "metadata": {},
   "outputs": [
    {
     "name": "stderr",
     "output_type": "stream",
     "text": [
      "E:\\anaconda\\Lib\\site-packages\\sklearn\\linear_model\\_sag.py:350: ConvergenceWarning: The max_iter was reached which means the coef_ did not converge\n",
      "  warnings.warn(\n"
     ]
    },
    {
     "name": "stdout",
     "output_type": "stream",
     "text": [
      "Model accuracy with Elastic Net regularization: 100.00%\n",
      "Model coefficients:\n",
      "[[ 0.3867373   1.77346208 -2.42378977 -0.70315584]\n",
      " [ 0.07790522  0.          0.         -0.58427358]\n",
      " [-1.25687841 -1.52930709  2.59567853  2.07734749]]\n"
     ]
    }
   ],
   "source": [
    "#Answer\n",
    "\n",
    "data = load_iris()\n",
    "X = data.data  \n",
    "y = data.target  \n",
    "\n",
    "\n",
    "X_train, X_test, y_train, y_test = train_test_split(X, y, test_size=0.2, random_state=42)\n",
    "\n",
    "\n",
    "model = LogisticRegression(penalty='elasticnet', solver='saga', max_iter=200, l1_ratio=0.5)\n",
    "\n",
    "\n",
    "model.fit(X_train, y_train)\n",
    "\n",
    "\n",
    "y_pred = model.predict(X_test)\n",
    "\n",
    "\n",
    "accuracy = accuracy_score(y_test, y_pred)\n",
    "print(f\"Model accuracy with Elastic Net regularization: {accuracy * 100:.2f}%\")\n",
    "\n",
    "\n",
    "print(\"Model coefficients:\")\n",
    "print(model.coef_)\n"
   ]
  },
  {
   "cell_type": "markdown",
   "id": "95d34701-002d-4f35-8f7c-a3e7013456cd",
   "metadata": {},
   "source": [
    "Question5.C Write a Python program to train a Logistic Regression model for multiclass classification using \n",
    "multi_class='ovr"
   ]
  },
  {
   "cell_type": "code",
   "execution_count": 11,
   "id": "48f8c922-ac48-495b-862a-9557eab3b71d",
   "metadata": {},
   "outputs": [
    {
     "name": "stdout",
     "output_type": "stream",
     "text": [
      "Model accuracy with OvR multiclass classification: 100.00%\n",
      "Model coefficients:\n",
      "[[ 0.3711229   1.409712   -2.15210117 -0.95474179]\n",
      " [ 0.49400451 -1.58897112  0.43717015 -1.11187838]\n",
      " [-1.55895271 -1.58893375  2.39874554  2.15556209]]\n",
      "Model intercepts:\n",
      "[ 0.2478905   0.86408083 -1.00411267]\n"
     ]
    }
   ],
   "source": [
    "#Answer\n",
    "\n",
    "data = load_iris()\n",
    "X = data.data  \n",
    "y = data.target  \n",
    "\n",
    "\n",
    "X_train, X_test, y_train, y_test = train_test_split(X, y, test_size=0.2, random_state=42)\n",
    "\n",
    "\n",
    "model = LogisticRegression(multi_class='ovr', solver='liblinear', max_iter=200)\n",
    "\n",
    "\n",
    "model.fit(X_train, y_train)\n",
    "\n",
    "\n",
    "y_pred = model.predict(X_test)\n",
    "\n",
    "\n",
    "accuracy = accuracy_score(y_test, y_pred)\n",
    "print(f\"Model accuracy with OvR multiclass classification: {accuracy * 100:.2f}%\")\n",
    "\n",
    "\n",
    "print(\"Model coefficients:\")\n",
    "print(model.coef_)\n",
    "\n",
    "\n",
    "print(\"Model intercepts:\")\n",
    "print(model.intercept_)\n"
   ]
  },
  {
   "cell_type": "markdown",
   "id": "6415bb06-571d-4aa2-847d-ac648cff1db4",
   "metadata": {},
   "source": [
    "Question6.Write a Python program to apply GridSearchCV to tune the hyperparameters (C and penalty) of Logistic \n",
    "Regression. Print the best parameters and accuracy"
   ]
  },
  {
   "cell_type": "code",
   "execution_count": 15,
   "id": "42dd4ed7-a5a1-4227-afd1-3a3ed66b8f59",
   "metadata": {},
   "outputs": [
    {
     "name": "stdout",
     "output_type": "stream",
     "text": [
      "Best Hyperparameters: {'C': 1, 'penalty': 'l2'}\n",
      "Best Cross-Validation Accuracy: 96.67%\n",
      "Test Set Accuracy: 100.00%\n"
     ]
    },
    {
     "name": "stderr",
     "output_type": "stream",
     "text": [
      "E:\\anaconda\\Lib\\site-packages\\sklearn\\model_selection\\_validation.py:547: FitFailedWarning: \n",
      "25 fits failed out of a total of 50.\n",
      "The score on these train-test partitions for these parameters will be set to nan.\n",
      "If these failures are not expected, you can try to debug them by setting error_score='raise'.\n",
      "\n",
      "Below are more details about the failures:\n",
      "--------------------------------------------------------------------------------\n",
      "25 fits failed with the following error:\n",
      "Traceback (most recent call last):\n",
      "  File \"E:\\anaconda\\Lib\\site-packages\\sklearn\\model_selection\\_validation.py\", line 895, in _fit_and_score\n",
      "    estimator.fit(X_train, y_train, **fit_params)\n",
      "  File \"E:\\anaconda\\Lib\\site-packages\\sklearn\\base.py\", line 1474, in wrapper\n",
      "    return fit_method(estimator, *args, **kwargs)\n",
      "           ^^^^^^^^^^^^^^^^^^^^^^^^^^^^^^^^^^^^^^\n",
      "  File \"E:\\anaconda\\Lib\\site-packages\\sklearn\\linear_model\\_logistic.py\", line 1172, in fit\n",
      "    solver = _check_solver(self.solver, self.penalty, self.dual)\n",
      "             ^^^^^^^^^^^^^^^^^^^^^^^^^^^^^^^^^^^^^^^^^^^^^^^^^^^\n",
      "  File \"E:\\anaconda\\Lib\\site-packages\\sklearn\\linear_model\\_logistic.py\", line 67, in _check_solver\n",
      "    raise ValueError(\n",
      "ValueError: Solver lbfgs supports only 'l2' or None penalties, got l1 penalty.\n",
      "\n",
      "  warnings.warn(some_fits_failed_message, FitFailedWarning)\n",
      "E:\\anaconda\\Lib\\site-packages\\sklearn\\model_selection\\_search.py:1051: UserWarning: One or more of the test scores are non-finite: [       nan 0.85833333        nan 0.93333333        nan 0.96666667\n",
      "        nan 0.94166667        nan 0.95      ]\n",
      "  warnings.warn(\n"
     ]
    }
   ],
   "source": [
    "#Answer\n",
    "\n",
    "from sklearn.model_selection import GridSearchCV, train_test_split\n",
    "from sklearn.linear_model import LogisticRegression\n",
    "from sklearn.datasets import load_iris\n",
    "from sklearn.metrics import accuracy_score\n",
    "\n",
    "\n",
    "data = load_iris()\n",
    "X = data.data  \n",
    "y = data.target \n",
    "\n",
    "\n",
    "X_train, X_test, y_train, y_test = train_test_split(X, y, test_size=0.2, random_state=42)\n",
    "\n",
    "\n",
    "logreg = LogisticRegression(max_iter=200)\n",
    "\n",
    "\n",
    "param_grid = {\n",
    "    'C': [0.01, 0.1, 1, 10, 100],  \n",
    "    'penalty': ['l1', 'l2']         \n",
    "}\n",
    "\n",
    "\n",
    "grid_search = GridSearchCV(estimator=logreg, param_grid=param_grid, cv=5, scoring='accuracy')\n",
    "\n",
    "\n",
    "grid_search.fit(X_train, y_train)\n",
    "\n",
    "\n",
    "best_params = grid_search.best_params_\n",
    "best_accuracy = grid_search.best_score_\n",
    "\n",
    "\n",
    "print(f\"Best Hyperparameters: {best_params}\")\n",
    "print(f\"Best Cross-Validation Accuracy: {best_accuracy * 100:.2f}%\")\n",
    "\n",
    "\n",
    "best_model = grid_search.best_estimator_\n",
    "y_pred = best_model.predict(X_test)\n",
    "\n",
    "\n",
    "test_accuracy = accuracy_score(y_test, y_pred)\n",
    "print(f\"Test Set Accuracy: {test_accuracy * 100:.2f}%\")\n"
   ]
  },
  {
   "cell_type": "markdown",
   "id": "32dc2df0-e013-4002-8a63-f18396a31d20",
   "metadata": {},
   "source": [
    "Question7. Write a Python program to evaluate Logistic Regression using Stratified K-Fold Cross-Validation. Print the average accuracy"
   ]
  },
  {
   "cell_type": "code",
   "execution_count": 19,
   "id": "94c9dac5-ed94-48e4-baac-3bbfa162092c",
   "metadata": {},
   "outputs": [
    {
     "name": "stdout",
     "output_type": "stream",
     "text": [
      "Accuracy for each fold: [1.         0.96666667 0.93333333 1.         0.93333333]\n",
      "Average accuracy: 96.67%\n"
     ]
    }
   ],
   "source": [
    "#Answer\n",
    "\n",
    "from sklearn.model_selection import StratifiedKFold, cross_val_score\n",
    "from sklearn.linear_model import LogisticRegression\n",
    "from sklearn.datasets import load_iris\n",
    "import numpy as np\n",
    "\n",
    "\n",
    "data = load_iris()\n",
    "X = data.data  \n",
    "y = data.target  \n",
    "\n",
    "\n",
    "model = LogisticRegression(max_iter=200)\n",
    "\n",
    "\n",
    "skf = StratifiedKFold(n_splits=5, shuffle=True, random_state=42)\n",
    "\n",
    "\n",
    "accuracies = cross_val_score(model, X, y, cv=skf, scoring='accuracy')\n",
    "\n",
    "print(f\"Accuracy for each fold: {accuracies}\")\n",
    "\n",
    "average_accuracy = np.mean(accuracies)\n",
    "print(f\"Average accuracy: {average_accuracy * 100:.2f}%\")\n"
   ]
  },
  {
   "cell_type": "markdown",
   "id": "32d42e41-9b4a-4999-908b-b877c48dc068",
   "metadata": {},
   "source": [
    "Question8.Write a Python program to load a dataset from a CSV file, apply Logistic Regression, and evaluate its\n",
    "accuracy"
   ]
  },
  {
   "cell_type": "code",
   "execution_count": 27,
   "id": "84dde1f5-a0e6-4906-9454-0e9dc539fcbd",
   "metadata": {},
   "outputs": [
    {
     "ename": "FileNotFoundError",
     "evalue": "[Errno 2] No such file or directory: 'your_dataset.csv'",
     "output_type": "error",
     "traceback": [
      "\u001b[1;31m---------------------------------------------------------------------------\u001b[0m",
      "\u001b[1;31mFileNotFoundError\u001b[0m                         Traceback (most recent call last)",
      "Cell \u001b[1;32mIn[27], line 7\u001b[0m\n\u001b[0;32m      3\u001b[0m \u001b[38;5;28;01mfrom\u001b[39;00m \u001b[38;5;21;01msklearn\u001b[39;00m\u001b[38;5;21;01m.\u001b[39;00m\u001b[38;5;21;01mlinear_model\u001b[39;00m \u001b[38;5;28;01mimport\u001b[39;00m LogisticRegression\n\u001b[0;32m      4\u001b[0m \u001b[38;5;28;01mfrom\u001b[39;00m \u001b[38;5;21;01msklearn\u001b[39;00m\u001b[38;5;21;01m.\u001b[39;00m\u001b[38;5;21;01mmetrics\u001b[39;00m \u001b[38;5;28;01mimport\u001b[39;00m accuracy_score\n\u001b[1;32m----> 7\u001b[0m df \u001b[38;5;241m=\u001b[39m pd\u001b[38;5;241m.\u001b[39mread_csv(\u001b[38;5;124m'\u001b[39m\u001b[38;5;124myour_dataset.csv\u001b[39m\u001b[38;5;124m'\u001b[39m)\n\u001b[0;32m     10\u001b[0m \u001b[38;5;28mprint\u001b[39m(df\u001b[38;5;241m.\u001b[39mhead())\n\u001b[0;32m     12\u001b[0m X \u001b[38;5;241m=\u001b[39m df\u001b[38;5;241m.\u001b[39miloc[:, :\u001b[38;5;241m-\u001b[39m\u001b[38;5;241m1\u001b[39m]  \n",
      "File \u001b[1;32mE:\\anaconda\\Lib\\site-packages\\pandas\\io\\parsers\\readers.py:1026\u001b[0m, in \u001b[0;36mread_csv\u001b[1;34m(filepath_or_buffer, sep, delimiter, header, names, index_col, usecols, dtype, engine, converters, true_values, false_values, skipinitialspace, skiprows, skipfooter, nrows, na_values, keep_default_na, na_filter, verbose, skip_blank_lines, parse_dates, infer_datetime_format, keep_date_col, date_parser, date_format, dayfirst, cache_dates, iterator, chunksize, compression, thousands, decimal, lineterminator, quotechar, quoting, doublequote, escapechar, comment, encoding, encoding_errors, dialect, on_bad_lines, delim_whitespace, low_memory, memory_map, float_precision, storage_options, dtype_backend)\u001b[0m\n\u001b[0;32m   1013\u001b[0m kwds_defaults \u001b[38;5;241m=\u001b[39m _refine_defaults_read(\n\u001b[0;32m   1014\u001b[0m     dialect,\n\u001b[0;32m   1015\u001b[0m     delimiter,\n\u001b[1;32m   (...)\u001b[0m\n\u001b[0;32m   1022\u001b[0m     dtype_backend\u001b[38;5;241m=\u001b[39mdtype_backend,\n\u001b[0;32m   1023\u001b[0m )\n\u001b[0;32m   1024\u001b[0m kwds\u001b[38;5;241m.\u001b[39mupdate(kwds_defaults)\n\u001b[1;32m-> 1026\u001b[0m \u001b[38;5;28;01mreturn\u001b[39;00m _read(filepath_or_buffer, kwds)\n",
      "File \u001b[1;32mE:\\anaconda\\Lib\\site-packages\\pandas\\io\\parsers\\readers.py:620\u001b[0m, in \u001b[0;36m_read\u001b[1;34m(filepath_or_buffer, kwds)\u001b[0m\n\u001b[0;32m    617\u001b[0m _validate_names(kwds\u001b[38;5;241m.\u001b[39mget(\u001b[38;5;124m\"\u001b[39m\u001b[38;5;124mnames\u001b[39m\u001b[38;5;124m\"\u001b[39m, \u001b[38;5;28;01mNone\u001b[39;00m))\n\u001b[0;32m    619\u001b[0m \u001b[38;5;66;03m# Create the parser.\u001b[39;00m\n\u001b[1;32m--> 620\u001b[0m parser \u001b[38;5;241m=\u001b[39m TextFileReader(filepath_or_buffer, \u001b[38;5;241m*\u001b[39m\u001b[38;5;241m*\u001b[39mkwds)\n\u001b[0;32m    622\u001b[0m \u001b[38;5;28;01mif\u001b[39;00m chunksize \u001b[38;5;129;01mor\u001b[39;00m iterator:\n\u001b[0;32m    623\u001b[0m     \u001b[38;5;28;01mreturn\u001b[39;00m parser\n",
      "File \u001b[1;32mE:\\anaconda\\Lib\\site-packages\\pandas\\io\\parsers\\readers.py:1620\u001b[0m, in \u001b[0;36mTextFileReader.__init__\u001b[1;34m(self, f, engine, **kwds)\u001b[0m\n\u001b[0;32m   1617\u001b[0m     \u001b[38;5;28mself\u001b[39m\u001b[38;5;241m.\u001b[39moptions[\u001b[38;5;124m\"\u001b[39m\u001b[38;5;124mhas_index_names\u001b[39m\u001b[38;5;124m\"\u001b[39m] \u001b[38;5;241m=\u001b[39m kwds[\u001b[38;5;124m\"\u001b[39m\u001b[38;5;124mhas_index_names\u001b[39m\u001b[38;5;124m\"\u001b[39m]\n\u001b[0;32m   1619\u001b[0m \u001b[38;5;28mself\u001b[39m\u001b[38;5;241m.\u001b[39mhandles: IOHandles \u001b[38;5;241m|\u001b[39m \u001b[38;5;28;01mNone\u001b[39;00m \u001b[38;5;241m=\u001b[39m \u001b[38;5;28;01mNone\u001b[39;00m\n\u001b[1;32m-> 1620\u001b[0m \u001b[38;5;28mself\u001b[39m\u001b[38;5;241m.\u001b[39m_engine \u001b[38;5;241m=\u001b[39m \u001b[38;5;28mself\u001b[39m\u001b[38;5;241m.\u001b[39m_make_engine(f, \u001b[38;5;28mself\u001b[39m\u001b[38;5;241m.\u001b[39mengine)\n",
      "File \u001b[1;32mE:\\anaconda\\Lib\\site-packages\\pandas\\io\\parsers\\readers.py:1880\u001b[0m, in \u001b[0;36mTextFileReader._make_engine\u001b[1;34m(self, f, engine)\u001b[0m\n\u001b[0;32m   1878\u001b[0m     \u001b[38;5;28;01mif\u001b[39;00m \u001b[38;5;124m\"\u001b[39m\u001b[38;5;124mb\u001b[39m\u001b[38;5;124m\"\u001b[39m \u001b[38;5;129;01mnot\u001b[39;00m \u001b[38;5;129;01min\u001b[39;00m mode:\n\u001b[0;32m   1879\u001b[0m         mode \u001b[38;5;241m+\u001b[39m\u001b[38;5;241m=\u001b[39m \u001b[38;5;124m\"\u001b[39m\u001b[38;5;124mb\u001b[39m\u001b[38;5;124m\"\u001b[39m\n\u001b[1;32m-> 1880\u001b[0m \u001b[38;5;28mself\u001b[39m\u001b[38;5;241m.\u001b[39mhandles \u001b[38;5;241m=\u001b[39m get_handle(\n\u001b[0;32m   1881\u001b[0m     f,\n\u001b[0;32m   1882\u001b[0m     mode,\n\u001b[0;32m   1883\u001b[0m     encoding\u001b[38;5;241m=\u001b[39m\u001b[38;5;28mself\u001b[39m\u001b[38;5;241m.\u001b[39moptions\u001b[38;5;241m.\u001b[39mget(\u001b[38;5;124m\"\u001b[39m\u001b[38;5;124mencoding\u001b[39m\u001b[38;5;124m\"\u001b[39m, \u001b[38;5;28;01mNone\u001b[39;00m),\n\u001b[0;32m   1884\u001b[0m     compression\u001b[38;5;241m=\u001b[39m\u001b[38;5;28mself\u001b[39m\u001b[38;5;241m.\u001b[39moptions\u001b[38;5;241m.\u001b[39mget(\u001b[38;5;124m\"\u001b[39m\u001b[38;5;124mcompression\u001b[39m\u001b[38;5;124m\"\u001b[39m, \u001b[38;5;28;01mNone\u001b[39;00m),\n\u001b[0;32m   1885\u001b[0m     memory_map\u001b[38;5;241m=\u001b[39m\u001b[38;5;28mself\u001b[39m\u001b[38;5;241m.\u001b[39moptions\u001b[38;5;241m.\u001b[39mget(\u001b[38;5;124m\"\u001b[39m\u001b[38;5;124mmemory_map\u001b[39m\u001b[38;5;124m\"\u001b[39m, \u001b[38;5;28;01mFalse\u001b[39;00m),\n\u001b[0;32m   1886\u001b[0m     is_text\u001b[38;5;241m=\u001b[39mis_text,\n\u001b[0;32m   1887\u001b[0m     errors\u001b[38;5;241m=\u001b[39m\u001b[38;5;28mself\u001b[39m\u001b[38;5;241m.\u001b[39moptions\u001b[38;5;241m.\u001b[39mget(\u001b[38;5;124m\"\u001b[39m\u001b[38;5;124mencoding_errors\u001b[39m\u001b[38;5;124m\"\u001b[39m, \u001b[38;5;124m\"\u001b[39m\u001b[38;5;124mstrict\u001b[39m\u001b[38;5;124m\"\u001b[39m),\n\u001b[0;32m   1888\u001b[0m     storage_options\u001b[38;5;241m=\u001b[39m\u001b[38;5;28mself\u001b[39m\u001b[38;5;241m.\u001b[39moptions\u001b[38;5;241m.\u001b[39mget(\u001b[38;5;124m\"\u001b[39m\u001b[38;5;124mstorage_options\u001b[39m\u001b[38;5;124m\"\u001b[39m, \u001b[38;5;28;01mNone\u001b[39;00m),\n\u001b[0;32m   1889\u001b[0m )\n\u001b[0;32m   1890\u001b[0m \u001b[38;5;28;01massert\u001b[39;00m \u001b[38;5;28mself\u001b[39m\u001b[38;5;241m.\u001b[39mhandles \u001b[38;5;129;01mis\u001b[39;00m \u001b[38;5;129;01mnot\u001b[39;00m \u001b[38;5;28;01mNone\u001b[39;00m\n\u001b[0;32m   1891\u001b[0m f \u001b[38;5;241m=\u001b[39m \u001b[38;5;28mself\u001b[39m\u001b[38;5;241m.\u001b[39mhandles\u001b[38;5;241m.\u001b[39mhandle\n",
      "File \u001b[1;32mE:\\anaconda\\Lib\\site-packages\\pandas\\io\\common.py:873\u001b[0m, in \u001b[0;36mget_handle\u001b[1;34m(path_or_buf, mode, encoding, compression, memory_map, is_text, errors, storage_options)\u001b[0m\n\u001b[0;32m    868\u001b[0m \u001b[38;5;28;01melif\u001b[39;00m \u001b[38;5;28misinstance\u001b[39m(handle, \u001b[38;5;28mstr\u001b[39m):\n\u001b[0;32m    869\u001b[0m     \u001b[38;5;66;03m# Check whether the filename is to be opened in binary mode.\u001b[39;00m\n\u001b[0;32m    870\u001b[0m     \u001b[38;5;66;03m# Binary mode does not support 'encoding' and 'newline'.\u001b[39;00m\n\u001b[0;32m    871\u001b[0m     \u001b[38;5;28;01mif\u001b[39;00m ioargs\u001b[38;5;241m.\u001b[39mencoding \u001b[38;5;129;01mand\u001b[39;00m \u001b[38;5;124m\"\u001b[39m\u001b[38;5;124mb\u001b[39m\u001b[38;5;124m\"\u001b[39m \u001b[38;5;129;01mnot\u001b[39;00m \u001b[38;5;129;01min\u001b[39;00m ioargs\u001b[38;5;241m.\u001b[39mmode:\n\u001b[0;32m    872\u001b[0m         \u001b[38;5;66;03m# Encoding\u001b[39;00m\n\u001b[1;32m--> 873\u001b[0m         handle \u001b[38;5;241m=\u001b[39m \u001b[38;5;28mopen\u001b[39m(\n\u001b[0;32m    874\u001b[0m             handle,\n\u001b[0;32m    875\u001b[0m             ioargs\u001b[38;5;241m.\u001b[39mmode,\n\u001b[0;32m    876\u001b[0m             encoding\u001b[38;5;241m=\u001b[39mioargs\u001b[38;5;241m.\u001b[39mencoding,\n\u001b[0;32m    877\u001b[0m             errors\u001b[38;5;241m=\u001b[39merrors,\n\u001b[0;32m    878\u001b[0m             newline\u001b[38;5;241m=\u001b[39m\u001b[38;5;124m\"\u001b[39m\u001b[38;5;124m\"\u001b[39m,\n\u001b[0;32m    879\u001b[0m         )\n\u001b[0;32m    880\u001b[0m     \u001b[38;5;28;01melse\u001b[39;00m:\n\u001b[0;32m    881\u001b[0m         \u001b[38;5;66;03m# Binary mode\u001b[39;00m\n\u001b[0;32m    882\u001b[0m         handle \u001b[38;5;241m=\u001b[39m \u001b[38;5;28mopen\u001b[39m(handle, ioargs\u001b[38;5;241m.\u001b[39mmode)\n",
      "\u001b[1;31mFileNotFoundError\u001b[0m: [Errno 2] No such file or directory: 'your_dataset.csv'"
     ]
    }
   ],
   "source": [
    "\n",
    "import pandas as pd\n",
    "from sklearn.model_selection import train_test_split\n",
    "from sklearn.linear_model import LogisticRegression\n",
    "from sklearn.metrics import accuracy_score\n",
    "\n",
    "\n",
    "df = pd.read_csv('your_dataset.csv')\n",
    "\n",
    "\n",
    "print(df.head())\n",
    "\n",
    "X = df.iloc[:, :-1]  \n",
    "y = df.iloc[:, -1]   \n",
    "\n",
    "X_train, X_test, y_train, y_test = train_test_split(X, y, test_size=0.2, random_state=42)\n",
    "\n",
    "\n",
    "model = LogisticRegression(max_iter=200)\n",
    "\n",
    "\n",
    "model.fit(X_train, y_train)\n",
    "\n",
    "\n",
    "y_pred = model.predict(X_test)\n",
    "\n",
    "\n",
    "accuracy = accuracy_score(y_test, y_pred)\n",
    "\n",
    "\n",
    "print(f\"Model accuracy: {accuracy * 100:.2f}%\")"
   ]
  },
  {
   "cell_type": "markdown",
   "id": "d5bccbad-2d27-49f3-9ae4-3c512fa01e5f",
   "metadata": {},
   "source": [
    "Question9.M Write a Python program to apply RandomizedSearchCV for tuning hyperparameters (C, penalty, solver) in \n",
    "Logistic Regression. Print the best parameters and accurac?M"
   ]
  },
  {
   "cell_type": "code",
   "execution_count": 29,
   "id": "8a98f0af-b6ab-40dd-9577-e97f9376ec0b",
   "metadata": {},
   "outputs": [
    {
     "name": "stdout",
     "output_type": "stream",
     "text": [
      "Best Hyperparameters: {'C': 0.4452048365748854, 'penalty': 'l1', 'solver': 'saga'}\n",
      "Best Cross-Validation Accuracy: 97.50%\n",
      "Test Set Accuracy: 100.00%\n"
     ]
    },
    {
     "name": "stderr",
     "output_type": "stream",
     "text": [
      "E:\\anaconda\\Lib\\site-packages\\sklearn\\linear_model\\_sag.py:350: ConvergenceWarning: The max_iter was reached which means the coef_ did not converge\n",
      "  warnings.warn(\n"
     ]
    }
   ],
   "source": [
    "\n",
    "from sklearn.model_selection import RandomizedSearchCV, train_test_split\n",
    "from sklearn.linear_model import LogisticRegression\n",
    "from sklearn.datasets import load_iris\n",
    "from sklearn.metrics import accuracy_score\n",
    "from scipy.stats import uniform, loguniform\n",
    "\n",
    "\n",
    "data = load_iris()\n",
    "X = data.data \n",
    "y = data.target  \n",
    "\n",
    "\n",
    "X_train, X_test, y_train, y_test = train_test_split(X, y, test_size=0.2, random_state=42)\n",
    "\n",
    "\n",
    "logreg = LogisticRegression(max_iter=200)\n",
    "\n",
    "param_dist = {\n",
    "    'C': loguniform(1e-4, 1e4),  \n",
    "    'penalty': ['l1', 'l2'],      \n",
    "    'solver': ['liblinear', 'saga']  \n",
    "}\n",
    "\n",
    "\n",
    "\n",
    "random_search = RandomizedSearchCV(estimator=logreg, param_distributions=param_dist,\n",
    "                                   n_iter=100, cv=5, random_state=42, n_jobs=-1, scoring='accuracy')\n",
    "\n",
    "\n",
    "random_search.fit(X_train, y_train)\n",
    "\n",
    "\n",
    "best_params = random_search.best_params_\n",
    "best_accuracy = random_search.best_score_\n",
    "\n",
    "\n",
    "print(f\"Best Hyperparameters: {best_params}\")\n",
    "print(f\"Best Cross-Validation Accuracy: {best_accuracy * 100:.2f}%\")\n",
    "\n",
    "\n",
    "best_model = random_search.best_estimator_\n",
    "y_pred = best_model.predict(X_test)\n",
    "\n",
    "\n",
    "test_accuracy = accuracy_score(y_test, y_pred)\n",
    "print(f\"Test Set Accuracy: {test_accuracy * 100:.2f}%\")\n"
   ]
  },
  {
   "cell_type": "markdown",
   "id": "6bc31fa9-8427-4891-84cb-52855155139b",
   "metadata": {},
   "source": [
    "Question10.Write a Python program to implement One-vs-One (OvO) Multiclass Logistic Regression and print accuracy"
   ]
  },
  {
   "cell_type": "code",
   "execution_count": 31,
   "id": "67fdde11-0286-4fcf-83f3-99efe7e20a54",
   "metadata": {},
   "outputs": [
    {
     "name": "stdout",
     "output_type": "stream",
     "text": [
      "Accuracy of OvO Logistic Regression: 100.00%\n"
     ]
    }
   ],
   "source": [
    "#Answer\n",
    "\n",
    "from sklearn.model_selection import train_test_split\n",
    "from sklearn.linear_model import LogisticRegression\n",
    "from sklearn.multiclass import OneVsOneClassifier\n",
    "from sklearn.datasets import load_iris\n",
    "from sklearn.metrics import accuracy_score\n",
    "\n",
    "\n",
    "data = load_iris()\n",
    "X = data.data \n",
    "y = data.target  \n",
    "\n",
    "\n",
    "X_train, X_test, y_train, y_test = train_test_split(X, y, test_size=0.2, random_state=42)\n",
    "\n",
    "\n",
    "logreg = LogisticRegression(max_iter=200)\n",
    "\n",
    "\n",
    "ovo_classifier = OneVsOneClassifier(logreg)\n",
    "\n",
    "\n",
    "ovo_classifier.fit(X_train, y_train)\n",
    "\n",
    "\n",
    "y_pred = ovo_classifier.predict(X_test)\n",
    "\n",
    "\n",
    "accuracy = accuracy_score(y_test, y_pred)\n",
    "print(f\"Accuracy of OvO Logistic Regression: {accuracy * 100:.2f}%\")\n"
   ]
  },
  {
   "cell_type": "markdown",
   "id": "804cf6f4-4af3-4921-bd13-22c8b361177e",
   "metadata": {},
   "source": [
    "Question11. Write a Python program to train a Logistic Regression model and visualize the confusion matrix for binary cclassificatio?Mn "
   ]
  },
  {
   "cell_type": "code",
   "execution_count": 33,
   "id": "a76b0acb-6eb9-48e2-80d8-c99f7f138f7d",
   "metadata": {},
   "outputs": [
    {
     "name": "stdout",
     "output_type": "stream",
     "text": [
      "Model Accuracy: 95.61%\n"
     ]
    },
    {
     "data": {
      "image/png": "[encoded data removed]",
      "text/plain": [
       "<Figure size 600x400 with 1 Axes>"
      ]
     },
     "metadata": {},
     "output_type": "display_data"
    }
   ],
   "source": [
    "#Answer\n",
    "\n",
    "import numpy as np\n",
    "import pandas as pd\n",
    "import seaborn as sns\n",
    "import matplotlib.pyplot as plt\n",
    "from sklearn.model_selection import train_test_split\n",
    "from sklearn.linear_model import LogisticRegression\n",
    "from sklearn.datasets import load_breast_cancer\n",
    "from sklearn.metrics import confusion_matrix, accuracy_score\n",
    "\n",
    "\n",
    "data = load_breast_cancer()\n",
    "X = data.data  \n",
    "y = data.target  \n",
    "\n",
    "\n",
    "X_train, X_test, y_train, y_test = train_test_split(X, y, test_size=0.2, random_state=42)\n",
    "\n",
    "\n",
    "logreg = LogisticRegression(max_iter=10000)\n",
    "\n",
    "\n",
    "logreg.fit(X_train, y_train)\n",
    "\n",
    "\n",
    "y_pred = logreg.predict(X_test)\n",
    "\n",
    "\n",
    "accuracy = accuracy_score(y_test, y_pred)\n",
    "print(f\"Model Accuracy: {accuracy * 100:.2f}%\")\n",
    "\n",
    "\n",
    "cm = confusion_matrix(y_test, y_pred)\n",
    "\n",
    "\n",
    "plt.figure(figsize=(6, 4))\n",
    "sns.heatmap(cm, annot=True, fmt=\"d\", cmap=\"Blues\", cbar=False, \n",
    "            xticklabels=[\"Malignant\", \"Benign\"], yticklabels=[\"Malignant\", \"Benign\"])\n",
    "plt.title(\"Confusion Matrix for Binary Logistic Regression\")\n",
    "plt.xlabel(\"Predicted\")\n",
    "plt.ylabel(\"Actual\")\n",
    "plt.show()\n"
   ]
  },
  {
   "cell_type": "markdown",
   "id": "e2d3f271-5a05-42b4-98b0-d454507e7639",
   "metadata": {},
   "source": [
    "Question12.M Write a Python program to train a Logistic Regression model and evaluate its performance using Precision,\n",
    "Recall, and F1-ScoreM"
   ]
  },
  {
   "cell_type": "code",
   "execution_count": 35,
   "id": "bef5f352-e3a5-40db-947b-e31e5c936202",
   "metadata": {},
   "outputs": [
    {
     "name": "stdout",
     "output_type": "stream",
     "text": [
      "Performance Evaluation:\n",
      "\n",
      "              precision    recall  f1-score   support\n",
      "\n",
      "   Malignant       0.97      0.91      0.94        43\n",
      "      Benign       0.95      0.99      0.97        71\n",
      "\n",
      "    accuracy                           0.96       114\n",
      "   macro avg       0.96      0.95      0.95       114\n",
      "weighted avg       0.96      0.96      0.96       114\n",
      "\n"
     ]
    }
   ],
   "source": [
    "\n",
    "from sklearn.datasets import load_breast_cancer\n",
    "from sklearn.model_selection import train_test_split\n",
    "from sklearn.linear_model import LogisticRegression\n",
    "from sklearn.metrics import classification_report\n",
    "\n",
    "\n",
    "data = load_breast_cancer()\n",
    "X = data.data\n",
    "y = data.target \n",
    "\n",
    "\n",
    "X_train, X_test, y_train, y_test = train_test_split(X, y, test_size=0.2, random_state=42)\n",
    "\n",
    "\n",
    "logreg = LogisticRegression(max_iter=10000)\n",
    "\n",
    "\n",
    "logreg.fit(X_train, y_train)\n",
    "\n",
    "\n",
    "y_pred = logreg.predict(X_test)\n",
    "\n",
    "\n",
    "report = classification_report(y_test, y_pred, target_names=['Malignant', 'Benign'])\n",
    "\n",
    "\n",
    "print(\"Performance Evaluation:\\n\")\n",
    "print(report)\n"
   ]
  },
  {
   "cell_type": "markdown",
   "id": "cb6d102d-eacb-4414-977d-244396baa7c4",
   "metadata": {},
   "source": [
    "Question13.Write a Python program to train a Logistic Regression model on imbalanced data and apply class weights to \n",
    "improve model performancM"
   ]
  },
  {
   "cell_type": "code",
   "execution_count": 37,
   "id": "3cd62ace-082d-443a-b1ed-9977c753e53c",
   "metadata": {},
   "outputs": [
    {
     "name": "stdout",
     "output_type": "stream",
     "text": [
      "Model Evaluation with Class Weights:\n",
      "              precision    recall  f1-score   support\n",
      "\n",
      "   Malignant       0.98      0.95      0.96        43\n",
      "      Benign       0.97      0.99      0.98        71\n",
      "\n",
      "    accuracy                           0.97       114\n",
      "   macro avg       0.97      0.97      0.97       114\n",
      "weighted avg       0.97      0.97      0.97       114\n",
      "\n",
      "Accuracy: 97.37%\n"
     ]
    }
   ],
   "source": [
    "\n",
    "from sklearn.datasets import load_breast_cancer\n",
    "from sklearn.model_selection import train_test_split\n",
    "from sklearn.linear_model import LogisticRegression\n",
    "from sklearn.metrics import classification_report, accuracy_score\n",
    "\n",
    "\n",
    "data = load_breast_cancer()\n",
    "X = data.data  \n",
    "y = data.target  \n",
    "\n",
    "\n",
    "X_train, X_test, y_train, y_test = train_test_split(X, y, test_size=0.2, random_state=42)\n",
    "\n",
    "\n",
    "logreg = LogisticRegression(class_weight='balanced', max_iter=10000)\n",
    "\n",
    "\n",
    "logreg.fit(X_train, y_train)\n",
    "\n",
    "\n",
    "y_pred = logreg.predict(X_test)\n",
    "\n",
    "\n",
    "print(\"Model Evaluation with Class Weights:\")\n",
    "print(classification_report(y_test, y_pred, target_names=['Malignant', 'Benign']))\n",
    "\n",
    "\n",
    "accuracy = accuracy_score(y_test, y_pred)\n",
    "print(f\"Accuracy: {accuracy * 100:.2f}%\")\n"
   ]
  },
  {
   "cell_type": "markdown",
   "id": "ef24a01c-ef10-4bf4-8d17-42e8f9783b91",
   "metadata": {},
   "source": [
    "Question14.M Write a Python program to train Logistic Regression on the Titanic dataset, handle missing values, and \n",
    "evaluate performancM"
   ]
  },
  {
   "cell_type": "code",
   "execution_count": 39,
   "id": "7fdf6461-1350-40fd-afac-36ecfb9fe64f",
   "metadata": {},
   "outputs": [
    {
     "name": "stdout",
     "output_type": "stream",
     "text": [
      "Dataset Preview:\n",
      "   Survived  Pclass                                               Name  \\\n",
      "0         0       3                             Mr. Owen Harris Braund   \n",
      "1         1       1  Mrs. John Bradley (Florence Briggs Thayer) Cum...   \n",
      "2         1       3                              Miss. Laina Heikkinen   \n",
      "3         1       1        Mrs. Jacques Heath (Lily May Peel) Futrelle   \n",
      "4         0       3                            Mr. William Henry Allen   \n",
      "\n",
      "      Sex   Age  Siblings/Spouses Aboard  Parents/Children Aboard     Fare  \n",
      "0    male  22.0                        1                        0   7.2500  \n",
      "1  female  38.0                        1                        0  71.2833  \n",
      "2  female  26.0                        0                        0   7.9250  \n",
      "3  female  35.0                        1                        0  53.1000  \n",
      "4    male  35.0                        0                        0   8.0500  \n"
     ]
    },
    {
     "ename": "KeyError",
     "evalue": "\"['Ticket', 'Cabin'] not found in axis\"",
     "output_type": "error",
     "traceback": [
      "\u001b[1;31m---------------------------------------------------------------------------\u001b[0m",
      "\u001b[1;31mKeyError\u001b[0m                                  Traceback (most recent call last)",
      "Cell \u001b[1;32mIn[39], line 21\u001b[0m\n\u001b[0;32m     17\u001b[0m imputer \u001b[38;5;241m=\u001b[39m SimpleImputer(strategy\u001b[38;5;241m=\u001b[39m\u001b[38;5;124m\"\u001b[39m\u001b[38;5;124mmost_frequent\u001b[39m\u001b[38;5;124m\"\u001b[39m)\n\u001b[0;32m     18\u001b[0m df[\u001b[38;5;124m'\u001b[39m\u001b[38;5;124mAge\u001b[39m\u001b[38;5;124m'\u001b[39m] \u001b[38;5;241m=\u001b[39m imputer\u001b[38;5;241m.\u001b[39mfit_transform(df[[\u001b[38;5;124m'\u001b[39m\u001b[38;5;124mAge\u001b[39m\u001b[38;5;124m'\u001b[39m]])  \n\u001b[1;32m---> 21\u001b[0m df \u001b[38;5;241m=\u001b[39m df\u001b[38;5;241m.\u001b[39mdrop(columns\u001b[38;5;241m=\u001b[39m[\u001b[38;5;124m'\u001b[39m\u001b[38;5;124mName\u001b[39m\u001b[38;5;124m'\u001b[39m, \u001b[38;5;124m'\u001b[39m\u001b[38;5;124mTicket\u001b[39m\u001b[38;5;124m'\u001b[39m, \u001b[38;5;124m'\u001b[39m\u001b[38;5;124mCabin\u001b[39m\u001b[38;5;124m'\u001b[39m])\n\u001b[0;32m     24\u001b[0m le \u001b[38;5;241m=\u001b[39m LabelEncoder()\n\u001b[0;32m     25\u001b[0m df[\u001b[38;5;124m'\u001b[39m\u001b[38;5;124mSex\u001b[39m\u001b[38;5;124m'\u001b[39m] \u001b[38;5;241m=\u001b[39m le\u001b[38;5;241m.\u001b[39mfit_transform(df[\u001b[38;5;124m'\u001b[39m\u001b[38;5;124mSex\u001b[39m\u001b[38;5;124m'\u001b[39m])\n",
      "File \u001b[1;32mE:\\anaconda\\Lib\\site-packages\\pandas\\core\\frame.py:5581\u001b[0m, in \u001b[0;36mDataFrame.drop\u001b[1;34m(self, labels, axis, index, columns, level, inplace, errors)\u001b[0m\n\u001b[0;32m   5433\u001b[0m \u001b[38;5;28;01mdef\u001b[39;00m \u001b[38;5;21mdrop\u001b[39m(\n\u001b[0;32m   5434\u001b[0m     \u001b[38;5;28mself\u001b[39m,\n\u001b[0;32m   5435\u001b[0m     labels: IndexLabel \u001b[38;5;241m|\u001b[39m \u001b[38;5;28;01mNone\u001b[39;00m \u001b[38;5;241m=\u001b[39m \u001b[38;5;28;01mNone\u001b[39;00m,\n\u001b[1;32m   (...)\u001b[0m\n\u001b[0;32m   5442\u001b[0m     errors: IgnoreRaise \u001b[38;5;241m=\u001b[39m \u001b[38;5;124m\"\u001b[39m\u001b[38;5;124mraise\u001b[39m\u001b[38;5;124m\"\u001b[39m,\n\u001b[0;32m   5443\u001b[0m ) \u001b[38;5;241m-\u001b[39m\u001b[38;5;241m>\u001b[39m DataFrame \u001b[38;5;241m|\u001b[39m \u001b[38;5;28;01mNone\u001b[39;00m:\n\u001b[0;32m   5444\u001b[0m \u001b[38;5;250m    \u001b[39m\u001b[38;5;124;03m\"\"\"\u001b[39;00m\n\u001b[0;32m   5445\u001b[0m \u001b[38;5;124;03m    Drop specified labels from rows or columns.\u001b[39;00m\n\u001b[0;32m   5446\u001b[0m \n\u001b[1;32m   (...)\u001b[0m\n\u001b[0;32m   5579\u001b[0m \u001b[38;5;124;03m            weight  1.0     0.8\u001b[39;00m\n\u001b[0;32m   5580\u001b[0m \u001b[38;5;124;03m    \"\"\"\u001b[39;00m\n\u001b[1;32m-> 5581\u001b[0m     \u001b[38;5;28;01mreturn\u001b[39;00m \u001b[38;5;28msuper\u001b[39m()\u001b[38;5;241m.\u001b[39mdrop(\n\u001b[0;32m   5582\u001b[0m         labels\u001b[38;5;241m=\u001b[39mlabels,\n\u001b[0;32m   5583\u001b[0m         axis\u001b[38;5;241m=\u001b[39maxis,\n\u001b[0;32m   5584\u001b[0m         index\u001b[38;5;241m=\u001b[39mindex,\n\u001b[0;32m   5585\u001b[0m         columns\u001b[38;5;241m=\u001b[39mcolumns,\n\u001b[0;32m   5586\u001b[0m         level\u001b[38;5;241m=\u001b[39mlevel,\n\u001b[0;32m   5587\u001b[0m         inplace\u001b[38;5;241m=\u001b[39minplace,\n\u001b[0;32m   5588\u001b[0m         errors\u001b[38;5;241m=\u001b[39merrors,\n\u001b[0;32m   5589\u001b[0m     )\n",
      "File \u001b[1;32mE:\\anaconda\\Lib\\site-packages\\pandas\\core\\generic.py:4788\u001b[0m, in \u001b[0;36mNDFrame.drop\u001b[1;34m(self, labels, axis, index, columns, level, inplace, errors)\u001b[0m\n\u001b[0;32m   4786\u001b[0m \u001b[38;5;28;01mfor\u001b[39;00m axis, labels \u001b[38;5;129;01min\u001b[39;00m axes\u001b[38;5;241m.\u001b[39mitems():\n\u001b[0;32m   4787\u001b[0m     \u001b[38;5;28;01mif\u001b[39;00m labels \u001b[38;5;129;01mis\u001b[39;00m \u001b[38;5;129;01mnot\u001b[39;00m \u001b[38;5;28;01mNone\u001b[39;00m:\n\u001b[1;32m-> 4788\u001b[0m         obj \u001b[38;5;241m=\u001b[39m obj\u001b[38;5;241m.\u001b[39m_drop_axis(labels, axis, level\u001b[38;5;241m=\u001b[39mlevel, errors\u001b[38;5;241m=\u001b[39merrors)\n\u001b[0;32m   4790\u001b[0m \u001b[38;5;28;01mif\u001b[39;00m inplace:\n\u001b[0;32m   4791\u001b[0m     \u001b[38;5;28mself\u001b[39m\u001b[38;5;241m.\u001b[39m_update_inplace(obj)\n",
      "File \u001b[1;32mE:\\anaconda\\Lib\\site-packages\\pandas\\core\\generic.py:4830\u001b[0m, in \u001b[0;36mNDFrame._drop_axis\u001b[1;34m(self, labels, axis, level, errors, only_slice)\u001b[0m\n\u001b[0;32m   4828\u001b[0m         new_axis \u001b[38;5;241m=\u001b[39m axis\u001b[38;5;241m.\u001b[39mdrop(labels, level\u001b[38;5;241m=\u001b[39mlevel, errors\u001b[38;5;241m=\u001b[39merrors)\n\u001b[0;32m   4829\u001b[0m     \u001b[38;5;28;01melse\u001b[39;00m:\n\u001b[1;32m-> 4830\u001b[0m         new_axis \u001b[38;5;241m=\u001b[39m axis\u001b[38;5;241m.\u001b[39mdrop(labels, errors\u001b[38;5;241m=\u001b[39merrors)\n\u001b[0;32m   4831\u001b[0m     indexer \u001b[38;5;241m=\u001b[39m axis\u001b[38;5;241m.\u001b[39mget_indexer(new_axis)\n\u001b[0;32m   4833\u001b[0m \u001b[38;5;66;03m# Case for non-unique axis\u001b[39;00m\n\u001b[0;32m   4834\u001b[0m \u001b[38;5;28;01melse\u001b[39;00m:\n",
      "File \u001b[1;32mE:\\anaconda\\Lib\\site-packages\\pandas\\core\\indexes\\base.py:7070\u001b[0m, in \u001b[0;36mIndex.drop\u001b[1;34m(self, labels, errors)\u001b[0m\n\u001b[0;32m   7068\u001b[0m \u001b[38;5;28;01mif\u001b[39;00m mask\u001b[38;5;241m.\u001b[39many():\n\u001b[0;32m   7069\u001b[0m     \u001b[38;5;28;01mif\u001b[39;00m errors \u001b[38;5;241m!=\u001b[39m \u001b[38;5;124m\"\u001b[39m\u001b[38;5;124mignore\u001b[39m\u001b[38;5;124m\"\u001b[39m:\n\u001b[1;32m-> 7070\u001b[0m         \u001b[38;5;28;01mraise\u001b[39;00m \u001b[38;5;167;01mKeyError\u001b[39;00m(\u001b[38;5;124mf\u001b[39m\u001b[38;5;124m\"\u001b[39m\u001b[38;5;132;01m{\u001b[39;00mlabels[mask]\u001b[38;5;241m.\u001b[39mtolist()\u001b[38;5;132;01m}\u001b[39;00m\u001b[38;5;124m not found in axis\u001b[39m\u001b[38;5;124m\"\u001b[39m)\n\u001b[0;32m   7071\u001b[0m     indexer \u001b[38;5;241m=\u001b[39m indexer[\u001b[38;5;241m~\u001b[39mmask]\n\u001b[0;32m   7072\u001b[0m \u001b[38;5;28;01mreturn\u001b[39;00m \u001b[38;5;28mself\u001b[39m\u001b[38;5;241m.\u001b[39mdelete(indexer)\n",
      "\u001b[1;31mKeyError\u001b[0m: \"['Ticket', 'Cabin'] not found in axis\""
     ]
    }
   ],
   "source": [
    "\n",
    "import pandas as pd\n",
    "from sklearn.model_selection import train_test_split\n",
    "from sklearn.linear_model import LogisticRegression\n",
    "from sklearn.metrics import classification_report, accuracy_score\n",
    "from sklearn.impute import SimpleImputer\n",
    "from sklearn.preprocessing import LabelEncoder\n",
    "\n",
    "\n",
    "url = \"https://web.stanford.edu/class/archive/cs/cs109/cs109.1166/stuff/titanic.csv\"\n",
    "df = pd.read_csv(url)\n",
    "\n",
    "\n",
    "print(\"Dataset Preview:\")\n",
    "print(df.head())\n",
    "\n",
    "\n",
    "imputer = SimpleImputer(strategy=\"most_frequent\")\n",
    "df['Age'] = imputer.fit_transform(df[['Age']])  \n",
    "\n",
    "\n",
    "df = df.drop(columns=['Name', 'Ticket', 'Cabin'])\n",
    "\n",
    "\n",
    "le = LabelEncoder()\n",
    "df['Sex'] = le.fit_transform(df['Sex'])\n",
    "df['Embarked'] = df['Embarked'].map({'C': 0, 'Q': 1, 'S': 2})  \n",
    "\n",
    "\n",
    "X = df[['Pclass', 'Sex', 'Age', 'SibSp', 'Parch', 'Fare', 'Embarked']]  \n",
    "y = df['Survived']  \n",
    "\n",
    "\n",
    "X_train, X_test, y_train, y_test = train_test_split(X, y, test_size=0.2, random_state=42)\n",
    "\n",
    "\n",
    "logreg = LogisticRegression(max_iter=10000)\n",
    "\n",
    "\n",
    "logreg.fit(X_train, y_train)\n",
    "\n",
    "y_pred = logreg.predict(X_test)\n",
    "\n",
    "\n",
    "print(\"\\nModel Evaluation:\")\n",
    "print(classification_report(y_test, y_pred, target_names=['Did Not Survive', 'Survived']))\n",
    "accuracy = accuracy_score(y_test, y_pred)\n",
    "print(f\"Accuracy: {accuracy * 100:.2f}%\")\n"
   ]
  },
  {
   "cell_type": "markdown",
   "id": "eb239304-d04f-46b0-970c-299a705cc592",
   "metadata": {},
   "source": [
    "Question15.Write a Python program to apply feature scaling (Standardization) before training a Logistic Regression model. Evaluate its accuracy and compare results with and without scaling"
   ]
  },
  {
   "cell_type": "code",
   "execution_count": 41,
   "id": "fcad9dfb-d011-471c-ab4a-35dd7f3f132d",
   "metadata": {},
   "outputs": [
    {
     "name": "stdout",
     "output_type": "stream",
     "text": [
      "Accuracy without scaling: 95.61%\n",
      "Accuracy with scaling: 97.37%\n"
     ]
    }
   ],
   "source": [
    "\n",
    "import pandas as pd\n",
    "from sklearn.datasets import load_breast_cancer\n",
    "from sklearn.model_selection import train_test_split\n",
    "from sklearn.linear_model import LogisticRegression\n",
    "from sklearn.preprocessing import StandardScaler\n",
    "from sklearn.metrics import accuracy_score\n",
    "\n",
    "\n",
    "data = load_breast_cancer()\n",
    "X = data.data \n",
    "y = data.target  \n",
    "\n",
    "\n",
    "X_train, X_test, y_train, y_test = train_test_split(X, y, test_size=0.2, random_state=42)\n",
    "\n",
    "\n",
    "logreg = LogisticRegression(max_iter=10000)\n",
    "\n",
    "\n",
    "logreg.fit(X_train, y_train)\n",
    "y_pred_no_scaling = logreg.predict(X_test)\n",
    "accuracy_no_scaling = accuracy_score(y_test, y_pred_no_scaling)\n",
    "print(f\"Accuracy without scaling: {accuracy_no_scaling * 100:.2f}%\")\n",
    "\n",
    "\n",
    "scaler = StandardScaler()\n",
    "\n",
    "\n",
    "X_train_scaled = scaler.fit_transform(X_train)\n",
    "\n",
    "\n",
    "X_test_scaled = scaler.transform(X_test)\n",
    "\n",
    "\n",
    "logreg.fit(X_train_scaled, y_train)\n",
    "y_pred_with_scaling = logreg.predict(X_test_scaled)\n",
    "accuracy_with_scaling = accuracy_score(y_test, y_pred_with_scaling)\n",
    "print(f\"Accuracy with scaling: {accuracy_with_scaling * 100:.2f}%\")\n"
   ]
  },
  {
   "cell_type": "markdown",
   "id": "308a8484-955a-4844-84aa-de3fc0530485",
   "metadata": {},
   "source": [
    "Question16.Write a Python program to train Logistic Regression and evaluate its performance using ROC-AUC score"
   ]
  },
  {
   "cell_type": "code",
   "execution_count": 43,
   "id": "c32385c3-0bd5-48a5-b019-5ed0bfa0498c",
   "metadata": {},
   "outputs": [
    {
     "name": "stdout",
     "output_type": "stream",
     "text": [
      "ROC-AUC score: 0.9977\n"
     ]
    },
    {
     "data": {
      "image/png": "[encoded data removed]",
      "text/plain": [
       "<Figure size 800x600 with 1 Axes>"
      ]
     },
     "metadata": {},
     "output_type": "display_data"
    }
   ],
   "source": [
    "\n",
    "import pandas as pd\n",
    "from sklearn.datasets import load_breast_cancer\n",
    "from sklearn.model_selection import train_test_split\n",
    "from sklearn.linear_model import LogisticRegression\n",
    "from sklearn.metrics import roc_auc_score, roc_curve\n",
    "import matplotlib.pyplot as plt\n",
    "\n",
    "\n",
    "data = load_breast_cancer()\n",
    "X = data.data  \n",
    "y = data.target  \n",
    "\n",
    "\n",
    "X_train, X_test, y_train, y_test = train_test_split(X, y, test_size=0.2, random_state=42)\n",
    "\n",
    "\n",
    "logreg = LogisticRegression(max_iter=10000)\n",
    "logreg.fit(X_train, y_train)\n",
    "\n",
    "\n",
    "y_pred_prob = logreg.predict_proba(X_test)[:, 1]  \n",
    "\n",
    "\n",
    "roc_auc = roc_auc_score(y_test, y_pred_prob)\n",
    "print(f\"ROC-AUC score: {roc_auc:.4f}\")\n",
    "\n",
    "\n",
    "fpr, tpr, thresholds = roc_curve(y_test, y_pred_prob)\n",
    "\n",
    "\n",
    "plt.figure(figsize=(8, 6))\n",
    "plt.plot(fpr, tpr, color='blue', label=f'ROC Curve (AUC = {roc_auc:.2f})')\n",
    "plt.plot([0, 1], [0, 1], color='gray', linestyle='--') \n",
    "plt.title('Receiver Operating Characteristic (ROC) Curve')\n",
    "plt.xlabel('False Positive Rate (FPR)')\n",
    "plt.ylabel('True Positive Rate (TPR)')\n",
    "plt.legend(loc='lower right')\n",
    "plt.show()\n"
   ]
  },
  {
   "cell_type": "markdown",
   "id": "e638b6b8-d478-40be-817b-afcb027fe93b",
   "metadata": {},
   "source": [
    "Question17.Write a Python program to train Logistic Regression using a custom learning rate (C=0.5) and evaluate \n",
    "accurac?M"
   ]
  },
  {
   "cell_type": "code",
   "execution_count": 45,
   "id": "03772247-44dd-4daa-a982-5abc9178257b",
   "metadata": {},
   "outputs": [
    {
     "name": "stdout",
     "output_type": "stream",
     "text": [
      "Accuracy with C=0.5: 96.49%\n"
     ]
    }
   ],
   "source": [
    "\n",
    "import pandas as pd\n",
    "from sklearn.datasets import load_breast_cancer\n",
    "from sklearn.model_selection import train_test_split\n",
    "from sklearn.linear_model import LogisticRegression\n",
    "from sklearn.metrics import accuracy_score\n",
    "\n",
    "\n",
    "data = load_breast_cancer()\n",
    "X = data.data  \n",
    "y = data.target \n",
    "\n",
    "\n",
    "X_train, X_test, y_train, y_test = train_test_split(X, y, test_size=0.2, random_state=42)\n",
    "\n",
    "\n",
    "logreg = LogisticRegression(C=0.5, max_iter=10000)\n",
    "\n",
    "\n",
    "logreg.fit(X_train, y_train)\n",
    "\n",
    "\n",
    "y_pred = logreg.predict(X_test)\n",
    "\n",
    "\n",
    "accuracy = accuracy_score(y_test, y_pred)\n",
    "print(f\"Accuracy with C=0.5: {accuracy * 100:.2f}%\")\n"
   ]
  },
  {
   "cell_type": "markdown",
   "id": "0f977fc6-96b7-4dc7-a568-b4dc8232eaed",
   "metadata": {},
   "source": [
    "Question18.Write a Python program to train Logistic Regression and identify important features based on model \n",
    "coefficientM"
   ]
  },
  {
   "cell_type": "code",
   "execution_count": 47,
   "id": "00b4eebe-680a-4e50-baae-942818310498",
   "metadata": {},
   "outputs": [
    {
     "name": "stdout",
     "output_type": "stream",
     "text": [
      "Important Features based on Coefficients:\n",
      "                    Feature  Coefficient\n",
      "26          worst concavity    -1.411667\n",
      "11            texture error     1.387102\n",
      "0               mean radius     0.983540\n",
      "25        worst compactness    -0.764503\n",
      "28           worst symmetry    -0.731406\n",
      "6            mean concavity    -0.520178\n",
      "21            worst texture    -0.514710\n",
      "27     worst concave points    -0.496308\n",
      "2            mean perimeter    -0.368323\n",
      "24         worst smoothness    -0.302212\n",
      "7       mean concave points    -0.274086\n",
      "5          mean compactness    -0.231719\n",
      "1              mean texture     0.226157\n",
      "8             mean symmetry    -0.222870\n",
      "12          perimeter error    -0.162913\n",
      "4           mean smoothness    -0.153082\n",
      "29  worst fractal dimension    -0.101054\n",
      "20             worst radius     0.100387\n",
      "10             radius error    -0.093944\n",
      "13               area error    -0.089151\n",
      "16          concavity error    -0.046024\n",
      "15        compactness error     0.043980\n",
      "9    mean fractal dimension    -0.036773\n",
      "18           symmetry error    -0.034070\n",
      "17     concave points error    -0.031495\n",
      "3                 mean area     0.026306\n",
      "14         smoothness error    -0.021893\n",
      "22          worst perimeter    -0.017068\n",
      "23               worst area    -0.016594\n",
      "19  fractal dimension error     0.011057\n"
     ]
    }
   ],
   "source": [
    "\n",
    "import pandas as pd\n",
    "from sklearn.datasets import load_breast_cancer\n",
    "from sklearn.model_selection import train_test_split\n",
    "from sklearn.linear_model import LogisticRegression\n",
    "import numpy as np\n",
    "\n",
    "\n",
    "data = load_breast_cancer()\n",
    "X = pd.DataFrame(data.data, columns=data.feature_names)  \n",
    "y = data.target  \n",
    "\n",
    "\n",
    "X_train, X_test, y_train, y_test = train_test_split(X, y, test_size=0.2, random_state=42)\n",
    "\n",
    "\n",
    "logreg = LogisticRegression(max_iter=10000)\n",
    "logreg.fit(X_train, y_train)\n",
    "\n",
    "\n",
    "coefficients = logreg.coef_[0]\n",
    "\n",
    "\n",
    "coeff_df = pd.DataFrame({\n",
    "    'Feature': X.columns,\n",
    "    'Coefficient': coefficients\n",
    "})\n",
    "\n",
    "\n",
    "coeff_df['Absolute Coefficient'] = np.abs(coeff_df['Coefficient'])\n",
    "coeff_df_sorted = coeff_df.sort_values(by='Absolute Coefficient', ascending=False)\n",
    "\n",
    "\n",
    "print(\"Important Features based on Coefficients:\")\n",
    "print(coeff_df_sorted[['Feature', 'Coefficient']])\n",
    "\n"
   ]
  },
  {
   "cell_type": "markdown",
   "id": "41a8c95f-a8a8-43bc-8045-d9fe46b1d2f4",
   "metadata": {},
   "source": [
    "Question19. Write a Python program to train Logistic Regression and evaluate its performance using Cohen’s Kappa \n",
    "Score"
   ]
  },
  {
   "cell_type": "code",
   "execution_count": 49,
   "id": "026f7635-14c4-42e4-844b-846107b0d7e5",
   "metadata": {},
   "outputs": [
    {
     "name": "stdout",
     "output_type": "stream",
     "text": [
      "Accuracy: 95.61%\n",
      "Cohen's Kappa Score: 0.9053\n"
     ]
    }
   ],
   "source": [
    "\n",
    "import pandas as pd\n",
    "from sklearn.datasets import load_breast_cancer\n",
    "from sklearn.model_selection import train_test_split\n",
    "from sklearn.linear_model import LogisticRegression\n",
    "from sklearn.metrics import cohen_kappa_score, accuracy_score\n",
    "\n",
    "\n",
    "data = load_breast_cancer()\n",
    "X = pd.DataFrame(data.data, columns=data.feature_names)  \n",
    "y = data.target  \n",
    "\n",
    "\n",
    "X_train, X_test, y_train, y_test = train_test_split(X, y, test_size=0.2, random_state=42)\n",
    "\n",
    "\n",
    "logreg = LogisticRegression(max_iter=10000)\n",
    "logreg.fit(X_train, y_train)\n",
    "\n",
    "\n",
    "y_pred = logreg.predict(X_test)\n",
    "\n",
    "\n",
    "accuracy = accuracy_score(y_test, y_pred)\n",
    "print(f\"Accuracy: {accuracy * 100:.2f}%\")\n",
    "\n",
    "\n",
    "kappa = cohen_kappa_score(y_test, y_pred)\n",
    "print(f\"Cohen's Kappa Score: {kappa:.4f}\")\n"
   ]
  },
  {
   "cell_type": "markdown",
   "id": "9aecdb23-c463-4757-8c69-123a6a4547c7",
   "metadata": {},
   "source": [
    "Question20. Write a Python program to train Logistic Regression and visualize the Precision-Recall Curve for binary \n",
    "classificatin:"
   ]
  },
  {
   "cell_type": "code",
   "execution_count": 51,
   "id": "cc3eba54-649f-4051-b5f4-223ecb0791b7",
   "metadata": {},
   "outputs": [
    {
     "data": {
      "image/png": "[encoded data removed]",
      "text/plain": [
       "<Figure size 800x600 with 1 Axes>"
      ]
     },
     "metadata": {},
     "output_type": "display_data"
    }
   ],
   "source": [
    "\n",
    "import pandas as pd\n",
    "from sklearn.datasets import load_breast_cancer\n",
    "from sklearn.model_selection import train_test_split\n",
    "from sklearn.linear_model import LogisticRegression\n",
    "from sklearn.metrics import precision_recall_curve\n",
    "import matplotlib.pyplot as plt\n",
    "\n",
    "\n",
    "data = load_breast_cancer()\n",
    "X = pd.DataFrame(data.data, columns=data.feature_names)  \n",
    "y = data.target  \n",
    "\n",
    "\n",
    "X_train, X_test, y_train, y_test = train_test_split(X, y, test_size=0.2, random_state=42)\n",
    "\n",
    "\n",
    "logreg = LogisticRegression(max_iter=10000)\n",
    "logreg.fit(X_train, y_train)\n",
    "\n",
    "\n",
    "y_pred_prob = logreg.predict_proba(X_test)[:, 1]  \n",
    "\n",
    "\n",
    "precision, recall, thresholds = precision_recall_curve(y_test, y_pred_prob)\n",
    "\n",
    "\n",
    "plt.figure(figsize=(8, 6))\n",
    "plt.plot(recall, precision, color='blue', label='Precision-Recall Curve')\n",
    "plt.xlabel('Recall')\n",
    "plt.ylabel('Precision')\n",
    "plt.title('Precision-Recall Curve')\n",
    "plt.legend(loc='lower left')\n",
    "plt.grid(True)\n",
    "plt.show()\n"
   ]
  },
  {
   "cell_type": "markdown",
   "id": "964bfb91-3ed8-4983-9b2f-b7aa14d83aeb",
   "metadata": {},
   "source": [
    "Question21. Write a Python program to train Logistic Regression with different solvers (liblinear, saga, lbfgs) and compare \n",
    "their accuracy"
   ]
  },
  {
   "cell_type": "code",
   "execution_count": 53,
   "id": "949da077-f724-4bf2-a9b5-ad9fef34434b",
   "metadata": {},
   "outputs": [
    {
     "name": "stdout",
     "output_type": "stream",
     "text": [
      "Accuracy with solver 'liblinear': 95.61%\n",
      "Accuracy with solver 'saga': 97.37%\n",
      "Accuracy with solver 'lbfgs': 95.61%\n"
     ]
    }
   ],
   "source": [
    "\n",
    "import pandas as pd\n",
    "from sklearn.datasets import load_breast_cancer\n",
    "from sklearn.model_selection import train_test_split\n",
    "from sklearn.linear_model import LogisticRegression\n",
    "from sklearn.metrics import accuracy_score\n",
    "\n",
    "\n",
    "data = load_breast_cancer()\n",
    "X = pd.DataFrame(data.data, columns=data.feature_names) \n",
    "y = data.target  \n",
    "\n",
    "\n",
    "X_train, X_test, y_train, y_test = train_test_split(X, y, test_size=0.2, random_state=42)\n",
    "\n",
    "\n",
    "solvers = ['liblinear', 'saga', 'lbfgs']\n",
    "accuracies = {}\n",
    "\n",
    "\n",
    "for solver in solvers:\n",
    "    \n",
    "    logreg = LogisticRegression(solver=solver, max_iter=10000)\n",
    "    \n",
    "    \n",
    "    logreg.fit(X_train, y_train)\n",
    "    \n",
    "   \n",
    "    y_pred = logreg.predict(X_test)\n",
    "    \n",
    "    \n",
    "    accuracy = accuracy_score(y_test, y_pred)\n",
    "    accuracies[solver] = accuracy\n",
    "\n",
    "\n",
    "for solver, accuracy in accuracies.items():\n",
    "    print(f\"Accuracy with solver '{solver}': {accuracy * 100:.2f}%\")\n"
   ]
  },
  {
   "cell_type": "markdown",
   "id": "a99cbfe6-f697-4910-8839-c1155faa6bc1",
   "metadata": {},
   "source": [
    "Question22. Write a Python program to train Logistic Regression and evaluate its performance using Matthews \n",
    "Correlation Coefficient (MCCM"
   ]
  },
  {
   "cell_type": "code",
   "execution_count": 55,
   "id": "d6ffca00-111a-4cb0-a1c1-b6adffa2bb2c",
   "metadata": {},
   "outputs": [
    {
     "name": "stdout",
     "output_type": "stream",
     "text": [
      "Matthews Correlation Coefficient (MCC): 0.9068\n",
      "Accuracy: 95.61%\n"
     ]
    }
   ],
   "source": [
    "\n",
    "import pandas as pd\n",
    "from sklearn.datasets import load_breast_cancer\n",
    "from sklearn.model_selection import train_test_split\n",
    "from sklearn.linear_model import LogisticRegression\n",
    "from sklearn.metrics import matthews_corrcoef, accuracy_score\n",
    "\n",
    "\n",
    "data = load_breast_cancer()\n",
    "X = pd.DataFrame(data.data, columns=data.feature_names)  \n",
    "y = data.target  \n",
    "\n",
    "\n",
    "X_train, X_test, y_train, y_test = train_test_split(X, y, test_size=0.2, random_state=42)\n",
    "\n",
    "\n",
    "logreg = LogisticRegression(max_iter=10000)\n",
    "logreg.fit(X_train, y_train)\n",
    "\n",
    "\n",
    "y_pred = logreg.predict(X_test)\n",
    "\n",
    "\n",
    "mcc = matthews_corrcoef(y_test, y_pred)\n",
    "accuracy = accuracy_score(y_test, y_pred)\n",
    "\n",
    "\n",
    "print(f\"Matthews Correlation Coefficient (MCC): {mcc:.4f}\")\n",
    "print(f\"Accuracy: {accuracy * 100:.2f}%\")\n"
   ]
  },
  {
   "cell_type": "markdown",
   "id": "cdf9c4d3-689b-434d-8e84-7f3b360b9ec6",
   "metadata": {},
   "source": [
    "Question23. Write a Python program to train Logistic Regression on both raw and standardized data. Compare their \n",
    "accuracy to see the impact of feature scalinM"
   ]
  },
  {
   "cell_type": "code",
   "execution_count": 57,
   "id": "d0292499-f64f-414e-88cc-c854f44ffe7b",
   "metadata": {},
   "outputs": [
    {
     "name": "stdout",
     "output_type": "stream",
     "text": [
      "Accuracy on raw data: 95.61%\n",
      "Accuracy on standardized data: 97.37%\n"
     ]
    }
   ],
   "source": [
    "\n",
    "import pandas as pd\n",
    "from sklearn.datasets import load_breast_cancer\n",
    "from sklearn.model_selection import train_test_split\n",
    "from sklearn.linear_model import LogisticRegression\n",
    "from sklearn.preprocessing import StandardScaler\n",
    "from sklearn.metrics import accuracy_score\n",
    "\n",
    "\n",
    "data = load_breast_cancer()\n",
    "X = pd.DataFrame(data.data, columns=data.feature_names)  \n",
    "y = data.target  \n",
    "\n",
    "\n",
    "X_train, X_test, y_train, y_test = train_test_split(X, y, test_size=0.2, random_state=42)\n",
    "\n",
    "\n",
    "logreg_raw = LogisticRegression(max_iter=10000)\n",
    "logreg_raw.fit(X_train, y_train)\n",
    "\n",
    "\n",
    "y_pred_raw = logreg_raw.predict(X_test)\n",
    "accuracy_raw = accuracy_score(y_test, y_pred_raw)\n",
    "\n",
    "\n",
    "scaler = StandardScaler()\n",
    "X_train_scaled = scaler.fit_transform(X_train)\n",
    "X_test_scaled = scaler.transform(X_test)\n",
    "\n",
    "\n",
    "logreg_scaled = LogisticRegression(max_iter=10000)\n",
    "logreg_scaled.fit(X_train_scaled, y_train)\n",
    "\n",
    "\n",
    "y_pred_scaled = logreg_scaled.predict(X_test_scaled)\n",
    "accuracy_scaled = accuracy_score(y_test, y_pred_scaled)\n",
    "\n",
    "\n",
    "print(f\"Accuracy on raw data: {accuracy_raw * 100:.2f}%\")\n",
    "print(f\"Accuracy on standardized data: {accuracy_scaled * 100:.2f}%\")\n"
   ]
  },
  {
   "cell_type": "markdown",
   "id": "2befd371-cff0-4ce5-a01f-260034947549",
   "metadata": {},
   "source": [
    "Question24.Write a Python program to train Logistic Regression and find the optimal C (regularization strength) using \n",
    "cross-validatioM"
   ]
  },
  {
   "cell_type": "code",
   "execution_count": 59,
   "id": "dd1c51b3-f144-4953-beb2-b3c380c8082a",
   "metadata": {},
   "outputs": [
    {
     "name": "stderr",
     "output_type": "stream",
     "text": [
      "E:\\anaconda\\Lib\\site-packages\\sklearn\\linear_model\\_logistic.py:469: ConvergenceWarning: lbfgs failed to converge (status=1):\n",
      "STOP: TOTAL NO. of ITERATIONS REACHED LIMIT.\n",
      "\n",
      "Increase the number of iterations (max_iter) or scale the data as shown in:\n",
      "    https://scikit-learn.org/stable/modules/preprocessing.html\n",
      "Please also refer to the documentation for alternative solver options:\n",
      "    https://scikit-learn.org/stable/modules/linear_model.html#logistic-regression\n",
      "  n_iter_i = _check_optimize_result(\n"
     ]
    },
    {
     "name": "stdout",
     "output_type": "stream",
     "text": [
      "Optimal C: 100\n",
      "Test set accuracy with optimal C: 95.61%\n"
     ]
    },
    {
     "name": "stderr",
     "output_type": "stream",
     "text": [
      "E:\\anaconda\\Lib\\site-packages\\sklearn\\linear_model\\_logistic.py:469: ConvergenceWarning: lbfgs failed to converge (status=1):\n",
      "STOP: TOTAL NO. of ITERATIONS REACHED LIMIT.\n",
      "\n",
      "Increase the number of iterations (max_iter) or scale the data as shown in:\n",
      "    https://scikit-learn.org/stable/modules/preprocessing.html\n",
      "Please also refer to the documentation for alternative solver options:\n",
      "    https://scikit-learn.org/stable/modules/linear_model.html#logistic-regression\n",
      "  n_iter_i = _check_optimize_result(\n"
     ]
    }
   ],
   "source": [
    "\n",
    "import pandas as pd\n",
    "from sklearn.datasets import load_breast_cancer\n",
    "from sklearn.model_selection import train_test_split, GridSearchCV\n",
    "from sklearn.linear_model import LogisticRegression\n",
    "from sklearn.metrics import accuracy_score\n",
    "\n",
    "\n",
    "data = load_breast_cancer()\n",
    "X = pd.DataFrame(data.data, columns=data.feature_names)  \n",
    "y = data.target  \n",
    "\n",
    "\n",
    "X_train, X_test, y_train, y_test = train_test_split(X, y, test_size=0.2, random_state=42)\n",
    "\n",
    "\n",
    "logreg = LogisticRegression(max_iter=10000)\n",
    "\n",
    "\n",
    "param_grid = {'C': [0.001, 0.01, 0.1, 1, 10, 100]}\n",
    "\n",
    "\n",
    "grid_search = GridSearchCV(estimator=logreg, param_grid=param_grid, cv=5, scoring='accuracy')\n",
    "\n",
    "\n",
    "grid_search.fit(X_train, y_train)\n",
    "\n",
    "\n",
    "best_C = grid_search.best_params_['C']\n",
    "print(f\"Optimal C: {best_C}\")\n",
    "\n",
    "\n",
    "best_logreg = grid_search.best_estimator_\n",
    "\n",
    "\n",
    "y_pred = best_logreg.predict(X_test)\n",
    "\n",
    "\n",
    "accuracy = accuracy_score(y_test, y_pred)\n",
    "print(f\"Test set accuracy with optimal C: {accuracy * 100:.2f}%\")\n"
   ]
  },
  {
   "cell_type": "markdown",
   "id": "aa52cb11-7b10-48a6-baee-b635ab840d8e",
   "metadata": {},
   "source": [
    "Question25. Write a Python program to train Logistic Regression, save the trained model using joblib, and load it again to make predictions."
   ]
  },
  {
   "cell_type": "code",
   "execution_count": 61,
   "id": "3303f5ef-a252-425c-b321-f4746e16b2ca",
   "metadata": {},
   "outputs": [
    {
     "name": "stdout",
     "output_type": "stream",
     "text": [
      "Model saved successfully!\n",
      "Model loaded successfully!\n",
      "Accuracy of the loaded model: 95.61%\n"
     ]
    }
   ],
   "source": [
    "\n",
    "import pandas as pd\n",
    "from sklearn.datasets import load_breast_cancer\n",
    "from sklearn.model_selection import train_test_split\n",
    "from sklearn.linear_model import LogisticRegression\n",
    "from sklearn.metrics import accuracy_score\n",
    "import joblib  \n",
    "\n",
    "\n",
    "data = load_breast_cancer()\n",
    "X = pd.DataFrame(data.data, columns=data.feature_names)  \n",
    "y = data.target  \n",
    "\n",
    "\n",
    "X_train, X_test, y_train, y_test = train_test_split(X, y, test_size=0.2, random_state=42)\n",
    "\n",
    "\n",
    "logreg = LogisticRegression(max_iter=10000)\n",
    "logreg.fit(X_train, y_train)\n",
    "\n",
    "\n",
    "joblib.dump(logreg, 'logreg_model.joblib')\n",
    "print(\"Model saved successfully!\")\n",
    "\n",
    "\n",
    "loaded_model = joblib.load('logreg_model.joblib')\n",
    "print(\"Model loaded successfully!\")\n",
    "\n",
    "\n",
    "y_pred = loaded_model.predict(X_test)\n",
    "\n",
    "\n",
    "accuracy = accuracy_score(y_test, y_pred)\n",
    "print(f\"Accuracy of the loaded model: {accuracy * 100:.2f}%\")\n"
   ]
  }
 ],
 "metadata": {
  "kernelspec": {
   "display_name": "Python 3 (ipykernel)",
   "language": "python",
   "name": "python3"
  },
  "language_info": {
   "codemirror_mode": {
    "name": "ipython",
    "version": 3
   },
   "file_extension": ".py",
   "mimetype": "text/x-python",
   "name": "python",
   "nbconvert_exporter": "python",
   "pygments_lexer": "ipython3",
   "version": "3.12.4"
  }
 },
 "nbformat": 4,
 "nbformat_minor": 5
}
