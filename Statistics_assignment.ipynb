{
 "cells": [
  {
   "cell_type": "markdown",
   "id": "84d696fe-f833-4443-90e4-b8517065a63e",
   "metadata": {},
   "source": [
    "Question1. Explain the different types of data (qualitative and quantitative) and provide examples of each. Discuss nominal, ordinal, interval, and ratio scales.\n"
   ]
  },
  {
   "cell_type": "raw",
   "id": "a3dece81-e6e3-4628-ad8b-486c389cce8d",
   "metadata": {},
   "source": [
    "Answer\n",
    "\n",
    "\n",
    "Qualitative Data\n",
    "Qualitative data, also known as categorical data, refers to information that describes characteristics or qualities. It can be divided into two subtypes:\n",
    "\n",
    "Nominal Data: This type represents categories without a natural order.\n",
    "Examples :\n",
    "Types of fruits (apple, banana, orange)\n",
    "Colors (red, blue, green)\n",
    "Gender (male, female, non-binary)\n",
    "\n",
    "Ordinal Data: This type represents categories with a meaningful order, but the differences between the categories are not uniform. \n",
    "Examples:\n",
    "Survey responses (satisfied, neutral, dissatisfied)\n",
    "Educational levels (high school, bachelor's, master's, PhD)\n",
    "Movie ratings (poor, fair, good, excellent)\n",
    "\n",
    "Quantitative Data\n",
    "Quantitative data refers to numerical information that can be measured and quantified. It can be divided into two subtypes:\n",
    "\n",
    "Interval Data: This type has meaningful differences between values, but there is no true zero point. Examples :\n",
    "Temperature in Celsius or Fahrenheit (the difference between 20°C and 30°C is meaningful, but 0°C doesn’t represent a total absence of temperature)\n",
    "Calendar years (the year 2000 is not “twice as much” as 1000)\n",
    "\n",
    "Ratio Data: This type has all the properties of interval data, but it also includes a true zero point, allowing for meaningful comparisons. \n",
    "Examples :\n",
    "Height (a height of 0 cm means no height)\n",
    "Weight (0 kg means no weight)\n",
    "Income (0 dollars indicates no income)"
   ]
  },
  {
   "cell_type": "markdown",
   "id": "e1f3c12e-a8ec-487d-9b9f-432640e29025",
   "metadata": {},
   "source": [
    "Question2. What are the measures of central tendency, and when should you use each? Discuss the mean, median,\n",
    "and mode with examples and situations where each is appropriate\n",
    "\n",
    "."
   ]
  },
  {
   "cell_type": "raw",
   "id": "01340c50-2ff6-47a1-9829-2f9d7d01aa8d",
   "metadata": {},
   "source": [
    "Answer:\n",
    "1. Mean\n",
    "The mean is the average of a set of numbers, calculated by summing all values and dividing by the number of values.\n",
    "Example:\n",
    "dataset: 3, 5, 7, 8, 10.\n",
    "Mean = (3 + 5 + 7 + 8 + 10) / 5 = 33 / 5 = 6.6\n",
    "\n",
    "When to Use:\n",
    "a. The data is normally distributed (not skewed).\n",
    "b. To include all values in the calculation.\n",
    "c. There are no outliers that could skew the average.\n",
    "\n",
    "2. Median\n",
    "The median is the middle value of a dataset when it is ordered from least to greatest. If there is an even number of values, the median is the average of the two middle numbers.\n",
    "Example:\n",
    "dataset: 3, 5, 7, 8, 10\n",
    "median = 7 (the middle value)\n",
    "For an even dataset: 3, 5, 7, 8, 10, 12\n",
    "median (7 + 8) / 2 = 7.5\n",
    "\n",
    "When to Use:\n",
    "a. The dataset is skewed (not normally distributed).\n",
    "b. To minimize the effect of outliers on the central tendency.\n",
    "c. When dealing with ordinal data, where mean calculation isn't suitable.\n",
    "\n",
    "3. Mode\n",
    "The mode is the value that appears most frequently in a dataset. A dataset may have one mode (unimodal), more than one mode (bimodal or multimodal), or no mode at all if no number repeats.\n",
    "\n",
    "Example:\n",
    "dataset: 2, 4, 4, 4, 5, 6\n",
    "mode= 4 (it appears most frequently).\n",
    "dataset: 1, 1, 2, 2, 3\n",
    "modes = 1 and 2 (bimodal).\n",
    "\n",
    "When to Use:\n",
    "a. The data is categorical, and you want to identify the most common category.\n",
    "b. To find the most frequent occurrence in the dataset.\n",
    "c. When working with nominal data where mean and median are not applicable."
   ]
  },
  {
   "cell_type": "markdown",
   "id": "f922a82f-fac1-41da-b6eb-85ebf788737d",
   "metadata": {},
   "source": [
    "Question3. Explain the concept of dispersion. How do variance and standard deviation measure the spread of data?\n",
    "\n"
   ]
  },
  {
   "cell_type": "raw",
   "id": "8f61fa2d-d791-40b6-879e-5c962e9c03a7",
   "metadata": {},
   "source": [
    "Answer:\n",
    "Dispersion:\n",
    "Dispersion, or variability, refers to the extent to which data points in a dataset differ from one another and from the central value (mean).\n",
    "\n",
    "Concepts of Dispersion:\n",
    "Range: \n",
    "The simplest measure of dispersion, calculated as the difference between the maximum and minimum values in a dataset. However, it can be sensitive to outliers.\n",
    "\n",
    "Variance:\n",
    "Variance quantifies how much the values in a dataset deviate from the mean. It is the average of the squared differences between each data point and the mean.\n",
    "\n",
    "Standard Deviation: \n",
    "The standard deviation is the square root of the variance and provides a measure of dispersion in the same units as the original data. It indicates how much the data points typically deviate from the mean.\n",
    "\n",
    "Importance of Variance and Standard Deviation\n",
    "a. Variance provides a measure of how spread out the data points are, but it is in squared units, which can make interpretation less intuitive.\n",
    "b. Standard Deviation is more commonly used because it is in the same units as the data, making it easier to understand and relate to the original data context."
   ]
  },
  {
   "cell_type": "markdown",
   "id": "809d2580-8d65-45af-be41-ba6d116121b7",
   "metadata": {},
   "source": [
    "Question4. What is a box plot, and what can it tell you about the distribution of data?\n",
    "\n"
   ]
  },
  {
   "cell_type": "raw",
   "id": "0b8729e6-46a3-4439-8db7-33e2abbccac1",
   "metadata": {},
   "source": [
    "Answer:\n",
    "Box plot:\n",
    "A box plot (or whisker plot) is a graphical representation of the distribution of a dataset that summarizes its key statistical features, including its central tendency, dispersion, and the presence of outliers. \n",
    "It provides a visual way to compare distributions across different groups.\n",
    "\n",
    "It tells about:\n",
    "\n",
    "Central Tendency:\n",
    "The position of the median line within the box provides insight into the central tendency of the data.\n",
    "\n",
    "Spread:\n",
    "The length of the box (IQR) indicates the spread of the middle 50% of the data. A larger box suggests greater variability, while a smaller box suggests less variability.\n",
    "\n",
    "Skewness:\n",
    "The relative lengths of the whiskers can indicate skewness. If the upper whisker is longer, the data may be positively skewed, and if the lower whisker is longer, it may be negatively skewed.\n",
    "\n",
    "Outliers:\n",
    "Outliers are easily identifiable, helping to highlight unusual data points that may warrant further investigation.\n",
    "\n",
    "Comparison Between Groups:\n",
    "When box plots are used side by side for different groups, they facilitate easy comparisons regarding medians, spreads, and outliers across these groups."
   ]
  },
  {
   "cell_type": "markdown",
   "id": "9e799237-934c-4602-9251-fbdcd3c1dbad",
   "metadata": {},
   "source": [
    "Question5. Discuss the role of random sampling in making inferences about populations.\n",
    "\n",
    "\n",
    "\n",
    "\n",
    "\n"
   ]
  },
  {
   "cell_type": "raw",
   "id": "b6db4cdb-09dd-4e4e-bb46-e7e47b729659",
   "metadata": {},
   "source": [
    "Answer\n",
    "Random sampling is essential for making accurate inferences about populations. By ensuring that samples are representative, researchers can generalize findings, reduce sampling error, and apply statistical methods effectively. This approach enhances the validity and reliability of research outcomes, making it a cornerstone of sound statistical practice.\n"
   ]
  },
  {
   "cell_type": "markdown",
   "id": "230e31bd-34f1-49e1-a8c6-fb913d20a663",
   "metadata": {},
   "source": [
    "Question6. Explain the concept of skewness and its types. How does skewness affect the interpretation of data?\n",
    "\n"
   ]
  },
  {
   "cell_type": "raw",
   "id": "da6cdaa4-bf2a-4a1a-8f73-fa9448540623",
   "metadata": {},
   "source": [
    "Answer:\n",
    "Skewness refers to the asymmetry or lack of symmetry in the distribution of data. It indicates how much and in which direction the distribution deviates from a normal distribution.\n",
    "\n",
    "Types of Skewness:\n",
    "Positive Skewness (Right Skewness):\n",
    "In a positively skewed distribution, the tail on the right side (higher values) is longer or fatter than the left side.\n",
    "\n",
    "Negative Skewness (Left Skewness):\n",
    "In a negatively skewed distribution, the tail on the left side (lower values) is longer or fatter than the right side. \n",
    "\n",
    "Zero Skewness (Symmetrical Distribution):\n",
    "A distribution with zero skewness is perfectly symmetrical. \n",
    "\n",
    "Impact of Skewness on Data Interpretation\n",
    "a. Central Tendency:\n",
    "Skewness affects the relationship between mean, median, and mode. In skewed distributions, the mean may not accurately represent the central tendency, as it can be influenced by extreme values.\n",
    "b. Statistical Analysis:\n",
    "Many statistical techniques, such as t-tests and ANOVA, assume normality. \n",
    "c.Outliers:\n",
    "Skewness often indicates the presence of outliers that can distort data analysis.\n",
    "d.Decision Making:\n",
    "In fields like finance or social sciences, understanding skewness can inform risk assessment, policy decisions, and resource allocation. "
   ]
  },
  {
   "cell_type": "markdown",
   "id": "f6cd3035-c540-456e-abd4-b25167520f05",
   "metadata": {},
   "source": [
    "Question7. What is the interquartile range (IQR), and how is it used to detect outliers?\r\n",
    "\n",
    "\r"
   ]
  },
  {
   "cell_type": "raw",
   "id": "8e54f7cb-2708-4c6f-bf24-e9c07e1eda55",
   "metadata": {},
   "source": [
    "#Answer:\n",
    "#The interquartile range (IQR) is a measure of statistical dispersion that represents the range of the middle 50% of a dataset. It is calculated by finding the difference between the third quartile (Q3) and the first quartile (Q1):\n",
    "\n",
    "#The interquartile range (IQR) is a valuable tool for measuring variability and detecting outliers. By focusing on the middle 50% of the data, the IQR provides a robust measure of spread, and the outlier detection method based on IQR helps identify values that deviate significantly from the overall distribution, ensuring more reliable data analysis."
   ]
  },
  {
   "cell_type": "markdown",
   "id": "41379223-dc39-42d7-86cb-03e8e5b84f7e",
   "metadata": {},
   "source": [
    "Question8. Discuss the conditions under which the binomial distribution is used.\n",
    "\n"
   ]
  },
  {
   "cell_type": "raw",
   "id": "f25fc0b0-65a1-4255-8cce-09ea851cd924",
   "metadata": {},
   "source": [
    "Answer:\n",
    "The binomial distribution is a discrete probability distribution that models the number of successes in a fixed number of independent Bernoulli trials. Each trial has two possible outcomes: \"success\" and \"failure.\" Here are the key conditions under which the binomial distribution is used:\n",
    "\n",
    "Conditions for Using the Binomial Distribution\n",
    "Fixed Number of Trials:\n",
    "\n",
    "The number of trials, denoted as \n",
    "𝑛, must be predetermined and constant. \n",
    "For example, if you are flipping a coin 10 times, n would be 10.\n",
    "\n",
    "Two Possible Outcomes:\n",
    "Each trial must result in one of two possible outcomes: a success or a failure. For instance, in a coin flip, heads can be defined as a success and tails as a failure.\n",
    "\n",
    "Independent Trials:\n",
    "The trials must be independent of one another, meaning the outcome of one trial does not influence the outcome of another. For example, flipping a coin multiple times meets this criterion since each flip is unrelated to the others.\n",
    "\n",
    "Constant Probability of Success:\n",
    "The probability of success, denoted as p, must remain constant for each trial. \n"
   ]
  },
  {
   "cell_type": "markdown",
   "id": "e72be67c-6aaa-4670-9e74-5cc2b755fc4b",
   "metadata": {},
   "source": [
    "Question9. Explain the properties of the normal distribution and the empirical rule (68-95-99.7 rule).\n",
    "\n"
   ]
  },
  {
   "cell_type": "raw",
   "id": "dc1df74f-aee7-4cf1-b738-92a74e9de281",
   "metadata": {},
   "source": [
    "Answer:\n",
    "The normal distribution is a continuous probability distribution that is symmetric about its mean, showing that data near the mean are more frequent in occurrence than data far from the mean. It is one of the most important distributions in statistics, often used because of its properties and its ability to approximate many real-world phenomena.\n",
    "\n",
    "Properties of the Normal Distribution\n",
    "Symmetry:\n",
    "The normal distribution is symmetric around its mean. This means that the left side of the distribution is a mirror image of the right side.\n",
    "\n",
    "Mean, Median, and Mode:\n",
    "In a normal distribution, the mean, median, and mode are all equal and located at the center of the distribution.\n",
    "\n",
    "Bell-Shaped Curve:\n",
    "The graph of a normal distribution is bell-shaped, with the highest point at the mean and tails that extend infinitely in both directions, approaching but never touching the horizontal axis.\n",
    "Defined by Two Parameters:\n",
    "\n",
    "The normal distribution is fully defined by its mean (μ) and standard deviation (σ). The mean indicates the center, while the standard deviation determines the spread of the distribution.\n",
    "\n",
    "Asymptotic:\n",
    "The tails of the normal distribution approach the horizontal axis but never actually touch it, meaning that there is always a non-zero probability of extreme values, no matter how far away from the mean.\n",
    "\n",
    "Total Area Under the Curve:\n",
    "The total area under the normal distribution curve is equal to 1, representing the entirety of the probability space.\n",
    "\n",
    "The Empirical Rule (68-95-99.7 Rule)\n",
    "The empirical rule, also known as the 68-95-99.7 rule, provides a quick way to understand the distribution of data in a normal distribution:\n",
    "\n",
    "68% of Data:\n",
    "Approximately 68% of the data falls within one standard deviation (μ±σ) from the mean. This means that if you take a normally distributed dataset, about 68% of the data points will lie within this range.\n",
    "\n",
    "95% of Data:\n",
    "About 95% of the data falls within two standard deviations (μ±2σ) from the mean. This provides a broader range and indicates that most values are concentrated around the mean.\n",
    "\n",
    "99.7% of Data:\n",
    "Approximately 99.7% of the data lies within three standard deviations (μ±3σ) from the mean. This captures nearly all data points in a normally distributed dataset."
   ]
  },
  {
   "cell_type": "markdown",
   "id": "dea4d975-1334-4637-9c71-2222bfe831f0",
   "metadata": {},
   "source": [
    "Question10. Provide a real-life example of a Poisson process and calculate the probability for a specific event.\n",
    "\n",
    "Answer:\n",
    "A Poisson process is a statistical model that describes events occurring randomly over a fixed interval of time or space. It is characterized by the following properties:\n",
    "\n",
    "a. Events occur independently.\n",
    "b. The average rate at which events occur is constant.\n",
    "c. Two events cannot occur at exactly the same instant."
   ]
  },
  {
   "cell_type": "code",
   "execution_count": 1,
   "id": "dc168d06-8fdc-4ae5-987e-3e0bcdf06103",
   "metadata": {},
   "outputs": [
    {
     "data": {
      "text/plain": [
       "0.14037389581428056"
      ]
     },
     "execution_count": 1,
     "metadata": {},
     "output_type": "execute_result"
    }
   ],
   "source": [
    "# Possion Process :- A Poisson process is used to model events that happen randomly over a fixed interval of time or space, where the events are independent of each other. \n",
    " # A common real-life example is the number of phone calls received at a call center in a given hour.\n",
    "\n",
    "            # Example: Let's assume a call center receives an average of 5 calls per hour. The number of calls in an hour follows a Poisson distribution with a rate parameter \n",
    "                    # 𝜆 = 5\n",
    "# Now, let's calculate the probability that exactly 3 calls will be received in the next hour.\n",
    "\n",
    "# Poisson Probability Formula:\n",
    "  # The probability of observing k events (in this case, calls) in a fixed interval is given by the Poisson formula:\n",
    "\n",
    "\n",
    "         #  P(k; λ) = (e^(-λ) * λ^k) / k!\n",
    "\n",
    "# Where:\n",
    "\n",
    "# k is the number of events (in this case, 3 calls),\n",
    "# λ is the average number of events (5 calls per hour),\n",
    "# e is Euler's number (approximately 2.71828).\n",
    "# Let's compute the probability for \n",
    "    # 𝑘 = 3 calls. I can calculate this for you.\n",
    "    \n",
    "import math\n",
    "\n",
    "lambda_rate = 5 \n",
    "k = 3  \n",
    "poisson_prob = (math.exp(-lambda_rate) * lambda_rate**k) / math.factorial(k)\n",
    "poisson_prob\n"
   ]
  },
  {
   "cell_type": "markdown",
   "id": "65ab5aca-be22-4dae-8f7a-d1e21b0d960a",
   "metadata": {},
   "source": [
    "## Question 11th:- Explain what a random variable is and differentiate between discrete and continuous random variables."
   ]
  },
  {
   "cell_type": "code",
   "execution_count": 5,
   "id": "bd89d515-6442-4738-b8dc-ea7c4cadbd5b",
   "metadata": {},
   "outputs": [
    {
     "name": "stdout",
     "output_type": "stream",
     "text": [
      "================\n",
      "Discrete Random Variable (Die Roll): 5\n",
      "Continuous Random Variable (Height in meters): 1.76\n"
     ]
    }
   ],
   "source": [
    "#Answer:\n",
    "# Random Variable:- A random variable is a variable that takes on numerical values based on the outcomes of a random process or experiment. \n",
    "# Essentially, it maps the outcomes of random events to numbers, allowing us to study and analyze randomness mathematically.\n",
    "\n",
    "   #  Types of Random Variables\n",
    "          \n",
    "        # 1.Discrete Random Variable: A discrete random variable takes on a countable number of distinct values. These values often come from outcomes of an experiment like rolling a die or counting the number of phone calls in an hour.\n",
    "          # Example: The number of heads in 10 coin flips (which could be 0, 1, 2, ..., 10).\n",
    "\n",
    "        # 2.Continuous Random Variable: A continuous random variable takes on an infinite number of possible values, often representing measurements. These values are uncountable and can take any value in a given range.\n",
    "          # Example: The time it takes for a train to arrive, which can be any real number (e.g., 5.32 minutes).\n",
    "\n",
    "# Key Difference:\n",
    "# Discrete variables have distinct, countable values.\n",
    "# Continuous variables can take on any value within a range and are uncountable.\n",
    "\n",
    "import numpy as np\n",
    "import random\n",
    "\n",
    "\n",
    "discrete_rv = random.randint(1, 6) \n",
    "continuous_rv = np.random.uniform(1.5, 2.0)\n",
    "\n",
    "(discrete_rv, continuous_rv)\n",
    "\n",
    "print(\"================\")\n",
    "\n",
    "import numpy as np\n",
    "import random\n",
    "\n",
    "discrete_rv = random.randint(1, 6)\n",
    "continuous_rv = np.random.uniform(1.5, 2.0)\n",
    "\n",
    "print(f\"Discrete Random Variable (Die Roll): {discrete_rv}\")\n",
    "print(f\"Continuous Random Variable (Height in meters): {continuous_rv:.2f}\")\n"
   ]
  },
  {
   "cell_type": "markdown",
   "id": "6ad75813-9f98-4e2e-b981-0d47c2f0668c",
   "metadata": {},
   "source": [
    "## Question 12th:-. Provide an example dataset, calculate both covariance and correlation, and interpret the results."
   ]
  },
  {
   "cell_type": "code",
   "execution_count": 7,
   "id": "092f7b03-6d99-4a1e-882c-df5f2e357a9c",
   "metadata": {},
   "outputs": [
    {
     "name": "stdout",
     "output_type": "stream",
     "text": [
      "15.0\n",
      "=====================\n",
      "0.9933992677987827\n"
     ]
    }
   ],
   "source": [
    "#answer\n",
    "# Let's create a simple example dataset with two variables, 𝑋 and \n",
    "  # Y. Then, we will calculate both the covariance and the Pearson correlation coefficient and interpret the results.\n",
    "    \n",
    "# Example Dataset:-We can use this small dataset with 5 observations:\n",
    "\n",
    "# X\t    Y\n",
    "# 2\t    3\n",
    "# 4\t    7\n",
    "# 6\t    9\n",
    "# 8\t    13\n",
    "# 10\t 15\n",
    "\n",
    "# 1. Covariance Calculation:-Covariance measures how much two variables vary together. A positive covariance indicates that the variables increase together, while a negative covariance means they move in opposite directions.\n",
    "\n",
    "     # The formula for covariance is:\n",
    "#                               n    _     _\n",
    "             # Cov(X,Y)= (1/n−1)∑(Xi−X)(Yi−Y)\n",
    "#                               i=1      \n",
    "\n",
    "\n",
    "# Where:\n",
    "\n",
    "  # Xi and Yi are the values of the variables 𝑋 and 𝑌\n",
    "#   _    _\n",
    "  #𝑌 and X are the means of X and 𝑌\n",
    "  \n",
    "  # n is the number of observations.\n",
    "    \n",
    "    \n",
    "# 2. Correlation Calculation:- The Pearson correlation coefficient standardizes covariance, giving a value between -1 and 1. The formula is:\n",
    "\n",
    "         # 𝑟 = Cov(𝑋,𝑌)/𝜎𝑋𝜎𝑌\n",
    "\n",
    " \n",
    "  # Where \n",
    "        # 𝜎𝑋 and 𝜎𝑌 are the standard deviations of X and 𝑌\n",
    "\n",
    "        \n",
    "import numpy as np\n",
    "import pandas as pd\n",
    "\n",
    "# Example dataset\n",
    "data = {'X': [2, 4, 6, 8, 10], 'Y': [3, 7, 9, 13, 15]}\n",
    "df = pd.DataFrame(data)\n",
    "\n",
    "\n",
    "cov_matrix = np.cov(df['X'], df['Y'])\n",
    "covariance = cov_matrix[0, 1]\n",
    "\n",
    "\n",
    "correlation = np.corrcoef(df['X'], df['Y'])[0, 1]\n",
    "\n",
    "print(covariance)\n",
    "\n",
    "print(\"=====================\")\n",
    "print(correlation)\n"
   ]
  },
  {
   "cell_type": "code",
   "execution_count": null,
   "id": "4c0f0d80-2753-4035-a58b-a98ef8161ffb",
   "metadata": {},
   "outputs": [],
   "source": []
  }
 ],
 "metadata": {
  "kernelspec": {
   "display_name": "Python 3 (ipykernel)",
   "language": "python",
   "name": "python3"
  },
  "language_info": {
   "codemirror_mode": {
    "name": "ipython",
    "version": 3
   },
   "file_extension": ".py",
   "mimetype": "text/x-python",
   "name": "python",
   "nbconvert_exporter": "python",
   "pygments_lexer": "ipython3",
   "version": "3.12.4"
  }
 },
 "nbformat": 4,
 "nbformat_minor": 5
}
