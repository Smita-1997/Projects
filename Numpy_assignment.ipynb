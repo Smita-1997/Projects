{
 "cells": [
  {
   "cell_type": "raw",
   "id": "71792b7f-1460-4a18-a647-15387be74148",
   "metadata": {},
   "source": [
    "#1. Explain the purpose and advantages of NumPy in scientific computing and data analysis. How does it enhance Python's capabilities for numerical operations?\n",
    "#answer-\n",
    "#NumPy is a fundamental library in Python for scientific computing and data analysis\n",
    "#purpose of numpy:-\n",
    "#1.NumPy introduces the ndarray object, which is a powerful N-dimensional array-it stores and manipulate large data sets.\n",
    "#2.Due to array it stores homogenous data so numpy array is faster.and mathematical computation is also faster.\n",
    "#3.Integration with Other Libraries\n",
    "\n",
    "#advantage:\n",
    "1.Numpy is build using C so numpy computation is faster.\n",
    "2.NumPy arrays use less memory.\n",
    "3.Arrays are stored in contiguous memory location.\n",
    "4.NumPy arrays support slicing, indexing, and iteration which relatively makes easy tp work with multidimensional data\n",
    "5.it makes mathematical operations fasters.\n"
   ]
  },
  {
   "cell_type": "raw",
   "id": "c148ae8c-5c8c-40f5-a5d1-1dbe945fadf1",
   "metadata": {},
   "source": [
    "Q2.Compare and contrast np.mean() and np.average() functions in NumPy. When would you use one over the\n",
    "other?\n",
    "answer-\n",
    "1.np.mean()--Computes the arithmetic mean (average) of array elements.\n",
    "Computes the weighted average of array elements.\n",
    "2.np.average()--Computes the weighted average of array elements.\n",
    "It’s also useful when you need to return both the weighted average and the sum of weights.\n",
    "\n"
   ]
  },
  {
   "cell_type": "raw",
   "id": "d92c9ecb-a74a-4c28-8efc-085ac765197c",
   "metadata": {},
   "source": [
    "3. Describe the methods for reversing a NumPy array along different axes. Provide examples for 1D and 2D\n",
    "arrays.\n",
    "answer--\n",
    "Reversing 1d array-\n",
    "use slicing to reverse the order of elements."
   ]
  },
  {
   "cell_type": "code",
   "execution_count": 1,
   "id": "e194a8f1-4135-4db4-8165-0dd456dd211d",
   "metadata": {},
   "outputs": [],
   "source": [
    "import numpy as np\n"
   ]
  },
  {
   "cell_type": "code",
   "execution_count": 3,
   "id": "de1837ba-ea55-4e25-9b30-6477f153dca4",
   "metadata": {},
   "outputs": [],
   "source": [
    "a = np.array([1, 2, 3, 4 ,5])\n",
    "reversed_arr = a[::-1] #creates elements with reversed order\n"
   ]
  },
  {
   "cell_type": "code",
   "execution_count": 4,
   "id": "bbdeab31-96d3-49af-9dc7-daae37e30221",
   "metadata": {},
   "outputs": [
    {
     "data": {
      "text/plain": [
       "array([5, 4, 3, 2, 1])"
      ]
     },
     "execution_count": 4,
     "metadata": {},
     "output_type": "execute_result"
    }
   ],
   "source": [
    "reversed_arr"
   ]
  },
  {
   "cell_type": "code",
   "execution_count": 5,
   "id": "b8f2f3b5-0a0d-4839-b00b-3a7e3cc97d86",
   "metadata": {},
   "outputs": [],
   "source": [
    "#reversing 2d array\n",
    "#For a 2D array,can reverse the array along specific axes. \n",
    "#The axes are indexed as\n",
    "#0 for rows\n",
    "#1 for columns.\n",
    "\n",
    "arr = np.array([[1, 2, 3],\n",
    "                [4, 5, 6],\n",
    "                [7, 8, 9]])\n",
    "#rows\n",
    "reversed_axis0 = arr[::-1, :]\n",
    "                "
   ]
  },
  {
   "cell_type": "code",
   "execution_count": 6,
   "id": "10bf7cd7-ef34-44e5-b9cb-7f5d679b4cef",
   "metadata": {},
   "outputs": [
    {
     "data": {
      "text/plain": [
       "array([[7, 8, 9],\n",
       "       [4, 5, 6],\n",
       "       [1, 2, 3]])"
      ]
     },
     "execution_count": 6,
     "metadata": {},
     "output_type": "execute_result"
    }
   ],
   "source": [
    "reversed_axis0"
   ]
  },
  {
   "cell_type": "code",
   "execution_count": 7,
   "id": "984074ab-d183-4859-896c-9223c917638c",
   "metadata": {},
   "outputs": [],
   "source": [
    "#column\n",
    "arr = np.array([[1, 2, 3],\n",
    "                [4, 5, 6],\n",
    "                [7, 8, 9]])\n",
    "\n",
    "reversed_axis1 = arr[:, ::-1]"
   ]
  },
  {
   "cell_type": "code",
   "execution_count": 8,
   "id": "13e4f8e4-e2f1-4933-99a6-c7943bdaaf7b",
   "metadata": {},
   "outputs": [
    {
     "data": {
      "text/plain": [
       "array([[3, 2, 1],\n",
       "       [6, 5, 4],\n",
       "       [9, 8, 7]])"
      ]
     },
     "execution_count": 8,
     "metadata": {},
     "output_type": "execute_result"
    }
   ],
   "source": [
    "reversed_axis1"
   ]
  },
  {
   "cell_type": "code",
   "execution_count": 10,
   "id": "c8c91f58-b127-460e-96e5-5a59b18d9e2f",
   "metadata": {},
   "outputs": [],
   "source": [
    "#reverse both row and column\n",
    "arr = np.array([[1, 2, 3],\n",
    "                [4, 5, 6],\n",
    "                [7, 8, 9]])\n",
    "\n",
    "reversed_axis2 = arr[::-1, ::-1]"
   ]
  },
  {
   "cell_type": "code",
   "execution_count": 11,
   "id": "edb3efca-0fca-491f-a7e8-f4bf8b2c642f",
   "metadata": {},
   "outputs": [
    {
     "data": {
      "text/plain": [
       "array([[9, 8, 7],\n",
       "       [6, 5, 4],\n",
       "       [3, 2, 1]])"
      ]
     },
     "execution_count": 11,
     "metadata": {},
     "output_type": "execute_result"
    }
   ],
   "source": [
    "reversed_axis2"
   ]
  },
  {
   "cell_type": "raw",
   "id": "ca5f08d5-47ec-45ee-8d2b-a016b821b8a1",
   "metadata": {},
   "source": [
    "4. How can you determine the data type of elements in a NumPy array? Discuss the importance of data types\n",
    "in memory management and performance\n",
    "answer\n",
    "determine the data type of the elements in an array using the dtype attribute of the array. \n",
    "The dtype provides information about the type and size of the elements.\n",
    "importance of data types in memory management and performance:-\n",
    "Data types affect memory usage, computational performance, and precision. \n",
    "Selecting the right data type helps optimize memory management and ensures that computations are performed faster and efficiently,"
   ]
  },
  {
   "cell_type": "code",
   "execution_count": 21,
   "id": "c4338de3-c46a-421b-bd6d-df23d5c3562b",
   "metadata": {},
   "outputs": [],
   "source": [
    "a = np.array([1, 2, 3, 4, 5])\n",
    "data_type = arr.dtype"
   ]
  },
  {
   "cell_type": "code",
   "execution_count": 22,
   "id": "1db5fe8c-ec0c-49e1-9ea6-3993fa31122e",
   "metadata": {},
   "outputs": [
    {
     "data": {
      "text/plain": [
       "dtype('int64')"
      ]
     },
     "execution_count": 22,
     "metadata": {},
     "output_type": "execute_result"
    }
   ],
   "source": [
    "data_type"
   ]
  },
  {
   "cell_type": "raw",
   "id": "042be966-dd56-4ab1-9ddc-390a4cc36e82",
   "metadata": {},
   "source": [
    "Q5.Define ndarrays in NumPy and explain their key features. How do they differ from standard Python lists?\n",
    "answer:-\n",
    "ndarray:\n",
    "1.core data structure in NumPy. \n",
    "2.It represents a multi-dimensional array of elements,\n",
    "All elements in a ndarray must be of the same data type\n",
    "3.ndarray objects are stored in contiguous blocks of memory\n",
    "4.NumPy provides a wide array of mathematical functions that operate on ndarray objects\n",
    "5.ndarray objects have attributes like shape, ndim, and size to easily access the dimensions, number of dimensions, and total number of elements in the array.\n",
    "\n",
    "Differ from standard python list:-\n",
    "1.In ndarray allelements must be of the same data type But in python list elements can be of different data types within the same list.\n",
    "2.ndarray is optimized for numerical operations with efficient memory storage and faster computations but python list slower for numerical operations.\n",
    "3.ndarray stores data in contiguous memory blocks whereas in Python lists elements can be scattered in memory,\n"
   ]
  },
  {
   "cell_type": "raw",
   "id": "c8b75b89-d493-48c9-8a44-b36a8dcd0747",
   "metadata": {},
   "source": [
    "Q6. Analyze the performance benefits of NumPy arrays over Python lists for large-scale numerical operations.\n",
    "Memory Efficiency: NumPy arrays use contiguous memory allocation and a homogeneous data type, which optimizes memory usage and access speed. Python lists, being heterogeneous and fragmented, are less efficient.\n",
    "\n",
    "Speed: NumPy's  use of optimized numerical libraries make computations significantly faster compared to Python lists, which rely on slower loop-based operations.\n",
    "\n",
    "Data Manipulation: NumPy provides advanced indexing and slicing capabilities that are optimized for performance, unlike Python lists.\n",
    "\n",
    "Parallelism: NumPy can leverage parallel processing for further performance gains, a capability that Python lists do not natively support.\n",
    "\n",
    "So, NumPy arrays are designed to handle large-scale numerical operations efficiently, making them a preferred choice for data analysis, scientific computing, and any application requiring high-performance numerical computations.\n",
    "\n",
    "\n",
    "\n",
    "\n"
   ]
  },
  {
   "cell_type": "raw",
   "id": "42dfbad4-9a8b-425d-b190-173fd6390307",
   "metadata": {},
   "source": [
    "Q7. Compare vstack() and hstack() functions in NumPy. Provide examples demonstrating their usage and\n",
    "output.\n",
    "ANSWER-\n",
    "vstack():\n",
    "Stacks arrays vertically (along rows).\n",
    "Adds rows from the second array below the rows of the first array.\n",
    "The arrays must have the same number of columns.\n",
    "hstack():\n",
    "Stacks arrays horizontally (along columns).\n",
    "Adds columns from the second array to the right of the columns of the first array.\n",
    "The arrays must have the same number of rows."
   ]
  },
  {
   "cell_type": "code",
   "execution_count": 25,
   "id": "1994f9e2-2f7f-44bc-991f-71f4e5b7950a",
   "metadata": {},
   "outputs": [
    {
     "data": {
      "text/plain": [
       "array([[ 1,  2,  3],\n",
       "       [ 4,  5,  6],\n",
       "       [ 7,  8,  9],\n",
       "       [10, 11, 12]])"
      ]
     },
     "execution_count": 25,
     "metadata": {},
     "output_type": "execute_result"
    }
   ],
   "source": [
    "#vstack example:-\n",
    "arr1 = np.array([[1, 2, 3], [4, 5, 6]])\n",
    "arr2 = np.array([[7, 8, 9], [10, 11, 12]])\n",
    "\n",
    "# Stack arrays vertically\n",
    "result_vstack = np.vstack((arr1, arr2))\n",
    "result_vstack"
   ]
  },
  {
   "cell_type": "code",
   "execution_count": 26,
   "id": "af98417d-9692-4307-ab9f-807e027fff78",
   "metadata": {},
   "outputs": [
    {
     "data": {
      "text/plain": [
       "array([[ 1,  2,  3,  7,  8,  9],\n",
       "       [ 4,  5,  6, 10, 11, 12]])"
      ]
     },
     "execution_count": 26,
     "metadata": {},
     "output_type": "execute_result"
    }
   ],
   "source": [
    "#hstack example:-\n",
    "arr1 = np.array([[1, 2, 3], [4, 5, 6]])\n",
    "arr2 = np.array([[7, 8, 9], [10, 11, 12]])\n",
    "\n",
    "# Stack arrays horizontally\n",
    "result_vstack = np.hstack((arr1, arr2))\n",
    "result_vstack"
   ]
  },
  {
   "cell_type": "raw",
   "id": "b56ae6ba-db51-4778-82ab-2d1a1cb4f888",
   "metadata": {},
   "source": [
    "Q8. Explain the differences between fliplr() and flipud() methods in NumPy, including their effects on various\n",
    "array dimensions.\n",
    "ANSWER:-\n",
    "fliplr() flips arrays left-to-right (i.e., reverses the order of columns in 2D arrays).\n",
    "flipud() flips arrays up-to-down (i.e., reverses the order of rows in 2D arrays).\n",
    "\n"
   ]
  },
  {
   "cell_type": "code",
   "execution_count": 30,
   "id": "94e6d537-6e0e-4e68-84ea-18617261ca95",
   "metadata": {},
   "outputs": [
    {
     "data": {
      "text/plain": [
       "array([[3, 2, 1],\n",
       "       [6, 5, 4]])"
      ]
     },
     "execution_count": 30,
     "metadata": {},
     "output_type": "execute_result"
    }
   ],
   "source": [
    "arr1 = np.array([[1, 2, 3], \n",
    "                  [4, 5, 6]])\n",
    "array_flipped = np.fliplr(arr1)\n",
    "array_flipped"
   ]
  },
  {
   "cell_type": "code",
   "execution_count": 29,
   "id": "7b2dc6a8-617c-444e-9b03-5ab7f92aa3e3",
   "metadata": {},
   "outputs": [
    {
     "data": {
      "text/plain": [
       "array([[4, 5, 6],\n",
       "       [1, 2, 3]])"
      ]
     },
     "execution_count": 29,
     "metadata": {},
     "output_type": "execute_result"
    }
   ],
   "source": [
    "arr1 = np.array([[1, 2, 3], \n",
    "                  [4, 5, 6]])\n",
    "array_flipped = np.flipud(arr1)\n",
    "array_flipped"
   ]
  },
  {
   "cell_type": "raw",
   "id": "9425cf5f-9304-4bac-94fa-c9b29b0bce9f",
   "metadata": {},
   "source": [
    "Q9. Discuss the functionality of the array_split() method in NumPy. How does it handle uneven splits?\n",
    "ANSWER:-\n",
    "1.The array_split() function splits an array into multiple sub-arrays along a specified axis\n",
    "2.By using array_split(), it can efficiently manage and partition large datasets in NumPy, which is valuable for data processing, analysis, and parallel computing tasks.\n",
    "3.It can be used for both 1D and multi-dimensional arrays\n",
    "\n",
    "array_split() is versatile and can handle uneven splits by distributing elements as evenly as possible across the resulting sub-arrays.\n",
    "\n",
    "\n"
   ]
  },
  {
   "cell_type": "raw",
   "id": "7e746116-d505-4210-831d-29f26a78b6f4",
   "metadata": {},
   "source": [
    "Q10. Explain the concepts of vectorization and broadcasting in NumPy. How do they contribute to efficient array\n",
    "operations?\n",
    "Vectorization: Allows for the efficient execution of operations on entire arrays at once, leveraging low-level optimizations and avoiding explicit loops.\n",
    "Broadcasting: Facilitates operations between arrays of different shapes by automatically expanding dimensions as needed, enabling element-wise operations without creating unnecessary copies."
   ]
  },
  {
   "cell_type": "raw",
   "id": "ed0d0906-cba9-4c0d-a480-ad55ff100a15",
   "metadata": {},
   "source": [
    "PRACTICAL QUESTIONS"
   ]
  },
  {
   "cell_type": "code",
   "execution_count": 31,
   "id": "2f89b1df-3808-472f-a0e7-40c58135767c",
   "metadata": {},
   "outputs": [
    {
     "name": "stdout",
     "output_type": "stream",
     "text": [
      "[[57 77 71]\n",
      " [48 74 76]\n",
      " [58 49  4]]\n"
     ]
    }
   ],
   "source": [
    "#Q1. Create a 3x3 NumPy array with random integers between 1 and 100. Then, interchange its rows and columns.\n",
    "array = np.random.randint(1, 101, size=(3, 3))\n",
    "print(array)"
   ]
  },
  {
   "cell_type": "code",
   "execution_count": 35,
   "id": "5d115233-5d7f-4dc1-bf9d-31f40a296cc9",
   "metadata": {},
   "outputs": [
    {
     "data": {
      "text/plain": [
       "array([[57, 48, 58],\n",
       "       [77, 74, 49],\n",
       "       [71, 76,  4]])"
      ]
     },
     "execution_count": 35,
     "metadata": {},
     "output_type": "execute_result"
    }
   ],
   "source": [
    "#interchange rows and column\n",
    "array.T"
   ]
  },
  {
   "cell_type": "code",
   "execution_count": 38,
   "id": "f04d8b99-fe51-4d04-bd50-c7a93b65393c",
   "metadata": {},
   "outputs": [
    {
     "data": {
      "text/plain": [
       "array([0, 1, 2, 3, 4, 5, 6, 7, 8, 9])"
      ]
     },
     "execution_count": 38,
     "metadata": {},
     "output_type": "execute_result"
    }
   ],
   "source": [
    "#Q2. Generate a 1D NumPy array with 10 elements. Reshape it into a 2x5 array, then into a 5x2 array\n",
    "arr1 = np.arange(10)\n",
    "arr1"
   ]
  },
  {
   "cell_type": "code",
   "execution_count": 39,
   "id": "ae7b5ae3-c1f6-4f17-bdcd-fd0b2a47c725",
   "metadata": {},
   "outputs": [
    {
     "data": {
      "text/plain": [
       "array([[0, 1, 2, 3, 4],\n",
       "       [5, 6, 7, 8, 9]])"
      ]
     },
     "execution_count": 39,
     "metadata": {},
     "output_type": "execute_result"
    }
   ],
   "source": [
    "arr1.reshape(2,5)"
   ]
  },
  {
   "cell_type": "code",
   "execution_count": 40,
   "id": "b3167766-5cb1-400a-9c66-df2fa7f187d4",
   "metadata": {},
   "outputs": [
    {
     "data": {
      "text/plain": [
       "array([[0, 1],\n",
       "       [2, 3],\n",
       "       [4, 5],\n",
       "       [6, 7],\n",
       "       [8, 9]])"
      ]
     },
     "execution_count": 40,
     "metadata": {},
     "output_type": "execute_result"
    }
   ],
   "source": [
    "arr1.reshape(5,2)"
   ]
  },
  {
   "cell_type": "code",
   "execution_count": 48,
   "id": "85f3dca2-f616-444e-af5d-a9272967dc47",
   "metadata": {},
   "outputs": [
    {
     "data": {
      "text/plain": [
       "array([[0.71708806, 0.40523869, 0.50595107, 0.84569887],\n",
       "       [0.22002136, 0.31366228, 0.34300201, 0.10271641],\n",
       "       [0.38658214, 0.31572458, 0.41488219, 0.91564059],\n",
       "       [0.10363046, 0.90048105, 0.63677043, 0.16239144]])"
      ]
     },
     "execution_count": 48,
     "metadata": {},
     "output_type": "execute_result"
    }
   ],
   "source": [
    "#Q3. Create a 4x4 NumPy array with random float values. Add a border of zeros around it, resulting in a 6x6 array\n",
    "arr2 = np.random.rand(4,4)\n",
    "arr2"
   ]
  },
  {
   "cell_type": "code",
   "execution_count": 49,
   "id": "b0a71cfa-8a8f-4421-b393-0e6d0f0fc422",
   "metadata": {},
   "outputs": [],
   "source": [
    "arr2 = np.pad(arr2, pad_width=1, mode='constant', constant_values=0)"
   ]
  },
  {
   "cell_type": "code",
   "execution_count": 50,
   "id": "5d278b3a-d2cc-4082-b3d7-23601ae8c8a9",
   "metadata": {},
   "outputs": [
    {
     "data": {
      "text/plain": [
       "array([[0.        , 0.        , 0.        , 0.        , 0.        ,\n",
       "        0.        ],\n",
       "       [0.        , 0.71708806, 0.40523869, 0.50595107, 0.84569887,\n",
       "        0.        ],\n",
       "       [0.        , 0.22002136, 0.31366228, 0.34300201, 0.10271641,\n",
       "        0.        ],\n",
       "       [0.        , 0.38658214, 0.31572458, 0.41488219, 0.91564059,\n",
       "        0.        ],\n",
       "       [0.        , 0.10363046, 0.90048105, 0.63677043, 0.16239144,\n",
       "        0.        ],\n",
       "       [0.        , 0.        , 0.        , 0.        , 0.        ,\n",
       "        0.        ]])"
      ]
     },
     "execution_count": 50,
     "metadata": {},
     "output_type": "execute_result"
    }
   ],
   "source": [
    "arr2"
   ]
  },
  {
   "cell_type": "code",
   "execution_count": 52,
   "id": "2ec57894-510b-4c1c-a942-0b5764571c2c",
   "metadata": {},
   "outputs": [
    {
     "data": {
      "text/plain": [
       "array([10, 15, 20, 25, 30, 35, 40, 45, 50, 55, 60])"
      ]
     },
     "execution_count": 52,
     "metadata": {},
     "output_type": "execute_result"
    }
   ],
   "source": [
    "#Q4. Using NumPy, create an array of integers from 10 to 60 with a step of 5.\n",
    "arr3 = np.arange(10, 61, 5) \n",
    "arr3"
   ]
  },
  {
   "cell_type": "code",
   "execution_count": 53,
   "id": "61db12d9-b98b-41f0-9052-7c94ab5efe68",
   "metadata": {},
   "outputs": [],
   "source": [
    "#Q5. Create a NumPy array of strings ['python', 'numpy', 'pandas']. Apply different case transformations(uppercase, lowercase, title case, etc.) to each element.\n",
    "strings = np.array(['python', 'numpy', 'pandas'])\n",
    "\n",
    "uppercase = np.char.upper(strings)\n",
    "lowercase = np.char.lower(strings)\n",
    "titlecase = np.char.title(strings)\n",
    "capitalize = np.char.capitalize(strings)\n"
   ]
  },
  {
   "cell_type": "code",
   "execution_count": 55,
   "id": "74875aa8-0c25-4fa9-ab34-03e7c26c520f",
   "metadata": {},
   "outputs": [
    {
     "data": {
      "text/plain": [
       "array(['python', 'numpy', 'pandas'], dtype='<U6')"
      ]
     },
     "execution_count": 55,
     "metadata": {},
     "output_type": "execute_result"
    }
   ],
   "source": [
    "strings"
   ]
  },
  {
   "cell_type": "code",
   "execution_count": 56,
   "id": "a1f8e4f4-e586-41b7-8494-a7526307062a",
   "metadata": {},
   "outputs": [
    {
     "data": {
      "text/plain": [
       "array(['PYTHON', 'NUMPY', 'PANDAS'], dtype='<U6')"
      ]
     },
     "execution_count": 56,
     "metadata": {},
     "output_type": "execute_result"
    }
   ],
   "source": [
    "uppercase"
   ]
  },
  {
   "cell_type": "code",
   "execution_count": 57,
   "id": "75e73027-e2de-4ebd-9886-b456bbdbb543",
   "metadata": {},
   "outputs": [
    {
     "data": {
      "text/plain": [
       "array(['python', 'numpy', 'pandas'], dtype='<U6')"
      ]
     },
     "execution_count": 57,
     "metadata": {},
     "output_type": "execute_result"
    }
   ],
   "source": [
    "lowercase"
   ]
  },
  {
   "cell_type": "code",
   "execution_count": 58,
   "id": "0eed3b68-97ec-4619-9d66-d28c7db0c7dc",
   "metadata": {},
   "outputs": [
    {
     "data": {
      "text/plain": [
       "array(['Python', 'Numpy', 'Pandas'], dtype='<U6')"
      ]
     },
     "execution_count": 58,
     "metadata": {},
     "output_type": "execute_result"
    }
   ],
   "source": [
    "titlecase"
   ]
  },
  {
   "cell_type": "code",
   "execution_count": 59,
   "id": "f59d4df1-d5a1-4cb5-8375-1778adcd7f66",
   "metadata": {},
   "outputs": [
    {
     "data": {
      "text/plain": [
       "array(['Python', 'Numpy', 'Pandas'], dtype='<U6')"
      ]
     },
     "execution_count": 59,
     "metadata": {},
     "output_type": "execute_result"
    }
   ],
   "source": [
    "capitalize"
   ]
  },
  {
   "cell_type": "code",
   "execution_count": 60,
   "id": "f7f07b49-9660-4508-980a-a6dd3381484d",
   "metadata": {},
   "outputs": [],
   "source": [
    "#Q6. Generate a NumPy array of words. Insert a space between each character of every word in the array.\n",
    "words = np.array(['hello', 'world', 'numpy', 'array'])\n",
    "words_spaces = np.char.join(' ', words)"
   ]
  },
  {
   "cell_type": "code",
   "execution_count": 61,
   "id": "8f897885-bb47-4736-9047-26d17b1424bc",
   "metadata": {},
   "outputs": [
    {
     "data": {
      "text/plain": [
       "array(['h e l l o', 'w o r l d', 'n u m p y', 'a r r a y'], dtype='<U9')"
      ]
     },
     "execution_count": 61,
     "metadata": {},
     "output_type": "execute_result"
    }
   ],
   "source": [
    "words_spaces"
   ]
  },
  {
   "cell_type": "code",
   "execution_count": 13,
   "id": "fd2a6866-3450-402b-8ab5-2f43a4b1c77f",
   "metadata": {},
   "outputs": [],
   "source": [
    "#Q7. Create two 2D NumPy arrays and perform element-wise addition, subtraction, multiplication, and division.\n",
    "import numpy as np\n",
    "array1 = np.array([[1, 2, 3], [4, 5, 6]])\n",
    "array2 = np.array([[10, 20, 30], [40, 50, 60]])\n",
    "\n"
   ]
  },
  {
   "cell_type": "code",
   "execution_count": 14,
   "id": "a6415bbf-2dc8-44c5-bec1-ac94106f4034",
   "metadata": {},
   "outputs": [],
   "source": [
    "add = array1 + array2"
   ]
  },
  {
   "cell_type": "code",
   "execution_count": 15,
   "id": "8b5e94ad-3b6b-4293-9a1e-23435b331fd0",
   "metadata": {},
   "outputs": [
    {
     "data": {
      "text/plain": [
       "array([[11, 22, 33],\n",
       "       [44, 55, 66]])"
      ]
     },
     "execution_count": 15,
     "metadata": {},
     "output_type": "execute_result"
    }
   ],
   "source": [
    "add"
   ]
  },
  {
   "cell_type": "code",
   "execution_count": 16,
   "id": "5e6047ca-3976-47ed-ac67-41d5e3672298",
   "metadata": {},
   "outputs": [
    {
     "data": {
      "text/plain": [
       "array([[ -9, -18, -27],\n",
       "       [-36, -45, -54]])"
      ]
     },
     "execution_count": 16,
     "metadata": {},
     "output_type": "execute_result"
    }
   ],
   "source": [
    "subs = array1 - array2\n",
    "subs"
   ]
  },
  {
   "cell_type": "code",
   "execution_count": 17,
   "id": "94609fe3-2ff5-4299-8d0d-64bd364e72bd",
   "metadata": {},
   "outputs": [
    {
     "data": {
      "text/plain": [
       "array([[0.1, 0.1, 0.1],\n",
       "       [0.1, 0.1, 0.1]])"
      ]
     },
     "execution_count": 17,
     "metadata": {},
     "output_type": "execute_result"
    }
   ],
   "source": [
    "div = array1/array2\n",
    "div"
   ]
  },
  {
   "cell_type": "code",
   "execution_count": 18,
   "id": "ab6e7c9d-3b21-4965-8d52-df97f1bb798e",
   "metadata": {},
   "outputs": [
    {
     "data": {
      "text/plain": [
       "array([[ 10,  40,  90],\n",
       "       [160, 250, 360]])"
      ]
     },
     "execution_count": 18,
     "metadata": {},
     "output_type": "execute_result"
    }
   ],
   "source": [
    "multiply = array1*array2\n",
    "multiply"
   ]
  },
  {
   "cell_type": "code",
   "execution_count": 22,
   "id": "185e4746-bccc-4c49-a238-419c8cca4057",
   "metadata": {},
   "outputs": [],
   "source": [
    "#Q8. Use NumPy to create a 5x5 identity matrix, then extract its diagonal elements.\n",
    "identity_matrix = np.eye(5)\n",
    "diagonal_elements = np.diag(identity_matrix)"
   ]
  },
  {
   "cell_type": "code",
   "execution_count": 26,
   "id": "2f19941b-98c4-447d-8f9b-60dce9e41f9d",
   "metadata": {},
   "outputs": [
    {
     "data": {
      "text/plain": [
       "array([[1., 0., 0., 0., 0.],\n",
       "       [0., 1., 0., 0., 0.],\n",
       "       [0., 0., 1., 0., 0.],\n",
       "       [0., 0., 0., 1., 0.],\n",
       "       [0., 0., 0., 0., 1.]])"
      ]
     },
     "execution_count": 26,
     "metadata": {},
     "output_type": "execute_result"
    }
   ],
   "source": [
    "identity_matrix"
   ]
  },
  {
   "cell_type": "code",
   "execution_count": 28,
   "id": "b143c833-14f7-4e38-8200-03bea165e45c",
   "metadata": {},
   "outputs": [
    {
     "data": {
      "text/plain": [
       "array([1., 1., 1., 1., 1.])"
      ]
     },
     "execution_count": 28,
     "metadata": {},
     "output_type": "execute_result"
    }
   ],
   "source": [
    "diagonal_elements"
   ]
  },
  {
   "cell_type": "code",
   "execution_count": 29,
   "id": "0752efad-3f8e-4dd9-90cb-f742c0e433fb",
   "metadata": {},
   "outputs": [],
   "source": [
    "#Q9. Generate a NumPy array of 100 random integers between 0 and 1000. Find and display all prime numbers inthis array.\n",
    "random_array = np.random.randint(0, 1001, size=100)\n",
    "\n",
    "def is_prime(n):\n",
    "    if n <= 1:\n",
    "        return False\n",
    "    if n <= 3:\n",
    "        return True\n",
    "    if n % 2 == 0 or n % 3 == 0:\n",
    "        return False\n",
    "    i = 5\n",
    "    while i * i <= n:\n",
    "        if n % i == 0 or n % (i + 2) == 0:\n",
    "            return False\n",
    "        i += 6\n",
    "    return True\n",
    "\n",
    "prime_numbers = [num for num in random_array if is_prime(num)]\n"
   ]
  },
  {
   "cell_type": "code",
   "execution_count": 30,
   "id": "7b8e5a03-c64f-433b-8fdd-91dba9e653b9",
   "metadata": {},
   "outputs": [
    {
     "data": {
      "text/plain": [
       "[641, 251, 191, 661, 179, 733, 659, 29, 971, 3]"
      ]
     },
     "execution_count": 30,
     "metadata": {},
     "output_type": "execute_result"
    }
   ],
   "source": [
    "prime_numbers"
   ]
  },
  {
   "cell_type": "code",
   "execution_count": null,
   "id": "b4ed5b11-b409-4f77-b9af-7a953184da97",
   "metadata": {},
   "outputs": [],
   "source": []
  }
 ],
 "metadata": {
  "kernelspec": {
   "display_name": "Python 3 (ipykernel)",
   "language": "python",
   "name": "python3"
  },
  "language_info": {
   "codemirror_mode": {
    "name": "ipython",
    "version": 3
   },
   "file_extension": ".py",
   "mimetype": "text/x-python",
   "name": "python",
   "nbconvert_exporter": "python",
   "pygments_lexer": "ipython3",
   "version": "3.10.8"
  }
 },
 "nbformat": 4,
 "nbformat_minor": 5
}
