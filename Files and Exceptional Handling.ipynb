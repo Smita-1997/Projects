{
 "cells": [
  {
   "cell_type": "markdown",
   "id": "26d39b1a-7827-430d-9e7d-652e76a88ff9",
   "metadata": {},
   "source": [
    "Question1. Discuss the scenarios where multithreading is preferable to multiprocessing and scenarios where multiprocessing is a better choice.\n",
    "Answer:-\n",
    "Multithreading used when:\n",
    "a. We need to perform many tasks concurrently that involve a lot of I/O operations./if the process run concurrently on multiple threads.\n",
    "b. We need to maintain responsiveness in an application.\n",
    "c. Tasks need to share a common state or memory space efficiently.\n",
    "d. Threads are generally more lightweight than processes.\n",
    "d. Multithreads is prefer for applications that need to perform many tasks concurrently but      don't require a lot of CPU power.\n",
    "\n",
    "Multiprocessing used when:\n",
    "a. We are dealing with CPU-bound tasks that benefit from parallel execution.\n",
    "b. When we need to run tasks in isolation to prevent failures from affecting each other, such    as running independent services or applications, multiprocessing is advantageous.\n",
    "c. The tasks can be parallelized and don’t require frequent communication.\n",
    "   "
   ]
  },
  {
   "cell_type": "markdown",
   "id": "0c11bd2b-2f39-4e46-87c8-f75970d5e401",
   "metadata": {},
   "source": [
    "Question2. Describe what a process pool is and how it helps in managing multiple processes efficiently.\n",
    "\n",
    "Answer:-\n",
    "Process Pool:-\n",
    "A process pool is a mechanism that maintains a set of worker processes. When tasks need to be executed, they are assigned to one of these worker processes rather than creating new processes for each task\n",
    "\n",
    "It manages multiple processes efficiently by:-\n",
    "a. By reusing a fixed number of processes, a process pool minimizes the overhead associated with process creation and termination.\n",
    "b. A process pool helps in efficiently utilizing system resources by maintaining a controlled number of processes that can handle multiple tasks.\n",
    "c. The process pool can handle scheduling and dispatching of tasks to the worker processes. \n",
    "d. By controlling the number of worker processes, the process pool allows for better scalability\n"
   ]
  },
  {
   "cell_type": "markdown",
   "id": "ba01d512-0a58-450a-b053-34a76cd34789",
   "metadata": {},
   "source": [
    "Question3. Explain what multiprocessing is and why it is used in Python programs.\n",
    "\n",
    "Answer:- Multiprocessing:- Multiprocessing involves creating and managing multiple processes that run independently and in parallel.\n",
    "\n",
    "Multiprocessing is used in python Programs because:-\n",
    "a. Multiprocessing enables parallel execution of multiple processes. Each process can run independently, allowing tasks to be performed simultaneously b. By distributing tasks across multiple processes, the time taken to complete a set of operations is reduced.\n",
    "c. Multiprocessing takes advantage of modern computer architectures with multiple CPU cores \n",
    "d. As the number of CPU cores increases, multiprocessing scales well, ensuring that the system can efficiently handle a higher workload \n",
    "e. Tasks that require extensive computational power, such as simulations, mathematical modeling, or data analysis, can be completed more quickly with multiprocessing \n",
    "f. Multiprocessing allows for background processing without affecting the responsiveness of the main application \n",
    "g. Each process in multiprocessing operates independently, with its own memory space......"
   ]
  },
  {
   "cell_type": "markdown",
   "id": "f84dc7ec-99f8-4f69-94fb-860bd974e337",
   "metadata": {},
   "source": [
    "Question 4. Write a Python program using multithreading where one thread adds numbers to a list, and another thread removes numbers from the list. Implement a mechanism to avoid race conditions using threading.Lock."
   ]
  },
  {
   "cell_type": "code",
   "execution_count": 4,
   "id": "a98fb51c-9dcf-4fa1-bc9f-cb3c32ebf1f6",
   "metadata": {},
   "outputs": [
    {
     "name": "stdout",
     "output_type": "stream",
     "text": [
      "Added: 0\n",
      "Removed: 0\n",
      "Added: 1\n",
      "Removed: 1\n",
      "Added: 2\n",
      "Added: 3\n",
      "Removed: 2\n",
      "Added: 4\n",
      "Removed: 3\n",
      "Added: 5\n",
      "Added: 6\n",
      "Removed: 4\n",
      "Added: 7\n",
      "Removed: 5\n",
      "Added: 8\n",
      "Added: 9\n",
      "Removed: 6\n",
      "Removed: 7\n",
      "Removed: 8\n",
      "Removed: 9\n",
      "Final shared list: []\n"
     ]
    }
   ],
   "source": [
    "import threading\n",
    "import time\n",
    "\n",
    "shared_list = []\n",
    "lock = threading.Lock()\n",
    "\n",
    "def add_numbers():\n",
    "    global shared_list\n",
    "    for i in range(10):\n",
    "        with lock:\n",
    "            shared_list.append(i)\n",
    "            print(f\"Added: {i}\")\n",
    "        time.sleep(0.1)  \n",
    "\n",
    "def remove_numbers():\n",
    "    global shared_list\n",
    "    while True:\n",
    "        with lock:\n",
    "            if shared_list:\n",
    "                num = shared_list.pop(0)\n",
    "                print(f\"Removed: {num}\")\n",
    "            else:\n",
    "                break  \n",
    "        time.sleep(0.15)  \n",
    "\n",
    "add_thread = threading.Thread(target=add_numbers)\n",
    "remove_thread = threading.Thread(target=remove_numbers)\n",
    "\n",
    "add_thread.start()\n",
    "remove_thread.start()\n",
    "\n",
    "add_thread.join()\n",
    "remove_thread.join()\n",
    "\n",
    "print(\"Final shared list:\", shared_list)\n"
   ]
  },
  {
   "cell_type": "markdown",
   "id": "0ed58e06-3ff3-4b84-be0b-a7c424575bbf",
   "metadata": {},
   "source": [
    "5. Describe the methods and tools available in Python for safely sharing data between threads and processes.\n",
    " Answer\n",
    "Safely sharing data-threads:\n",
    "1.Locks (Threading.Lock):\n",
    "Used to synchronize access to shared resources by ensuring that only one thread can access the resource at a time.\n",
    "2.RLocks (threading.RLock):\n",
    "A reentrant lock that allows a thread to acquire it multiple times without causing a deadlock. Useful when the same thread needs to acquire a lock more than once.\n",
    "3.Semaphores (threading.Semaphore):\n",
    "Controls access to a shared resource by limiting the number of threads that can access it concurrently.\n",
    "4.Condition Variables (threading.Condition):\n",
    "Used to notify threads about changes in shared data. Threads can wait for a condition to be met and can be notified when it happens.\n",
    "5.Event Objects (threading.Event):\n",
    "Used for signaling between threads. One thread can set an event to signal other threads.\n",
    "\n",
    "Safely sharing data- Process:\n",
    "1.Multiprocessing.Queue:\n",
    "A FIFO queue that is process-safe and allows processes to exchange data. It supports put and get operations for sending and receiving data.\n",
    "2.Multiprocessing.Pipe:\n",
    "Provides a two-way communication channel between processes. It creates a pair of connection objects that can send and receive data.\n",
    "3.Shared Memory (multiprocessing.shared_memory):\n",
    "Allows multiple processes to access the same data in memory. This is useful for large data structures where copying data between processes would be inefficient.\n",
    "4.Managers (multiprocessing.Manager):\n",
    "Provides a way to create and manage shared objects, such as lists, dictionaries, and namespaces, across processes."
   ]
  },
  {
   "cell_type": "markdown",
   "id": "7b28ac34-8e04-4e9f-8535-f0b6f05fd177",
   "metadata": {},
   "source": [
    "6. Discuss why it’s crucial to handle exceptions in concurrent programs and the techniques available for doing so.\n",
    "   Answer\n",
    "\n",
    "   Handling Exceptions is Crucial in concurrent programs because:\n",
    "   \n",
    "   1.Concurrent programs can face errors that are not present in sequential execution\n",
    "   2.Unhandled exceptions can cause entire programs or specific threads/processes to crash. Proper exception handling helps ensure that errors are contained and do not bring down the entire application.\n",
    "   3.Exceptions in concurrent code can be harder to track and debug due to the interleaved execution of threads or processes. Handling exceptions effectively helps in logging and diagnosing issues more easily.\n",
    "   4.Exceptions can lead to resources (e.g., files, network connections) not being properly released. Proper exception handling ensures that resources are cleaned up correctly even when errors occur.\n",
    "\n",
    "   Techniques for Handling Exceptions in Concurrent Programs:\n",
    "   a.In threads:\n",
    "   1.Try-Except Blocks:\n",
    "   Use try-except blocks within thread functions to catch exceptions that occur in individual threads.\n",
    "   2.Thread Join with Exception Handling:\n",
    "   To handle exceptions from threads that are joined, you can use the concurrent.futures module, which provides a more structured way to manage thread execution and exceptions.\n",
    "   3.Thread-Specific Exception Handling:\n",
    "   When using threading, you can also handle exceptions at a higher level by monitoring thread states or results from concurrent.futures.\n",
    "\n",
    "   b. In Process:\n",
    "   1.Process Exception Handling:\n",
    "   Use try-except blocks within process functions to manage exceptions that occur in individual processes.\n",
    "   2.Exception Handling with multiprocessing and concurrent.futures:\n",
    "   Use the concurrent.futures.ProcessPoolExecutor for managing processes, which provides a way to handle exceptions in a manner similar to threads.\n",
    "   3.Communicating Exceptions from Worker Processes:\n",
    "   If processes need to communicate exceptions back to the main process, you can use multiprocessing.Queue or multiprocessing.Pipe to send error messages or exception details.\n",
    "   4.Monitoring and Handling Exceptions in Distributed Systems:\n",
    "   In more complex scenarios involving distributed systems or multiple processes communicating over networks, ensure proper error handling and logging mechanisms are in place to track and manage exceptions.\n",
    "\n",
    "\n",
    "   \n",
    "   "
   ]
  },
  {
   "cell_type": "markdown",
   "id": "8cf558f8-7c57-40e2-bd96-51eae25aaefe",
   "metadata": {},
   "source": [
    "7. Create a program that uses a thread pool to calculate the factorial of numbers from 1 to 10 concurrently.Use concurrent.futures.ThreadPoolExecutor to manage the threads."
   ]
  },
  {
   "cell_type": "code",
   "execution_count": 3,
   "id": "0924c9dd-3158-4992-a896-9bf3ca8d5039",
   "metadata": {},
   "outputs": [
    {
     "name": "stdout",
     "output_type": "stream",
     "text": [
      "Factorial of 1 is 1\n",
      "Factorial of 2 is 2\n",
      "Factorial of 3 is 6\n",
      "Factorial of 4 is 24\n",
      "Factorial of 5 is 120\n",
      "Factorial of 6 is 720\n",
      "Factorial of 7 is 5040\n",
      "Factorial of 8 is 40320\n",
      "Factorial of 9 is 362880\n",
      "Factorial of 10 is 3628800\n"
     ]
    }
   ],
   "source": [
    "from concurrent.futures import ThreadPoolExecutor\n",
    "import math\n",
    "\n",
    "\n",
    "def calculate_factorial(n):\n",
    "    return math.factorial(n)\n",
    "\n",
    "def main():\n",
    "   with ThreadPoolExecutor(max_workers=10) as executor:\n",
    "        numbers = list(range(1, 11))\n",
    "        \n",
    "        future_to_number = {executor.submit(calculate_factorial, num): num for num in numbers}\n",
    "        \n",
    "        for future in future_to_number:\n",
    "            num = future_to_number[future]\n",
    "            try:\n",
    "                result = future.result()  \n",
    "                print(f\"Factorial of {num} is {result}\")\n",
    "            except Exception as exc:\n",
    "                print(f\"An error occurred while calculating factorial of {num}: {exc}\")\n",
    "\n",
    "if __name__ == \"__main__\":\n",
    "    main()"
   ]
  },
  {
   "cell_type": "markdown",
   "id": "cc1b36e2-468b-4a68-a9c0-155740f21312",
   "metadata": {},
   "source": [
    "8. Create a Python program that uses multiprocessing.Pool to compute the square of numbers from 1 to 10 in parallel. Measure the time taken to perform this computation using a pool of different sizes (e.g., 2, 4, 8processes)."
   ]
  },
  {
   "cell_type": "code",
   "execution_count": null,
   "id": "2043685c-242f-4e1c-97a1-b03fa3f50550",
   "metadata": {},
   "outputs": [],
   "source": [
    "import multiprocessing\n",
    "import time\n",
    "\n",
    "def compute_square(n):\n",
    "    return n * n\n",
    "\n",
    "def measure_time(pool_size):\n",
    "   with multiprocessing.Pool(processes=pool_size) as pool:\n",
    "        numbers = list(range(1, 11))\n",
    "       \n",
    "        start_time = time.time()\n",
    "\n",
    "        results = pool.map(compute_square, numbers)\n",
    "       \n",
    "        end_time = time.time()\n",
    "\n",
    "        elapsed_time = end_time - start_time\n",
    "       \n",
    "    return results, elapsed_time\n",
    "\n",
    "def main():\n",
    "    pool_sizes = [2, 4, 8]\n",
    "\n",
    "    for size in pool_sizes:\n",
    "        results, elapsed_time = measure_time(size)\n",
    "        print(f\"Pool size: {size}\")\n",
    "        print(f\"Results: {results}\")\n",
    "        print(f\"Time taken: {elapsed_time:.4f} seconds\")\n",
    "        print()\n",
    "\n",
    "if __name__ == \"__main__\":\n",
    "    main()\n"
   ]
  },
  {
   "cell_type": "code",
   "execution_count": null,
   "id": "2ed2378b-543e-4baf-a208-e5ed7c004b65",
   "metadata": {},
   "outputs": [],
   "source": []
  }
 ],
 "metadata": {
  "kernelspec": {
   "display_name": "Python 3 (ipykernel)",
   "language": "python",
   "name": "python3"
  },
  "language_info": {
   "codemirror_mode": {
    "name": "ipython",
    "version": 3
   },
   "file_extension": ".py",
   "mimetype": "text/x-python",
   "name": "python",
   "nbconvert_exporter": "python",
   "pygments_lexer": "ipython3",
   "version": "3.12.4"
  }
 },
 "nbformat": 4,
 "nbformat_minor": 5
}
