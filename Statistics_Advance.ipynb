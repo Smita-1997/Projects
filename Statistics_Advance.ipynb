{
 "cells": [
  {
   "cell_type": "markdown",
   "id": "b22110c4-7775-4e37-9bf4-4279f70f9baa",
   "metadata": {},
   "source": [
    "Question1: Define the z-statistic and explain its relationship to the standard normal distribution. How is the z-statistic used in hypothesis testing?"
   ]
  },
  {
   "cell_type": "code",
   "execution_count": null,
   "id": "27d50d2f-dc29-4828-9ad0-e42e7624ccf9",
   "metadata": {},
   "outputs": [],
   "source": [
    "#Answer\n",
    "\n",
    "#The z-statistic is a measure that indicates how many standard deviations an element is from the mean of a distribution. It is calculated using the formula:\n",
    "\n",
    "𝑧 =(𝑋−𝜇)/𝜎\n",
    "where:\n",
    "X is the value being standardized,\n",
    "μ is the mean of the population,\n",
    "σ is the standard deviation of the population.\n",
    "\n",
    "#Relationship to the Standard Normal Distribution\n",
    "The z-statistic is fundamentally related to the standard normal distribution, \n",
    "which is a normal distribution with a mean of 0 and a standard deviation of 1. \n",
    "When a data point is converted to a z-score, it provides a way to compare scores from different \n",
    "normal distributions or to understand the position of a score within its own distribution.\n",
    "\n",
    "Use in Hypothesis Testing\n",
    "Formulate Hypotheses: Start with a null hypothesis (H0) and an alternative hypothesis (H1).\n",
    "\n",
    "Calculate the z-statistic: After collecting sample data, compute the z-statistic using the sample mean \n",
    "Determine the p-value: Using the standard normal distribution, \n",
    "find the p-value associated with the computed z-statistic.\n",
    "\n",
    "Make a Decision: Compare the p-value to the significance level (α). If the p-value is less than \n",
    "α, reject the null hypothesis; otherwise, do not reject it.\n",
    "\n"
   ]
  },
  {
   "cell_type": "markdown",
   "id": "e8f23132-5ea2-4c1f-98d9-0081bf870903",
   "metadata": {},
   "source": [
    "Question2 : What is a p-value, and how is it used in hypothesis testing? What does it mean if the p-value is very small (e.g., 0.01)?"
   ]
  },
  {
   "cell_type": "code",
   "execution_count": null,
   "id": "c11c9357-2534-4749-b5c7-626908f75f09",
   "metadata": {},
   "outputs": [],
   "source": [
    "#Answer\n",
    "p-value (probability value) is a measure used in hypothesis testing to quantify the strength of the evidence against the null hypothesis (𝐻0). \n",
    "It represents the probability of obtaining test results at least as extreme as the observed results, assuming that the null hypothesis is true.\n",
    "\n",
    "p-values are Used in Hypothesis Testing\n",
    "Formulate Hypotheses: Define the null hypothesis (H0) and the alternative hypothesis (H 1).\n",
    "Conduct the Test: Collect data and calculate the test statistic (such as the z-statistic or t-statistic).\n",
    "Calculate the p-value: Determine the p-value associated with the test statistic using the appropriate statistical distribution (e.g., normal distribution for z-tests).\n",
    "Decision Rule: Compare the p-value to a predetermined significance level (α, commonly set at 0.05):\n",
    "If p≤α: Reject the null hypothesis, indicating that the observed data is statistically significant.\n",
    "If p>α: Fail to reject the null hypothesis, suggesting that there is not enough evidence to conclude that the effect or difference exists.\n",
    "\n",
    "Interpretation of a Small p-value\n",
    "If the p-value is very small (e.g., p=0.01), it indicates strong evidence against the null hypothesis. Specifically:\n",
    "\n",
    "Strong Evidence: A p-value of 0.01 suggests that there is only a 1% chance of observing the data (or something more extreme) \n",
    "if the null hypothesis is true. This implies that the results are unlikely to have occurred due to random variation alone.\n",
    "\n",
    "Statistical Significance: Since 0.01 is often less than the common alpha levels (0.05 or 0.01), \n",
    "you would reject the null hypothesis. This implies that there is significant evidence supporting the alternative hypothesis.\n",
    "\n",
    "Practical Implications: While a small p-value indicates statistical significance, \n",
    "it does not measure the size or importance of an effect. It's essential to consider the context and practical significance alongside the statistical findings."
   ]
  },
  {
   "cell_type": "markdown",
   "id": "622140dd-384f-48b7-bd64-b4b525b7b281",
   "metadata": {},
   "source": [
    "Question3: Compare and contrast the binomial and Bernoulli distributions"
   ]
  },
  {
   "cell_type": "code",
   "execution_count": null,
   "id": "8c17fd11-701a-4083-844f-5b415fb4a317",
   "metadata": {},
   "outputs": [],
   "source": [
    "#Answer\n",
    "Bernoulli Distribution\n",
    "Definition: The Bernoulli distribution represents a single trial with two possible outcomes: \n",
    "success (usually coded as 1) and failure (usually coded as 0).\n",
    "\n",
    "Parameters:\n",
    "p: The probability of success (0 ≤ p ≤ 1).\n",
    "The probability of failure is 1−p.\n",
    "Support: The outcomes are discrete, taking values 0 and 1.\n",
    "\n",
    "Mean and Variance:\n",
    "\n",
    "Mean: E(X)=p\n",
    "Variance: Var(X)=p(1−p)\n",
    "Applications: Used to model situations where there is one trial, such as flipping a coin once \n",
    "or whether a specific event occurs.\n",
    "\n",
    "Binomial Distribution\n",
    "Definition: The binomial distribution models the number of successes in n independent Bernoulli trials (where each trial has the same probability of success).\n",
    "\n",
    "Parameters:\n",
    "n: The number of trials.\n",
    "p: The probability of success in each trial.\n",
    "Support: The outcomes are discrete, taking integer values from 0 to n (the number of successes).\n",
    "\n",
    "Mean and Variance:\n",
    "\n",
    "Mean: E(X)=np\n",
    "Variance: Var(X)=np(1−p)\n",
    "Applications: Used in scenarios where you are interested in the number of successes across\n",
    "multiple trials, such as the number of heads in 10 coin flips or the number of defective items in a batch.\n",
    "\n",
    "Key Differences\n",
    "1.Number of Trials:\n",
    "The Bernoulli distribution is for a single trial, while the binomial distribution involves multiple trials.\n",
    "2.Output Values:\n",
    "The Bernoulli distribution outputs either 0 or 1, \n",
    "whereas the binomial distribution outputs a count of successes (ranging from 0 to n).\n"
   ]
  },
  {
   "cell_type": "markdown",
   "id": "31220eb0-1d39-420f-9103-6e81cde9bd6d",
   "metadata": {},
   "source": [
    "Question 4: Under what conditions is the binomial distribution used, and how does it relate to the Bernoulli distribution?"
   ]
  },
  {
   "cell_type": "code",
   "execution_count": null,
   "id": "39489a82-3e1b-4bcd-bc05-fd13ce978b40",
   "metadata": {},
   "outputs": [],
   "source": [
    "#Answer\n",
    "\n",
    "Conditions for Using the Binomial Distribution\n",
    "1.Fixed Number of Trials: There must be a predetermined number of trials, denoted as n.\n",
    "2.Two Possible Outcomes: Each trial results in one of two outcomes, typically termed \"success\" and \"failure.\"\n",
    "3.Independent Trials: The outcome of each trial must be independent of the others, meaning the result of one trial does not affect the others.\n",
    "4.Constant Probability: The probability of success (p) must remain constant for each trial.\n",
    "The probability of failure is then 1−p.\n",
    "\n",
    "Relationship to the Bernoulli Distribution\n",
    "1.Special Case: The binomial distribution can be seen as a sum of independent Bernoulli trials. \n",
    "Each Bernoulli trial has a success probability of p and represents a single outcome (either 0 or 1).\n",
    "\n",
    "2.Single Trial: When n=1, the binomial distribution reduces to the Bernoulli distribution. \n",
    "In this case, the probability of success is p, and the probability of failure is 1−p."
   ]
  },
  {
   "cell_type": "markdown",
   "id": "913ef6c5-0a51-44be-9147-0656618eaa09",
   "metadata": {},
   "source": [
    "Question5: What are the key properties of the Poisson distribution, and when is it appropriate to use this distribution?"
   ]
  },
  {
   "cell_type": "code",
   "execution_count": null,
   "id": "5c76ade5-c5c5-435a-8bff-81ae91643fa0",
   "metadata": {},
   "outputs": [],
   "source": [
    "#Answer\n",
    "The Poisson distribution is a discrete probability distribution that models the number of events \n",
    "occurring within a fixed interval of time or space.\n",
    "\n",
    "Properties of poisson distribution:\n",
    "1.Memorylessness: The Poisson process is memoryless, meaning the probability of an event \n",
    "occurring in the future is not affected by the past.\n",
    "\n",
    "2.Independence of Events: Events occur independently; the occurrence of one event does not \n",
    "affect the probability of another occurring.\n",
    "\n",
    "3.Discrete Nature: The Poisson distribution deals with discrete outcomes, \n",
    "specifically non-negative integer values (0, 1, 2, ...).\n",
    "\n",
    "4.Parameter: It is characterized by a single parameter, λ (lambda), \n",
    "which represents the average number of events in the interval. \n",
    "Both the mean and variance of the Poisson distribution are equal to λ.\n",
    "\n",
    "Use case:\n",
    "\n",
    "1.Rare Events: It is often used to model rare events in a large population or over a long period, \n",
    "such as the number of earthquakes in a region per year or the number of phone calls received at a call center in an hour.\n",
    "\n",
    "2.Fixed Interval: Suitable for scenarios where you are interested in the number of events in a fixed time \n",
    "frame or area, such as counting the number of emails received in a day or the number of customers arriving at a store in an hour.\n",
    "\n",
    "3.Constant Rate: When the average rate of occurrence is constant over time or space, \n",
    "the Poisson distribution is applicable.\n",
    "4.Independence: When the events are independent, the Poisson distribution can be used to \n",
    "model the situation.\n",
    "\n"
   ]
  },
  {
   "cell_type": "markdown",
   "id": "31eb2986-d967-441f-9dda-357611074246",
   "metadata": {},
   "source": [
    "Question6: Define the terms \"probability distribution\" and \"probability density function\" (PDF). How does a PDF differ from a probability mass function (PMF)?"
   ]
  },
  {
   "cell_type": "code",
   "execution_count": null,
   "id": "12ba82b7-14ef-414f-a477-c4212ae6fbc5",
   "metadata": {},
   "outputs": [],
   "source": [
    "#Answer\n",
    "\n",
    "Probability Distribution\n",
    "A probability distribution describes how the probabilities of a random variable are distributed over \n",
    "its possible values. It provides a complete description of the likelihood of all possible outcomes \n",
    "for a given random variable. Probability distributions can be discrete (for countable outcomes) or continuous\n",
    "(for uncountable outcomes).\n",
    "\n",
    "Probability Density Function (PDF)\n",
    "A probability density function (PDF) is a function that describes the relative likelihood of a \n",
    "continuous random variable taking on a specific value. The PDF must satisfy two key properties:\n",
    "\n",
    "1.The value of the PDF is non-negative for all possible values of the random variable.\n",
    "2.The area under the curve of the PDF across its entire range is equal to 1, representing the \n",
    "total probability.\n",
    "\n",
    "Difference Between PDF and Probability Mass Function (PMF)\n",
    "a.Nature of the Variable:\n",
    "\n",
    "PDF: Used for continuous random variables, where outcomes can take any value in an interval. The PDF itself does not give probabilities directly for specific values; instead, probabilities are derived from the area under the curve.\n",
    "PMF: Used for discrete random variables, where outcomes are countable (e.g., integers). The PMF gives the probability of the random variable taking on a specific value directly.\n",
    "\n",
    "b.Output:\n",
    "\n",
    "PDF: The value of the PDF at a given point can exceed 1, as it is not a probability itself but a density.\n",
    "PMF: The PMF values are probabilities and must always be between 0 and 1\n",
    "\n",
    "c.Mathematical Representation:\n",
    "\n",
    "PDF: Represents probabilities via integrals\n",
    "PMF: Represents probabilities via summation"
   ]
  },
  {
   "cell_type": "markdown",
   "id": "304e6809-5373-4fd1-816d-51b52c79f9c9",
   "metadata": {},
   "source": [
    "Question7: Explain the Central Limit Theorem (CLT) with example."
   ]
  },
  {
   "cell_type": "code",
   "execution_count": null,
   "id": "e1e351cd-7cfe-4107-8b0d-d803ba716f4e",
   "metadata": {},
   "outputs": [],
   "source": [
    "#Answer\n",
    "\n",
    "he Central Limit Theorem (CLT) is a fundamental statistical principle that states that the sampling \n",
    "distribution of the sample mean (or sum) of a sufficiently large number of independent, identically \n",
    "distributed random variables will be approximately normally distributed, regardless of the \n",
    "original distribution of the population from which the samples are drawn. This approximation improves\n",
    "as the sample size increases.\n",
    "\n",
    "Key Points of the CLT:\n",
    "1.Independence: The random variables must be independent of one another.\n",
    "2.Identically Distributed: The random variables must come from the same probability distribution.\n",
    "3.Sufficiently Large Sample Size: Generally, a sample size of 30 or more is considered large enough \n",
    "for the CLT to hold, though this can vary depending on the original distribution.\n",
    "\n",
    "Example:\n",
    "Imagine you are studying the heights of adult males in a city. The height distribution is not perfectly normal; it might be slightly skewed or have some outliers.\n",
    "\n",
    "1.Population: Assume the average height is 175 cm with a standard deviation of 10 cm.\n",
    "2.Sample Size: You decide to take multiple samples of size 30 from this population.\n",
    "3.Sampling Distribution: For each sample, you calculate the mean height. According to the CLT, \n",
    "as you take more and more samples of size 30, the distribution of these sample means will begin \n",
    "to resemble a normal distribution, even though the original population distribution of heights \n",
    "may not be normal."
   ]
  },
  {
   "cell_type": "markdown",
   "id": "f0d323ae-cb42-48e7-a2f7-a76a43f29c09",
   "metadata": {},
   "source": [
    "Question8: Compare z-scores and t-scores. When should you use a z-score, and when should a t-score be a pplied instead?"
   ]
  },
  {
   "cell_type": "code",
   "execution_count": null,
   "id": "10f1d816-97c6-423b-acf3-0782ccd754e5",
   "metadata": {},
   "outputs": [],
   "source": [
    "#Answer\n",
    "Z-scores\n",
    "z-score indicates how many standard deviations an individual data point is from the \n",
    "mean of the population.\n",
    "\n",
    "T-scores\n",
    "t-score also indicates how many standard deviations a data point is from the sample \n",
    "mean, but it accounts for the sample size.\n",
    "\n",
    "When to Use:\n",
    "Use a Z-score when:\n",
    "\n",
    "1.The population standard deviation is known.\n",
    "2.The sample size is large (n≥30).\n",
    "3.The underlying data is approximately normally distributed.\n",
    "\n",
    "Use a T-score when:\n",
    "\n",
    "1.The population standard deviation is unknown.\n",
    "2.The sample size is small (n<30).\n",
    "3.You are estimating the mean from a sample, especially if the data is approximately normally distributed."
   ]
  },
  {
   "cell_type": "markdown",
   "id": "506f9e5f-22c8-4ff3-87e0-3d22b5d4fef5",
   "metadata": {},
   "source": [
    "Question9: Given a sample mean of 105, a population mean of 100, a standard deviation of 15, and a sample size of 25, calculate the z-score and p-value. Based on a significance level of 0.05, do you reject or fail to reject the null hypothesis? \n",
    "Task: Write Python code to calculate the z-score and p-value for the given data. \n",
    "Objective: Apply the formula for the z-score and interpret the p-value for hypothesis testing."
   ]
  },
  {
   "cell_type": "code",
   "execution_count": 3,
   "id": "a88c0215-04fb-4691-a7e9-eef8e5ab3a11",
   "metadata": {},
   "outputs": [
    {
     "name": "stdout",
     "output_type": "stream",
     "text": [
      "Z-score: 1.6666666666666667\n",
      "P-value: 0.09558070454562939\n",
      "Fail to reject the null hypothesis.\n"
     ]
    }
   ],
   "source": [
    "import scipy.stats as stats\n",
    "import numpy as np\n",
    "\n",
    "\n",
    "sample_mean = 105\n",
    "population_mean = 100\n",
    "std_dev = 15\n",
    "sample_size = 25\n",
    "significance_level = 0.05\n",
    "\n",
    "\n",
    "z_score = (sample_mean - population_mean) / (std_dev / np.sqrt(sample_size))\n",
    "\n",
    "\n",
    "p_value = 2 * (1 - stats.norm.cdf(abs(z_score)))\n",
    "\n",
    "\n",
    "print(f\"Z-score: {z_score}\")\n",
    "print(f\"P-value: {p_value}\")\n",
    "\n",
    "\n",
    "if p_value < significance_level:\n",
    "    print(\"Reject the null hypothesis.\")\n",
    "else:\n",
    "    print(\"Fail to reject the null hypothesis.\")\n"
   ]
  },
  {
   "cell_type": "markdown",
   "id": "0e58d755-811c-4882-ba10-0cb34ece8045",
   "metadata": {},
   "source": [
    "Question10: Simulate a binomial distribution with 10 trials and a probability of success of 0.6 using Python. Generate 1,000 samples and plot the distribution. What is the expected mean and variance? \n",
    "Task: Use Python to generate the data, plot the distribution, and calculate the mean and variance. Objective: Understand the properties of a binomial distribution and verify them through simulation."
   ]
  },
  {
   "cell_type": "code",
   "execution_count": 6,
   "id": "4d55cfdb-3b45-4e52-ab59-71deda186339",
   "metadata": {},
   "outputs": [
    {
     "data": {
      "image/png": "[encoded data removed]",
      "text/plain": [
       "<Figure size 1000x600 with 1 Axes>"
      ]
     },
     "metadata": {},
     "output_type": "display_data"
    },
    {
     "name": "stdout",
     "output_type": "stream",
     "text": [
      "Expected Mean: 6.0\n",
      "Expected Variance: 2.4000000000000004\n"
     ]
    }
   ],
   "source": [
    "import numpy as np\n",
    "import matplotlib.pyplot as plt\n",
    "import seaborn as sns\n",
    "\n",
    "\n",
    "n_trials = 10\n",
    "p_success = 0.6\n",
    "n_samples = 1000\n",
    "\n",
    "\n",
    "samples = np.random.binomial(n_trials, p_success, n_samples)\n",
    "\n",
    "\n",
    "expected_mean = n_trials * p_success\n",
    "expected_variance = n_trials * p_success * (1 - p_success)\n",
    "\n",
    "\n",
    "plt.figure(figsize=(10, 6))\n",
    "sns.histplot(samples, bins=range(n_trials + 2), kde=False, stat=\"probability\", color='skyblue', edgecolor='black')\n",
    "plt.title('Binomial Distribution (n=10, p=0.6)')\n",
    "plt.xlabel('Number of Successes')\n",
    "plt.ylabel('Probability')\n",
    "plt.xticks(range(n_trials + 1))\n",
    "plt.grid(axis='y', linestyle='--')\n",
    "\n",
    "\n",
    "plt.show()\n",
    "\n",
    "\n",
    "print(f\"Expected Mean: {expected_mean}\")\n",
    "print(f\"Expected Variance: {expected_variance}\")\n"
   ]
  },
  {
   "cell_type": "code",
   "execution_count": null,
   "id": "cbc370d5-ed23-4ed1-98b4-3b80d01bf632",
   "metadata": {},
   "outputs": [],
   "source": []
  }
 ],
 "metadata": {
  "kernelspec": {
   "display_name": "Python 3 (ipykernel)",
   "language": "python",
   "name": "python3"
  },
  "language_info": {
   "codemirror_mode": {
    "name": "ipython",
    "version": 3
   },
   "file_extension": ".py",
   "mimetype": "text/x-python",
   "name": "python",
   "nbconvert_exporter": "python",
   "pygments_lexer": "ipython3",
   "version": "3.12.4"
  }
 },
 "nbformat": 4,
 "nbformat_minor": 5
}
